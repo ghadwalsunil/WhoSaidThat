{
 "cells": [
  {
   "cell_type": "code",
   "execution_count": 26,
   "id": "98c8eed6",
   "metadata": {},
   "outputs": [],
   "source": [
    "import pandas as pd\n",
    "import srt, os\n",
    "from datetime import timedelta"
   ]
  },
  {
   "cell_type": "code",
   "execution_count": 67,
   "id": "7206b1ce",
   "metadata": {},
   "outputs": [],
   "source": [
    "def create_srt(df, video_name, video_dir):\n",
    "    temp_df = df[df[\"file_name\"] == video_name].copy()\n",
    "\n",
    "    temp_df.reset_index(drop=True, inplace=True)\n",
    "\n",
    "    temp_df = (\n",
    "        temp_df[[\"segment_id\", \"speaker\", \"word\", \"word_start\", \"word_end\"]]\n",
    "        .groupby([\"segment_id\", \"speaker\"], as_index=False)\n",
    "        .agg({\"word\": \" \".join, \"word_start\": min, \"word_end\": max})\n",
    "    )\n",
    "\n",
    "    temp_df[\"segment_id\"] = temp_df.index + 1\n",
    "\n",
    "    srt_list = temp_df.apply(\n",
    "        lambda row: srt.Subtitle(\n",
    "            index=row[\"segment_id\"],\n",
    "            start=timedelta(seconds=row[\"word_start\"] if row[\"word_start\"] < 0.1 else row[\"word_start\"] - 0.1),\n",
    "            end=timedelta(seconds=row[\"word_end\"] + 0.1),\n",
    "            content=f\"{row['speaker']}: {row['word']}\",\n",
    "        ),\n",
    "        axis=1,\n",
    "    ).to_list()\n",
    "\n",
    "    srt_string = srt.compose(srt_list)\n",
    "    with open(\n",
    "        os.path.join(\n",
    "            video_dir,\n",
    "            os.path.splitext(video_name)[0] + \".srt\",\n",
    "        ),\n",
    "        \"w\",\n",
    "    ) as f:\n",
    "        f.write(srt_string)\n"
   ]
  },
  {
   "cell_type": "code",
   "execution_count": 75,
   "id": "ab947d85",
   "metadata": {},
   "outputs": [],
   "source": [
    "df = pd.read_excel(\"../../Dataset/Transcriptions_MediumModel.xlsx\", sheet_name=\"WordLevel\")"
   ]
  },
  {
   "cell_type": "code",
   "execution_count": 76,
   "id": "cd0dd2d5",
   "metadata": {},
   "outputs": [],
   "source": [
    "file_list = df[df[\"speaker\"].notnull()][\"file_name\"].unique()\n",
    "for item in file_list:\n",
    "    create_srt(df, item, \"../../Dataset/Videos\")"
   ]
  }
 ],
 "metadata": {
  "kernelspec": {
   "display_name": "Python 3 (ipykernel)",
   "language": "python",
   "name": "python3"
  },
  "language_info": {
   "codemirror_mode": {
    "name": "ipython",
    "version": 3
   },
   "file_extension": ".py",
   "mimetype": "text/x-python",
   "name": "python",
   "nbconvert_exporter": "python",
   "pygments_lexer": "ipython3",
   "version": "3.10.9"
  }
 },
 "nbformat": 4,
 "nbformat_minor": 5
}
