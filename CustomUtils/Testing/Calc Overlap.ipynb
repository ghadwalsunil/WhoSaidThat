{
 "cells": [
  {
   "cell_type": "code",
   "execution_count": 7,
   "id": "150bc194",
   "metadata": {},
   "outputs": [],
   "source": [
    "import os\n",
    "import pickle\n",
    "from collections import defaultdict\n",
    "from itertools import combinations"
   ]
  },
  {
   "cell_type": "code",
   "execution_count": 2,
   "id": "b35b628b",
   "metadata": {},
   "outputs": [],
   "source": [
    "file_path = \"../../output/run_output_final/final_diarization_output_MY_DATASET_ALL.pckl\""
   ]
  },
  {
   "cell_type": "code",
   "execution_count": 3,
   "id": "40e1610d",
   "metadata": {},
   "outputs": [],
   "source": [
    "dia_output = pickle.load(open(file_path, \"rb\"))"
   ]
  },
  {
   "cell_type": "code",
   "execution_count": 9,
   "id": "6dfdd132",
   "metadata": {},
   "outputs": [
    {
     "data": {
      "text/plain": [
       "dict_keys(['StarTalk_Cosmic_780_850', 'StarTalk_Mars_1680_1780', 'StarTalk_Mars_1109_1175', 'StarTalk_CMBR_270_308', 'StarTalk_Farming_2405_2500', 'StarTalk_Questions_1250_1350', 'StarTalk_FlyingVehicles_2446_2508', 'StarTalk_Mars_380_450', 'StarTalk_Mars_1345_1426', 'StarTalk_Consciousness_2314_2387', 'StarTalk_Sleep_1602_1639', 'StarTalk_Questions_690_750', 'StarTalk_Farming_1059_1180', 'StarTalk_Sleep_382_450', 'StarTalk_Mars_927_1025', 'StarTalk_FlyingVehicles_780_811', 'StarTalk_FlyingVehicles_2670_2710', 'StarTalk_Consciousness_1075_1175', 'StarTalk_Cosmic_1550_1620', 'StarTalk_Sleep_748_796', 'StarTalk_Mars_2210_2270', 'StarTalk_Mars_2315_2376', 'StarTalk_FlyingVehicles_674_719', 'StarTalk_Consciousness_2190_2254', 'StarTalk_Sleep_2470_2551', 'StarTalk_Sleep_2099_2160', 'StarTalk_Cosmic_1820_1900', 'MagnusCarlson_542_599', 'StarTalk_Mars_2020_2095', 'StarTalk_Consciousness_683_784', 'StarTalk_Cosmic_1350_1442', 'StarTalk_CMBR_190_225', 'StarTalk_FlyingVehicles_949_1000', 'StarTalk_Cosmic_1050_1130', 'NDT_India_19_88', 'StarTalk_Farming_0_98', 'StarTalk_Cosmic_440_532', 'StarTalk_Sleep_1152_1211', 'StarTalk_Mars_1810_1890', 'StarTalk_Cosmic_200_290', 'StarTalk_FlyingVehicles_1980_2040', 'StarTalk_FlyingVehicles_300_340', 'StarTalk_Cosmic_2225_2300', 'StarTalk_Sleep_1980_2041', 'StarTalk_Consciousness_56_180', 'StarTalk_Cosmic_600_700', 'StarTalk_Consciousness_1799_1887', 'StarTalk_Mars_1026_1086', 'StarTalk_Mars_1430_1500', 'StarTalk_Cosmic_1135_1200', 'StarTalk_Farming_307_387', 'StarTalk_CMBR_319_356', 'StarTalk_FlyingVehicles_1001_1043', 'StarTalk_Mars_201_5_302', 'StarTalk_Questions_1660_1710', 'StarTalk_Cosmic_2600_2683', 'StarTalk_CMBR_92_152', 'StarTalk_Sleep_2379_2443', 'StarTalk_Questions_831_5_924', 'StarTalk_Consciousness_2254_2314', 'StarTalk_Farming_2550_2645', 'StarTalk_Farming_1700_1800', 'SkySports_1_255_535', 'SkySports_2_192_309', 'TalkSport_1_0_131', 'SkySports_1_535_765', 'PiersMorgan_3_0_135', 'PiersMorgan_1_0_165', 'ESPN_1', 'PiersMorgan_1_165_368', 'SkySports_2_0_192', 'SkySports_1_0_255', 'PiersMorgan_2', 'SkySports_1_765_918', 'PiersMorgan_3_135_334', 'TalkSport_1_131_310'])"
      ]
     },
     "execution_count": 9,
     "metadata": {},
     "output_type": "execute_result"
    }
   ],
   "source": [
    "dia_output.keys()"
   ]
  },
  {
   "cell_type": "code",
   "execution_count": 5,
   "id": "f15eb294",
   "metadata": {},
   "outputs": [
    {
     "data": {
      "text/plain": [
       "{'SPEAKER_00': [(0.01, 6.99),\n",
       "  (7.9, 8.01),\n",
       "  (8.36, 8.41),\n",
       "  (16.95, 17.55),\n",
       "  (17.85, 21.5),\n",
       "  (23.13, 23.73),\n",
       "  (31.66, 38.29),\n",
       "  (39.84, 42.89),\n",
       "  (43.06, 43.85),\n",
       "  (44.86, 45.0),\n",
       "  (45.02, 45.49),\n",
       "  (46.09, 46.1)],\n",
       " 'SPEAKER_02': [(7.89, 7.9),\n",
       "  (8.01, 8.36),\n",
       "  (8.41, 12.23),\n",
       "  (13.08, 14.27),\n",
       "  (14.78, 17.28),\n",
       "  (17.89, 18.58),\n",
       "  (21.81, 21.83),\n",
       "  (45.49, 45.59),\n",
       "  (45.88, 46.09),\n",
       "  (47.0, 47.33),\n",
       "  (50.23, 54.51),\n",
       "  (54.85, 70.09)],\n",
       " 'SPEAKER_01': [(18.58, 18.6),\n",
       "  (21.83, 23.13),\n",
       "  (24.03, 30.57),\n",
       "  (31.1, 32.42),\n",
       "  (35.53, 39.87),\n",
       "  (40.89, 41.26),\n",
       "  (45.0, 51.98),\n",
       "  (52.47, 53.37)]}"
      ]
     },
     "execution_count": 5,
     "metadata": {},
     "output_type": "execute_result"
    }
   ],
   "source": [
    "dia_output[list(dia_output.keys())[0]][\"audio_12\"]"
   ]
  },
  {
   "cell_type": "code",
   "execution_count": 15,
   "id": "68ae7aa0",
   "metadata": {},
   "outputs": [],
   "source": [
    "def calculate_total_duration(speakers_intervals):\n",
    "    total_duration = 0\n",
    "    for intervals in speakers_intervals.values():\n",
    "        for start, end in intervals:\n",
    "            total_duration += (end - start)\n",
    "    return total_duration\n",
    "\n",
    "def calculate_overlap(speakers_intervals):\n",
    "    # Convert intervals to events (start and end points)\n",
    "    events = []\n",
    "    for speaker, intervals in speakers_intervals.items():\n",
    "        for start, end in intervals:\n",
    "            events.append((start, 'start', speaker))\n",
    "            events.append((end, 'end', speaker))\n",
    "    \n",
    "    # Sort events by time\n",
    "    events.sort()\n",
    "\n",
    "    # Dictionary to keep track of active speakers and total overlap time\n",
    "    active_speakers = defaultdict(int)\n",
    "    total_overlap = 0\n",
    "    last_time = 0\n",
    "\n",
    "    # Process events\n",
    "    for time, event_type, speaker in events:\n",
    "        if event_type == 'start':\n",
    "            if len(active_speakers) > 1:\n",
    "                total_overlap += (time - last_time)\n",
    "            active_speakers[speaker] += 1\n",
    "        elif event_type == 'end':\n",
    "            if len(active_speakers) > 1:\n",
    "                total_overlap += (time - last_time)\n",
    "            active_speakers[speaker] -= 1\n",
    "            if active_speakers[speaker] == 0:\n",
    "                del active_speakers[speaker]\n",
    "        \n",
    "        last_time = time\n",
    "        \n",
    "    total_length = calculate_total_duration(speakers_intervals)\n",
    "\n",
    "    return total_overlap/total_length"
   ]
  },
  {
   "cell_type": "code",
   "execution_count": 16,
   "id": "e06c8723",
   "metadata": {},
   "outputs": [],
   "source": [
    "overlap = {}\n",
    "for video_file in dia_output.keys():\n",
    "    overlap[video_file] = calculate_overlap(dia_output[video_file][\"audio_12\"])"
   ]
  },
  {
   "cell_type": "code",
   "execution_count": 17,
   "id": "d5fcbb0d",
   "metadata": {},
   "outputs": [
    {
     "data": {
      "text/plain": [
       "{'StarTalk_Cosmic_780_850': 0.11863024867509157,\n",
       " 'StarTalk_Mars_1680_1780': 0.12220593624038105,\n",
       " 'StarTalk_Mars_1109_1175': 0.08670172802404198,\n",
       " 'StarTalk_CMBR_270_308': 0.03562340966921114,\n",
       " 'StarTalk_Farming_2405_2500': 0.04453395994181483,\n",
       " 'StarTalk_Questions_1250_1350': 0.04799338022341754,\n",
       " 'StarTalk_FlyingVehicles_2446_2508': 0.055820846369175,\n",
       " 'StarTalk_Mars_380_450': 0.09417409184372849,\n",
       " 'StarTalk_Mars_1345_1426': 0.11093463653023831,\n",
       " 'StarTalk_Consciousness_2314_2387': 0.02826698238863399,\n",
       " 'StarTalk_Sleep_1602_1639': 0.04590256265840616,\n",
       " 'StarTalk_Questions_690_750': 0.16734296380457714,\n",
       " 'StarTalk_Farming_1059_1180': 0.01607436816113106,\n",
       " 'StarTalk_Sleep_382_450': 0.09543065103113635,\n",
       " 'StarTalk_Mars_927_1025': 0.130001896453632,\n",
       " 'StarTalk_FlyingVehicles_780_811': 0.15095936794582407,\n",
       " 'StarTalk_FlyingVehicles_2670_2710': 0.13578345070422537,\n",
       " 'StarTalk_Consciousness_1075_1175': 0.0870590648072187,\n",
       " 'StarTalk_Cosmic_1550_1620': 0.13298983428491853,\n",
       " 'StarTalk_Sleep_748_796': 0.13761985335589383,\n",
       " 'StarTalk_Mars_2210_2270': 0.018574805808848325,\n",
       " 'StarTalk_Mars_2315_2376': 0.1540524433849822,\n",
       " 'StarTalk_FlyingVehicles_674_719': 0.14891065360783534,\n",
       " 'StarTalk_Consciousness_2190_2254': 0.017380109430318723,\n",
       " 'StarTalk_Sleep_2470_2551': 0.026708860759493667,\n",
       " 'StarTalk_Sleep_2099_2160': 0.07571473452717557,\n",
       " 'StarTalk_Cosmic_1820_1900': 0.07593159775395604,\n",
       " 'MagnusCarlson_542_599': 0.007744039127776553,\n",
       " 'StarTalk_Mars_2020_2095': 0.07611655773420478,\n",
       " 'StarTalk_Consciousness_683_784': 0.06712463199214914,\n",
       " 'StarTalk_Cosmic_1350_1442': 0.12001639848314044,\n",
       " 'StarTalk_CMBR_190_225': 0.08767047035903153,\n",
       " 'StarTalk_FlyingVehicles_949_1000': 0.07888234176012171,\n",
       " 'StarTalk_Cosmic_1050_1130': 0.1532708193793257,\n",
       " 'NDT_India_19_88': 0.029655657062543868,\n",
       " 'StarTalk_Farming_0_98': 0.04698874917273337,\n",
       " 'StarTalk_Cosmic_440_532': 0.02123893805309737,\n",
       " 'StarTalk_Sleep_1152_1211': 0.04181913225300566,\n",
       " 'StarTalk_Mars_1810_1890': 0.10713442003307336,\n",
       " 'StarTalk_Cosmic_200_290': 0.036390600045630786,\n",
       " 'StarTalk_FlyingVehicles_1980_2040': 0.06378704168759416,\n",
       " 'StarTalk_FlyingVehicles_300_340': 0.09700355510411346,\n",
       " 'StarTalk_Cosmic_2225_2300': 0.08459139114160946,\n",
       " 'StarTalk_Sleep_1980_2041': 0.07564698075646982,\n",
       " 'StarTalk_Consciousness_56_180': 0.024687211352758396,\n",
       " 'StarTalk_Cosmic_600_700': 0.12680518028510196,\n",
       " 'StarTalk_Consciousness_1799_1887': 0.05127349571794019,\n",
       " 'StarTalk_Mars_1026_1086': 0.18864654051711682,\n",
       " 'StarTalk_Mars_1430_1500': 0.10841713734674231,\n",
       " 'StarTalk_Cosmic_1135_1200': 0.03980099502487571,\n",
       " 'StarTalk_Farming_307_387': 0.024969300040933264,\n",
       " 'StarTalk_CMBR_319_356': 0.03150157507875389,\n",
       " 'StarTalk_FlyingVehicles_1001_1043': 0.16608283535957122,\n",
       " 'StarTalk_Mars_201_5_302': 0.08922558922558928,\n",
       " 'StarTalk_Questions_1660_1710': 0.1085790884718499,\n",
       " 'StarTalk_Cosmic_2600_2683': 0.10113718848294222,\n",
       " 'StarTalk_CMBR_92_152': 0.10918901761625144,\n",
       " 'StarTalk_Sleep_2379_2443': 0.0847283406754772,\n",
       " 'StarTalk_Questions_831_5_924': 0.08347043983766568,\n",
       " 'StarTalk_Consciousness_2254_2314': 0.09594217184162974,\n",
       " 'StarTalk_Farming_2550_2645': 0.06760530602746129,\n",
       " 'StarTalk_Farming_1700_1800': 0.0658061542007607,\n",
       " 'SkySports_1_255_535': 0.05283898159887612,\n",
       " 'SkySports_2_192_309': 0.07478291688818003,\n",
       " 'TalkSport_1_0_131': 0.004644761740925445,\n",
       " 'SkySports_1_535_765': 0.11593695271453586,\n",
       " 'PiersMorgan_3_0_135': 0.1518513821962971,\n",
       " 'PiersMorgan_1_0_165': 0.16195719925202565,\n",
       " 'ESPN_1': 0.09703809570745647,\n",
       " 'PiersMorgan_1_165_368': 0.2829718274744455,\n",
       " 'SkySports_2_0_192': 0.0017486338797814613,\n",
       " 'SkySports_1_0_255': 0.025549686770667004,\n",
       " 'PiersMorgan_2': 0.05073334936282773,\n",
       " 'SkySports_1_765_918': 0.09414691632840111,\n",
       " 'PiersMorgan_3_135_334': 0.22627283326855813,\n",
       " 'TalkSport_1_131_310': 0.0802101386481804}"
      ]
     },
     "execution_count": 17,
     "metadata": {},
     "output_type": "execute_result"
    }
   ],
   "source": [
    "overlap"
   ]
  }
 ],
 "metadata": {
  "kernelspec": {
   "display_name": "Python 3 (ipykernel)",
   "language": "python",
   "name": "python3"
  },
  "language_info": {
   "codemirror_mode": {
    "name": "ipython",
    "version": 3
   },
   "file_extension": ".py",
   "mimetype": "text/x-python",
   "name": "python",
   "nbconvert_exporter": "python",
   "pygments_lexer": "ipython3",
   "version": "3.8.0"
  }
 },
 "nbformat": 4,
 "nbformat_minor": 5
}
