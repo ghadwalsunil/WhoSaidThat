{
 "cells": [
  {
   "cell_type": "code",
   "execution_count": 7,
   "id": "4eb2a68c",
   "metadata": {},
   "outputs": [],
   "source": [
    "import cv2\n",
    "\n",
    "def extract_frames(video_path, output_folder, track_id):\n",
    "    # Open the video file\n",
    "    cap = cv2.VideoCapture(video_path)\n",
    "    if not cap.isOpened():\n",
    "        print(\"Error: Unable to open video file.\")\n",
    "        return\n",
    "    \n",
    "    # Read and save each frame\n",
    "    frame_count = 0\n",
    "    while True:\n",
    "        ret, frame = cap.read()\n",
    "        if not ret:\n",
    "            break  # Break the loop if there are no more frames\n",
    "        frame_count += 1\n",
    "        \n",
    "        # Save the frame as an image\n",
    "        frame_filename = f\"{output_folder}/track_{track_id}_{frame_count:04d}.jpg\"\n",
    "        cv2.imwrite(frame_filename, frame)\n",
    "    \n",
    "    # Release the video capture object and close all windows\n",
    "    cap.release()\n",
    "    cv2.destroyAllWindows()"
   ]
  },
  {
   "cell_type": "code",
   "execution_count": 8,
   "id": "a524c8d5",
   "metadata": {},
   "outputs": [],
   "source": [
    "output_dir = \"/home/sunil/projects/Stuff/Combined/del_later/frames\""
   ]
  },
  {
   "cell_type": "code",
   "execution_count": 13,
   "id": "27c83227",
   "metadata": {},
   "outputs": [],
   "source": [
    "# Example usage\n",
    "track_id = 14\n",
    "video_path = f\"/vol3/sunil/output/video_temp/ESPN_1/pycrop/{track_id:05d}.avi\""
   ]
  },
  {
   "cell_type": "code",
   "execution_count": 18,
   "id": "216eff1c",
   "metadata": {},
   "outputs": [],
   "source": [
    "# Example usage\n",
    "track_id = 32\n",
    "video_path = f\"/home/sunil/projects/Stuff/Combined/WhoSaidThat/output/video_temp/2qQs3Y9OJX0_c_03/pycrop/{track_id:05d}.avi\""
   ]
  },
  {
   "cell_type": "code",
   "execution_count": 19,
   "id": "29d420ed",
   "metadata": {},
   "outputs": [],
   "source": [
    "extract_frames(video_path, output_dir, track_id)"
   ]
  }
 ],
 "metadata": {
  "kernelspec": {
   "display_name": "Python 3 (ipykernel)",
   "language": "python",
   "name": "python3"
  },
  "language_info": {
   "codemirror_mode": {
    "name": "ipython",
    "version": 3
   },
   "file_extension": ".py",
   "mimetype": "text/x-python",
   "name": "python",
   "nbconvert_exporter": "python",
   "pygments_lexer": "ipython3",
   "version": "3.8.0"
  }
 },
 "nbformat": 4,
 "nbformat_minor": 5
}
