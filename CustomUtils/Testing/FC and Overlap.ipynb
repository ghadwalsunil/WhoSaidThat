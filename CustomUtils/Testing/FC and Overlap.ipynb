{
 "cells": [
  {
   "cell_type": "code",
   "execution_count": 1,
   "id": "d3261816",
   "metadata": {},
   "outputs": [],
   "source": [
    "import pickle\n",
    "import pandas as pd\n",
    "import os"
   ]
  },
  {
   "cell_type": "code",
   "execution_count": 8,
   "id": "ed3fbb90",
   "metadata": {},
   "outputs": [],
   "source": [
    "dataset_dir = \"/vol3/sunil/FinalDataset/videos/\"\n",
    "file_list = [os.path.splitext(f)[0] for f in os.listdir(dataset_dir)]"
   ]
  },
  {
   "cell_type": "code",
   "execution_count": 12,
   "id": "32ea6a25",
   "metadata": {},
   "outputs": [],
   "source": [
    "# final_df_list = []\n",
    "# for f in file_list:\n",
    "#     encoding_df_dir = f\"/home/sunil/projects/Stuff/Combined/WhoSaidThat/output/video_temp/{f}/pywork/encoding_df.pckl\"\n",
    "#     encoding_df = pickle.load(open(encoding_df_dir, \"rb\"))\n",
    "#     encoding_df[\"file_name\"] = f\n",
    "#     encoding_df = encoding_df.drop('Encoding', axis=1)\n",
    "#     final_df_list.append(encoding_df)\n",
    "    \n",
    "# final_df = pd.concat(final_df_list)\n",
    "# final_df.to_excel(\"../../../del_later/FaceClusteringAnnotations.xlsx\", index=False)"
   ]
  },
  {
   "cell_type": "code",
   "execution_count": 45,
   "id": "12340f2d",
   "metadata": {},
   "outputs": [],
   "source": [
    "def match_output(output_df, gt_col, pred_col, matched_col):\n",
    "    \n",
    "    output_df = output_df.copy()\n",
    "\n",
    "    pred_list = output_df[pred_col].unique()\n",
    "    pred_match = {}\n",
    "    pred_count = {}\n",
    "\n",
    "    for pred in pred_list:\n",
    "        if pred == \"Unassigned\":\n",
    "            pred_match[pred] = \"Unassigned\"\n",
    "        else:\n",
    "            pred_match[pred] = output_df[output_df[pred_col] == pred][gt_col].value_counts().idxmax()\n",
    "            pred_count[pred] = len(output_df[output_df[pred_col] == pred])\n",
    "\n",
    "    temp_count = {}\n",
    "\n",
    "    for pred, gt in pred_match.items():\n",
    "        if gt in temp_count.keys():\n",
    "            temp_count[gt].append(pred)\n",
    "        else:\n",
    "            temp_count[gt] = [pred]\n",
    "\n",
    "    for gt, preds in temp_count.items():\n",
    "        if len(preds) > 1:\n",
    "            max_count = 0\n",
    "            max_match = None\n",
    "            for pred in preds:\n",
    "                if pred_count[pred] > max_count:\n",
    "                    if max_match is None:\n",
    "                        max_match = pred\n",
    "                        max_count = pred_count[pred]\n",
    "                    else:\n",
    "                        pred_match[max_match] = \"Unassigned\"\n",
    "                        max_match = pred\n",
    "                        max_count = pred_count[pred]\n",
    "                else:\n",
    "                    pred_match[pred] = \"Unassigned\"\n",
    "            pred_match[max_match] = gt\n",
    "\n",
    "    output_df[matched_col] = output_df.apply(\n",
    "        lambda row: pred_match[row[pred_col]],\n",
    "        axis=1,\n",
    "    )\n",
    "\n",
    "    return output_df\n",
    "\n",
    "\n",
    "def compute_performance(output_df, gt_col, pred_col, matched_col):\n",
    "\n",
    "    def _match(gt, pred, matched):\n",
    "        if pred == \"Unassigned\":\n",
    "            return \"Missed\"\n",
    "        elif matched == \"Unassigned\" or matched != gt:\n",
    "            return \"Confusion\"\n",
    "        else:\n",
    "            return \"Correct\"\n",
    "\n",
    "    output_df[\"matched_result\"] = output_df.apply(\n",
    "        lambda row: _match(row[gt_col], row[pred_col], row[matched_col]),\n",
    "        axis=1,\n",
    "    )\n",
    "\n",
    "    return output_df"
   ]
  },
  {
   "cell_type": "code",
   "execution_count": 17,
   "id": "58bc7331",
   "metadata": {},
   "outputs": [
    {
     "data": {
      "text/html": [
       "<div>\n",
       "<style scoped>\n",
       "    .dataframe tbody tr th:only-of-type {\n",
       "        vertical-align: middle;\n",
       "    }\n",
       "\n",
       "    .dataframe tbody tr th {\n",
       "        vertical-align: top;\n",
       "    }\n",
       "\n",
       "    .dataframe thead th {\n",
       "        text-align: right;\n",
       "    }\n",
       "</style>\n",
       "<table border=\"1\" class=\"dataframe\">\n",
       "  <thead>\n",
       "    <tr style=\"text-align: right;\">\n",
       "      <th></th>\n",
       "      <th>Filename</th>\n",
       "      <th>Track</th>\n",
       "      <th>GT</th>\n",
       "      <th>Marked</th>\n",
       "    </tr>\n",
       "  </thead>\n",
       "  <tbody>\n",
       "    <tr>\n",
       "      <th>0</th>\n",
       "      <td>StarTalk_Cosmic_780_850</td>\n",
       "      <td>0</td>\n",
       "      <td>Speaker_01</td>\n",
       "      <td>1</td>\n",
       "    </tr>\n",
       "    <tr>\n",
       "      <th>1</th>\n",
       "      <td>StarTalk_Cosmic_780_850</td>\n",
       "      <td>1</td>\n",
       "      <td>Speaker_02</td>\n",
       "      <td>2</td>\n",
       "    </tr>\n",
       "    <tr>\n",
       "      <th>2</th>\n",
       "      <td>StarTalk_Cosmic_780_850</td>\n",
       "      <td>2</td>\n",
       "      <td>Speaker_01</td>\n",
       "      <td>1</td>\n",
       "    </tr>\n",
       "    <tr>\n",
       "      <th>3</th>\n",
       "      <td>StarTalk_Cosmic_780_850</td>\n",
       "      <td>3</td>\n",
       "      <td>Speaker_03</td>\n",
       "      <td>3</td>\n",
       "    </tr>\n",
       "    <tr>\n",
       "      <th>4</th>\n",
       "      <td>StarTalk_Cosmic_780_850</td>\n",
       "      <td>4</td>\n",
       "      <td>Speaker_01</td>\n",
       "      <td>1</td>\n",
       "    </tr>\n",
       "    <tr>\n",
       "      <th>...</th>\n",
       "      <td>...</td>\n",
       "      <td>...</td>\n",
       "      <td>...</td>\n",
       "      <td>...</td>\n",
       "    </tr>\n",
       "    <tr>\n",
       "      <th>962</th>\n",
       "      <td>StarTalk_Farming_1700_1800</td>\n",
       "      <td>8</td>\n",
       "      <td>Speaker_01</td>\n",
       "      <td>1</td>\n",
       "    </tr>\n",
       "    <tr>\n",
       "      <th>963</th>\n",
       "      <td>StarTalk_Farming_1700_1800</td>\n",
       "      <td>9</td>\n",
       "      <td>Speaker_03</td>\n",
       "      <td>3</td>\n",
       "    </tr>\n",
       "    <tr>\n",
       "      <th>964</th>\n",
       "      <td>StarTalk_Farming_1700_1800</td>\n",
       "      <td>10</td>\n",
       "      <td>Speaker_02</td>\n",
       "      <td>2</td>\n",
       "    </tr>\n",
       "    <tr>\n",
       "      <th>965</th>\n",
       "      <td>StarTalk_Farming_1700_1800</td>\n",
       "      <td>11</td>\n",
       "      <td>Speaker_04</td>\n",
       "      <td>4</td>\n",
       "    </tr>\n",
       "    <tr>\n",
       "      <th>966</th>\n",
       "      <td>StarTalk_Farming_1700_1800</td>\n",
       "      <td>12</td>\n",
       "      <td>Speaker_01</td>\n",
       "      <td>1</td>\n",
       "    </tr>\n",
       "  </tbody>\n",
       "</table>\n",
       "<p>967 rows × 4 columns</p>\n",
       "</div>"
      ],
      "text/plain": [
       "                       Filename  Track          GT Marked\n",
       "0       StarTalk_Cosmic_780_850      0  Speaker_01      1\n",
       "1       StarTalk_Cosmic_780_850      1  Speaker_02      2\n",
       "2       StarTalk_Cosmic_780_850      2  Speaker_01      1\n",
       "3       StarTalk_Cosmic_780_850      3  Speaker_03      3\n",
       "4       StarTalk_Cosmic_780_850      4  Speaker_01      1\n",
       "..                          ...    ...         ...    ...\n",
       "962  StarTalk_Farming_1700_1800      8  Speaker_01      1\n",
       "963  StarTalk_Farming_1700_1800      9  Speaker_03      3\n",
       "964  StarTalk_Farming_1700_1800     10  Speaker_02      2\n",
       "965  StarTalk_Farming_1700_1800     11  Speaker_04      4\n",
       "966  StarTalk_Farming_1700_1800     12  Speaker_01      1\n",
       "\n",
       "[967 rows x 4 columns]"
      ]
     },
     "execution_count": 17,
     "metadata": {},
     "output_type": "execute_result"
    }
   ],
   "source": [
    "fa_df = pd.read_excel(\"../../../del_later/FaceClusteringAnnotations.xlsx\")\n",
    "fa_df"
   ]
  },
  {
   "cell_type": "code",
   "execution_count": 85,
   "id": "06985142",
   "metadata": {},
   "outputs": [],
   "source": [
    "track_cluster_df_list = []\n",
    "for f in file_list:\n",
    "    encoding_df_dir = f\"/home/sunil/projects/Stuff/Combined/WhoSaidThat/output/video_temp/{f}/pywork/encoding_df_w_clustering.pckl\"\n",
    "    encoding_df = pickle.load(open(encoding_df_dir, \"rb\"))\n",
    "    encoding_df[\"Filename\"] = f\n",
    "    encoding_df = encoding_df.drop('Encoding', axis=1)\n",
    "    track_cluster_df_list.append(encoding_df)\n",
    "    \n",
    "track_cluster_df = pd.concat(track_cluster_df_list)"
   ]
  },
  {
   "cell_type": "code",
   "execution_count": 86,
   "id": "614e68c7",
   "metadata": {},
   "outputs": [
    {
     "data": {
      "text/html": [
       "<div>\n",
       "<style scoped>\n",
       "    .dataframe tbody tr th:only-of-type {\n",
       "        vertical-align: middle;\n",
       "    }\n",
       "\n",
       "    .dataframe tbody tr th {\n",
       "        vertical-align: top;\n",
       "    }\n",
       "\n",
       "    .dataframe thead th {\n",
       "        text-align: right;\n",
       "    }\n",
       "</style>\n",
       "<table border=\"1\" class=\"dataframe\">\n",
       "  <thead>\n",
       "    <tr style=\"text-align: right;\">\n",
       "      <th></th>\n",
       "      <th>Frame</th>\n",
       "      <th>Track</th>\n",
       "      <th>Score</th>\n",
       "      <th>S</th>\n",
       "      <th>X</th>\n",
       "      <th>Y</th>\n",
       "      <th>SimpleClusters_wo_Track</th>\n",
       "      <th>SimpleClusters</th>\n",
       "      <th>Filename</th>\n",
       "    </tr>\n",
       "  </thead>\n",
       "  <tbody>\n",
       "    <tr>\n",
       "      <th>0</th>\n",
       "      <td>0</td>\n",
       "      <td>0</td>\n",
       "      <td>1.733333</td>\n",
       "      <td>222.861984</td>\n",
       "      <td>906.291321</td>\n",
       "      <td>474.285416</td>\n",
       "      <td>0</td>\n",
       "      <td>0</td>\n",
       "      <td>StarTalk_Cosmic_780_850</td>\n",
       "    </tr>\n",
       "    <tr>\n",
       "      <th>1</th>\n",
       "      <td>1</td>\n",
       "      <td>0</td>\n",
       "      <td>1.825000</td>\n",
       "      <td>224.087524</td>\n",
       "      <td>906.291321</td>\n",
       "      <td>474.748413</td>\n",
       "      <td>0</td>\n",
       "      <td>0</td>\n",
       "      <td>StarTalk_Cosmic_780_850</td>\n",
       "    </tr>\n",
       "    <tr>\n",
       "      <th>2</th>\n",
       "      <td>2</td>\n",
       "      <td>0</td>\n",
       "      <td>2.040000</td>\n",
       "      <td>224.105255</td>\n",
       "      <td>906.291321</td>\n",
       "      <td>476.064102</td>\n",
       "      <td>0</td>\n",
       "      <td>0</td>\n",
       "      <td>StarTalk_Cosmic_780_850</td>\n",
       "    </tr>\n",
       "    <tr>\n",
       "      <th>3</th>\n",
       "      <td>3</td>\n",
       "      <td>0</td>\n",
       "      <td>2.300000</td>\n",
       "      <td>224.292931</td>\n",
       "      <td>906.291321</td>\n",
       "      <td>476.338852</td>\n",
       "      <td>0</td>\n",
       "      <td>0</td>\n",
       "      <td>StarTalk_Cosmic_780_850</td>\n",
       "    </tr>\n",
       "    <tr>\n",
       "      <th>4</th>\n",
       "      <td>4</td>\n",
       "      <td>0</td>\n",
       "      <td>2.560000</td>\n",
       "      <td>224.339714</td>\n",
       "      <td>906.291321</td>\n",
       "      <td>476.338852</td>\n",
       "      <td>0</td>\n",
       "      <td>0</td>\n",
       "      <td>StarTalk_Cosmic_780_850</td>\n",
       "    </tr>\n",
       "    <tr>\n",
       "      <th>...</th>\n",
       "      <td>...</td>\n",
       "      <td>...</td>\n",
       "      <td>...</td>\n",
       "      <td>...</td>\n",
       "      <td>...</td>\n",
       "      <td>...</td>\n",
       "      <td>...</td>\n",
       "      <td>...</td>\n",
       "      <td>...</td>\n",
       "    </tr>\n",
       "    <tr>\n",
       "      <th>1498</th>\n",
       "      <td>2496</td>\n",
       "      <td>12</td>\n",
       "      <td>2.420000</td>\n",
       "      <td>315.949226</td>\n",
       "      <td>992.813812</td>\n",
       "      <td>549.539879</td>\n",
       "      <td>1</td>\n",
       "      <td>1</td>\n",
       "      <td>StarTalk_Farming_1700_1800</td>\n",
       "    </tr>\n",
       "    <tr>\n",
       "      <th>1499</th>\n",
       "      <td>2497</td>\n",
       "      <td>12</td>\n",
       "      <td>2.225000</td>\n",
       "      <td>315.949226</td>\n",
       "      <td>992.568481</td>\n",
       "      <td>548.523827</td>\n",
       "      <td>1</td>\n",
       "      <td>1</td>\n",
       "      <td>StarTalk_Farming_1700_1800</td>\n",
       "    </tr>\n",
       "    <tr>\n",
       "      <th>1500</th>\n",
       "      <td>2498</td>\n",
       "      <td>12</td>\n",
       "      <td>2.000000</td>\n",
       "      <td>315.949226</td>\n",
       "      <td>992.262482</td>\n",
       "      <td>545.957558</td>\n",
       "      <td>1</td>\n",
       "      <td>1</td>\n",
       "      <td>StarTalk_Farming_1700_1800</td>\n",
       "    </tr>\n",
       "    <tr>\n",
       "      <th>1501</th>\n",
       "      <td>2499</td>\n",
       "      <td>12</td>\n",
       "      <td>1.700000</td>\n",
       "      <td>315.941658</td>\n",
       "      <td>992.025146</td>\n",
       "      <td>545.810181</td>\n",
       "      <td>1</td>\n",
       "      <td>1</td>\n",
       "      <td>StarTalk_Farming_1700_1800</td>\n",
       "    </tr>\n",
       "    <tr>\n",
       "      <th>1502</th>\n",
       "      <td>2500</td>\n",
       "      <td>12</td>\n",
       "      <td>1.500000</td>\n",
       "      <td>315.599426</td>\n",
       "      <td>990.939301</td>\n",
       "      <td>545.517143</td>\n",
       "      <td>1</td>\n",
       "      <td>1</td>\n",
       "      <td>StarTalk_Farming_1700_1800</td>\n",
       "    </tr>\n",
       "  </tbody>\n",
       "</table>\n",
       "<p>132944 rows × 9 columns</p>\n",
       "</div>"
      ],
      "text/plain": [
       "      Frame  Track     Score           S           X           Y  \\\n",
       "0         0      0  1.733333  222.861984  906.291321  474.285416   \n",
       "1         1      0  1.825000  224.087524  906.291321  474.748413   \n",
       "2         2      0  2.040000  224.105255  906.291321  476.064102   \n",
       "3         3      0  2.300000  224.292931  906.291321  476.338852   \n",
       "4         4      0  2.560000  224.339714  906.291321  476.338852   \n",
       "...     ...    ...       ...         ...         ...         ...   \n",
       "1498   2496     12  2.420000  315.949226  992.813812  549.539879   \n",
       "1499   2497     12  2.225000  315.949226  992.568481  548.523827   \n",
       "1500   2498     12  2.000000  315.949226  992.262482  545.957558   \n",
       "1501   2499     12  1.700000  315.941658  992.025146  545.810181   \n",
       "1502   2500     12  1.500000  315.599426  990.939301  545.517143   \n",
       "\n",
       "      SimpleClusters_wo_Track  SimpleClusters                    Filename  \n",
       "0                           0               0     StarTalk_Cosmic_780_850  \n",
       "1                           0               0     StarTalk_Cosmic_780_850  \n",
       "2                           0               0     StarTalk_Cosmic_780_850  \n",
       "3                           0               0     StarTalk_Cosmic_780_850  \n",
       "4                           0               0     StarTalk_Cosmic_780_850  \n",
       "...                       ...             ...                         ...  \n",
       "1498                        1               1  StarTalk_Farming_1700_1800  \n",
       "1499                        1               1  StarTalk_Farming_1700_1800  \n",
       "1500                        1               1  StarTalk_Farming_1700_1800  \n",
       "1501                        1               1  StarTalk_Farming_1700_1800  \n",
       "1502                        1               1  StarTalk_Farming_1700_1800  \n",
       "\n",
       "[132944 rows x 9 columns]"
      ]
     },
     "execution_count": 86,
     "metadata": {},
     "output_type": "execute_result"
    }
   ],
   "source": [
    "track_cluster_df"
   ]
  },
  {
   "cell_type": "code",
   "execution_count": 87,
   "id": "16e2a6f6",
   "metadata": {},
   "outputs": [],
   "source": [
    "track_cluster_df = track_cluster_df[[\"Filename\", \"Frame\", \"Track\", \"SimpleClusters\", \"SimpleClusters_wo_Track\"]]"
   ]
  },
  {
   "cell_type": "code",
   "execution_count": 88,
   "id": "00d55785",
   "metadata": {},
   "outputs": [
    {
     "data": {
      "text/html": [
       "<div>\n",
       "<style scoped>\n",
       "    .dataframe tbody tr th:only-of-type {\n",
       "        vertical-align: middle;\n",
       "    }\n",
       "\n",
       "    .dataframe tbody tr th {\n",
       "        vertical-align: top;\n",
       "    }\n",
       "\n",
       "    .dataframe thead th {\n",
       "        text-align: right;\n",
       "    }\n",
       "</style>\n",
       "<table border=\"1\" class=\"dataframe\">\n",
       "  <thead>\n",
       "    <tr style=\"text-align: right;\">\n",
       "      <th></th>\n",
       "      <th>Filename</th>\n",
       "      <th>Frame</th>\n",
       "      <th>Track</th>\n",
       "      <th>SimpleClusters</th>\n",
       "      <th>SimpleClusters_wo_Track</th>\n",
       "    </tr>\n",
       "  </thead>\n",
       "  <tbody>\n",
       "    <tr>\n",
       "      <th>0</th>\n",
       "      <td>StarTalk_Cosmic_780_850</td>\n",
       "      <td>0</td>\n",
       "      <td>0</td>\n",
       "      <td>0</td>\n",
       "      <td>0</td>\n",
       "    </tr>\n",
       "    <tr>\n",
       "      <th>1</th>\n",
       "      <td>StarTalk_Cosmic_780_850</td>\n",
       "      <td>1</td>\n",
       "      <td>0</td>\n",
       "      <td>0</td>\n",
       "      <td>0</td>\n",
       "    </tr>\n",
       "    <tr>\n",
       "      <th>2</th>\n",
       "      <td>StarTalk_Cosmic_780_850</td>\n",
       "      <td>2</td>\n",
       "      <td>0</td>\n",
       "      <td>0</td>\n",
       "      <td>0</td>\n",
       "    </tr>\n",
       "    <tr>\n",
       "      <th>3</th>\n",
       "      <td>StarTalk_Cosmic_780_850</td>\n",
       "      <td>3</td>\n",
       "      <td>0</td>\n",
       "      <td>0</td>\n",
       "      <td>0</td>\n",
       "    </tr>\n",
       "    <tr>\n",
       "      <th>4</th>\n",
       "      <td>StarTalk_Cosmic_780_850</td>\n",
       "      <td>4</td>\n",
       "      <td>0</td>\n",
       "      <td>0</td>\n",
       "      <td>0</td>\n",
       "    </tr>\n",
       "    <tr>\n",
       "      <th>...</th>\n",
       "      <td>...</td>\n",
       "      <td>...</td>\n",
       "      <td>...</td>\n",
       "      <td>...</td>\n",
       "      <td>...</td>\n",
       "    </tr>\n",
       "    <tr>\n",
       "      <th>1498</th>\n",
       "      <td>StarTalk_Farming_1700_1800</td>\n",
       "      <td>2496</td>\n",
       "      <td>12</td>\n",
       "      <td>1</td>\n",
       "      <td>1</td>\n",
       "    </tr>\n",
       "    <tr>\n",
       "      <th>1499</th>\n",
       "      <td>StarTalk_Farming_1700_1800</td>\n",
       "      <td>2497</td>\n",
       "      <td>12</td>\n",
       "      <td>1</td>\n",
       "      <td>1</td>\n",
       "    </tr>\n",
       "    <tr>\n",
       "      <th>1500</th>\n",
       "      <td>StarTalk_Farming_1700_1800</td>\n",
       "      <td>2498</td>\n",
       "      <td>12</td>\n",
       "      <td>1</td>\n",
       "      <td>1</td>\n",
       "    </tr>\n",
       "    <tr>\n",
       "      <th>1501</th>\n",
       "      <td>StarTalk_Farming_1700_1800</td>\n",
       "      <td>2499</td>\n",
       "      <td>12</td>\n",
       "      <td>1</td>\n",
       "      <td>1</td>\n",
       "    </tr>\n",
       "    <tr>\n",
       "      <th>1502</th>\n",
       "      <td>StarTalk_Farming_1700_1800</td>\n",
       "      <td>2500</td>\n",
       "      <td>12</td>\n",
       "      <td>1</td>\n",
       "      <td>1</td>\n",
       "    </tr>\n",
       "  </tbody>\n",
       "</table>\n",
       "<p>132944 rows × 5 columns</p>\n",
       "</div>"
      ],
      "text/plain": [
       "                        Filename  Frame  Track  SimpleClusters  \\\n",
       "0        StarTalk_Cosmic_780_850      0      0               0   \n",
       "1        StarTalk_Cosmic_780_850      1      0               0   \n",
       "2        StarTalk_Cosmic_780_850      2      0               0   \n",
       "3        StarTalk_Cosmic_780_850      3      0               0   \n",
       "4        StarTalk_Cosmic_780_850      4      0               0   \n",
       "...                          ...    ...    ...             ...   \n",
       "1498  StarTalk_Farming_1700_1800   2496     12               1   \n",
       "1499  StarTalk_Farming_1700_1800   2497     12               1   \n",
       "1500  StarTalk_Farming_1700_1800   2498     12               1   \n",
       "1501  StarTalk_Farming_1700_1800   2499     12               1   \n",
       "1502  StarTalk_Farming_1700_1800   2500     12               1   \n",
       "\n",
       "      SimpleClusters_wo_Track  \n",
       "0                           0  \n",
       "1                           0  \n",
       "2                           0  \n",
       "3                           0  \n",
       "4                           0  \n",
       "...                       ...  \n",
       "1498                        1  \n",
       "1499                        1  \n",
       "1500                        1  \n",
       "1501                        1  \n",
       "1502                        1  \n",
       "\n",
       "[132944 rows x 5 columns]"
      ]
     },
     "execution_count": 88,
     "metadata": {},
     "output_type": "execute_result"
    }
   ],
   "source": [
    "track_cluster_df"
   ]
  },
  {
   "cell_type": "code",
   "execution_count": 89,
   "id": "b1611085",
   "metadata": {},
   "outputs": [],
   "source": [
    "temp_df = track_cluster_df.merge(fa_df)"
   ]
  },
  {
   "cell_type": "code",
   "execution_count": 94,
   "id": "e9327261",
   "metadata": {},
   "outputs": [
    {
     "data": {
      "text/html": [
       "<div>\n",
       "<style scoped>\n",
       "    .dataframe tbody tr th:only-of-type {\n",
       "        vertical-align: middle;\n",
       "    }\n",
       "\n",
       "    .dataframe tbody tr th {\n",
       "        vertical-align: top;\n",
       "    }\n",
       "\n",
       "    .dataframe thead th {\n",
       "        text-align: right;\n",
       "    }\n",
       "</style>\n",
       "<table border=\"1\" class=\"dataframe\">\n",
       "  <thead>\n",
       "    <tr style=\"text-align: right;\">\n",
       "      <th></th>\n",
       "      <th>Filename</th>\n",
       "      <th>Frame</th>\n",
       "      <th>Track</th>\n",
       "      <th>SimpleClusters</th>\n",
       "      <th>SimpleClusters_wo_Track</th>\n",
       "      <th>GT</th>\n",
       "      <th>Marked</th>\n",
       "    </tr>\n",
       "  </thead>\n",
       "  <tbody>\n",
       "    <tr>\n",
       "      <th>0</th>\n",
       "      <td>StarTalk_Cosmic_780_850</td>\n",
       "      <td>0</td>\n",
       "      <td>0</td>\n",
       "      <td>0</td>\n",
       "      <td>0</td>\n",
       "      <td>Speaker_01</td>\n",
       "      <td>1</td>\n",
       "    </tr>\n",
       "    <tr>\n",
       "      <th>1</th>\n",
       "      <td>StarTalk_Cosmic_780_850</td>\n",
       "      <td>1</td>\n",
       "      <td>0</td>\n",
       "      <td>0</td>\n",
       "      <td>0</td>\n",
       "      <td>Speaker_01</td>\n",
       "      <td>1</td>\n",
       "    </tr>\n",
       "    <tr>\n",
       "      <th>2</th>\n",
       "      <td>StarTalk_Cosmic_780_850</td>\n",
       "      <td>2</td>\n",
       "      <td>0</td>\n",
       "      <td>0</td>\n",
       "      <td>0</td>\n",
       "      <td>Speaker_01</td>\n",
       "      <td>1</td>\n",
       "    </tr>\n",
       "    <tr>\n",
       "      <th>3</th>\n",
       "      <td>StarTalk_Cosmic_780_850</td>\n",
       "      <td>3</td>\n",
       "      <td>0</td>\n",
       "      <td>0</td>\n",
       "      <td>0</td>\n",
       "      <td>Speaker_01</td>\n",
       "      <td>1</td>\n",
       "    </tr>\n",
       "    <tr>\n",
       "      <th>4</th>\n",
       "      <td>StarTalk_Cosmic_780_850</td>\n",
       "      <td>4</td>\n",
       "      <td>0</td>\n",
       "      <td>0</td>\n",
       "      <td>0</td>\n",
       "      <td>Speaker_01</td>\n",
       "      <td>1</td>\n",
       "    </tr>\n",
       "    <tr>\n",
       "      <th>...</th>\n",
       "      <td>...</td>\n",
       "      <td>...</td>\n",
       "      <td>...</td>\n",
       "      <td>...</td>\n",
       "      <td>...</td>\n",
       "      <td>...</td>\n",
       "      <td>...</td>\n",
       "    </tr>\n",
       "    <tr>\n",
       "      <th>132939</th>\n",
       "      <td>StarTalk_Farming_1700_1800</td>\n",
       "      <td>2496</td>\n",
       "      <td>12</td>\n",
       "      <td>1</td>\n",
       "      <td>1</td>\n",
       "      <td>Speaker_01</td>\n",
       "      <td>1</td>\n",
       "    </tr>\n",
       "    <tr>\n",
       "      <th>132940</th>\n",
       "      <td>StarTalk_Farming_1700_1800</td>\n",
       "      <td>2497</td>\n",
       "      <td>12</td>\n",
       "      <td>1</td>\n",
       "      <td>1</td>\n",
       "      <td>Speaker_01</td>\n",
       "      <td>1</td>\n",
       "    </tr>\n",
       "    <tr>\n",
       "      <th>132941</th>\n",
       "      <td>StarTalk_Farming_1700_1800</td>\n",
       "      <td>2498</td>\n",
       "      <td>12</td>\n",
       "      <td>1</td>\n",
       "      <td>1</td>\n",
       "      <td>Speaker_01</td>\n",
       "      <td>1</td>\n",
       "    </tr>\n",
       "    <tr>\n",
       "      <th>132942</th>\n",
       "      <td>StarTalk_Farming_1700_1800</td>\n",
       "      <td>2499</td>\n",
       "      <td>12</td>\n",
       "      <td>1</td>\n",
       "      <td>1</td>\n",
       "      <td>Speaker_01</td>\n",
       "      <td>1</td>\n",
       "    </tr>\n",
       "    <tr>\n",
       "      <th>132943</th>\n",
       "      <td>StarTalk_Farming_1700_1800</td>\n",
       "      <td>2500</td>\n",
       "      <td>12</td>\n",
       "      <td>1</td>\n",
       "      <td>1</td>\n",
       "      <td>Speaker_01</td>\n",
       "      <td>1</td>\n",
       "    </tr>\n",
       "  </tbody>\n",
       "</table>\n",
       "<p>132944 rows × 7 columns</p>\n",
       "</div>"
      ],
      "text/plain": [
       "                          Filename  Frame  Track  SimpleClusters  \\\n",
       "0          StarTalk_Cosmic_780_850      0      0               0   \n",
       "1          StarTalk_Cosmic_780_850      1      0               0   \n",
       "2          StarTalk_Cosmic_780_850      2      0               0   \n",
       "3          StarTalk_Cosmic_780_850      3      0               0   \n",
       "4          StarTalk_Cosmic_780_850      4      0               0   \n",
       "...                            ...    ...    ...             ...   \n",
       "132939  StarTalk_Farming_1700_1800   2496     12               1   \n",
       "132940  StarTalk_Farming_1700_1800   2497     12               1   \n",
       "132941  StarTalk_Farming_1700_1800   2498     12               1   \n",
       "132942  StarTalk_Farming_1700_1800   2499     12               1   \n",
       "132943  StarTalk_Farming_1700_1800   2500     12               1   \n",
       "\n",
       "        SimpleClusters_wo_Track          GT Marked  \n",
       "0                             0  Speaker_01      1  \n",
       "1                             0  Speaker_01      1  \n",
       "2                             0  Speaker_01      1  \n",
       "3                             0  Speaker_01      1  \n",
       "4                             0  Speaker_01      1  \n",
       "...                         ...         ...    ...  \n",
       "132939                        1  Speaker_01      1  \n",
       "132940                        1  Speaker_01      1  \n",
       "132941                        1  Speaker_01      1  \n",
       "132942                        1  Speaker_01      1  \n",
       "132943                        1  Speaker_01      1  \n",
       "\n",
       "[132944 rows x 7 columns]"
      ]
     },
     "execution_count": 94,
     "metadata": {},
     "output_type": "execute_result"
    }
   ],
   "source": [
    "temp_df"
   ]
  },
  {
   "cell_type": "code",
   "execution_count": 95,
   "id": "a05c43cf",
   "metadata": {},
   "outputs": [],
   "source": [
    "temp_list = []\n",
    "for f in file_list:\n",
    "    matched_df = match_output(temp_df[temp_df[\"Filename\"] == f], gt_col=\"GT\", pred_col=\"SimpleClusters\", matched_col=\"Matched_Output\")\n",
    "    matched_df = compute_performance(\n",
    "            output_df=matched_df, gt_col=\"GT\", pred_col=\"SimpleClusters\", matched_col=\"Matched_Output\"\n",
    "        )\n",
    "    temp = matched_df[[\"GT\", \"matched_result\", \"SimpleClusters\"]].groupby(\n",
    "        [\"GT\", \"matched_result\"]).count().reset_index().pivot_table(\n",
    "        'SimpleClusters', \"GT\", 'matched_result').fillna(0).astype(int).reset_index().rename_axis(None, axis=1)\n",
    "    temp[\"Filename\"] = f\n",
    "    temp = temp.fillna(0)\n",
    "    temp_list.append(temp)\n",
    "    \n",
    "face_clustering_results = pd.concat(temp_list)\n",
    "face_clustering_results = face_clustering_results.fillna(0)\n",
    "face_clustering_results[\"Confusion\"] = face_clustering_results[\"Confusion\"].astype(int)"
   ]
  },
  {
   "cell_type": "code",
   "execution_count": 96,
   "id": "9fb49042",
   "metadata": {},
   "outputs": [],
   "source": [
    "temp_list = []\n",
    "for f in file_list:\n",
    "    matched_df = match_output(temp_df[temp_df[\"Filename\"] == f], gt_col=\"GT\", pred_col=\"SimpleClusters_wo_Track\", matched_col=\"Matched_Output\")\n",
    "    matched_df = compute_performance(\n",
    "            output_df=matched_df, gt_col=\"GT\", pred_col=\"SimpleClusters_wo_Track\", matched_col=\"Matched_Output\"\n",
    "        )\n",
    "    temp = matched_df[[\"GT\", \"matched_result\", \"SimpleClusters_wo_Track\"]].groupby(\n",
    "        [\"GT\", \"matched_result\"]).count().reset_index().pivot_table(\n",
    "        'SimpleClusters_wo_Track', \"GT\", 'matched_result').fillna(0).astype(int).reset_index().rename_axis(None, axis=1)\n",
    "    temp[\"Filename\"] = f\n",
    "    temp = temp.fillna(0)\n",
    "    temp_list.append(temp)\n",
    "    \n",
    "face_clustering_results_wo_track = pd.concat(temp_list)\n",
    "face_clustering_results_wo_track = face_clustering_results_wo_track.fillna(0)\n",
    "face_clustering_results_wo_track[\"Confusion\"] = face_clustering_results_wo_track[\"Confusion\"].astype(int)"
   ]
  },
  {
   "cell_type": "code",
   "execution_count": 97,
   "id": "8bf844a7",
   "metadata": {},
   "outputs": [
    {
     "data": {
      "text/html": [
       "<div>\n",
       "<style scoped>\n",
       "    .dataframe tbody tr th:only-of-type {\n",
       "        vertical-align: middle;\n",
       "    }\n",
       "\n",
       "    .dataframe tbody tr th {\n",
       "        vertical-align: top;\n",
       "    }\n",
       "\n",
       "    .dataframe thead th {\n",
       "        text-align: right;\n",
       "    }\n",
       "</style>\n",
       "<table border=\"1\" class=\"dataframe\">\n",
       "  <thead>\n",
       "    <tr style=\"text-align: right;\">\n",
       "      <th></th>\n",
       "      <th>GT</th>\n",
       "      <th>Correct</th>\n",
       "      <th>Filename</th>\n",
       "      <th>Confusion</th>\n",
       "    </tr>\n",
       "  </thead>\n",
       "  <tbody>\n",
       "    <tr>\n",
       "      <th>0</th>\n",
       "      <td>Speaker_01</td>\n",
       "      <td>607</td>\n",
       "      <td>StarTalk_Cosmic_780_850</td>\n",
       "      <td>0</td>\n",
       "    </tr>\n",
       "    <tr>\n",
       "      <th>1</th>\n",
       "      <td>Speaker_02</td>\n",
       "      <td>451</td>\n",
       "      <td>StarTalk_Cosmic_780_850</td>\n",
       "      <td>0</td>\n",
       "    </tr>\n",
       "    <tr>\n",
       "      <th>2</th>\n",
       "      <td>Speaker_03</td>\n",
       "      <td>298</td>\n",
       "      <td>StarTalk_Cosmic_780_850</td>\n",
       "      <td>0</td>\n",
       "    </tr>\n",
       "    <tr>\n",
       "      <th>0</th>\n",
       "      <td>Speaker_01</td>\n",
       "      <td>960</td>\n",
       "      <td>StarTalk_Mars_1680_1780</td>\n",
       "      <td>0</td>\n",
       "    </tr>\n",
       "    <tr>\n",
       "      <th>1</th>\n",
       "      <td>Speaker_02</td>\n",
       "      <td>700</td>\n",
       "      <td>StarTalk_Mars_1680_1780</td>\n",
       "      <td>0</td>\n",
       "    </tr>\n",
       "    <tr>\n",
       "      <th>...</th>\n",
       "      <td>...</td>\n",
       "      <td>...</td>\n",
       "      <td>...</td>\n",
       "      <td>...</td>\n",
       "    </tr>\n",
       "    <tr>\n",
       "      <th>3</th>\n",
       "      <td>Speaker_04</td>\n",
       "      <td>629</td>\n",
       "      <td>StarTalk_Farming_2550_2645</td>\n",
       "      <td>0</td>\n",
       "    </tr>\n",
       "    <tr>\n",
       "      <th>0</th>\n",
       "      <td>Speaker_01</td>\n",
       "      <td>609</td>\n",
       "      <td>StarTalk_Farming_1700_1800</td>\n",
       "      <td>0</td>\n",
       "    </tr>\n",
       "    <tr>\n",
       "      <th>1</th>\n",
       "      <td>Speaker_02</td>\n",
       "      <td>77</td>\n",
       "      <td>StarTalk_Farming_1700_1800</td>\n",
       "      <td>0</td>\n",
       "    </tr>\n",
       "    <tr>\n",
       "      <th>2</th>\n",
       "      <td>Speaker_03</td>\n",
       "      <td>208</td>\n",
       "      <td>StarTalk_Farming_1700_1800</td>\n",
       "      <td>0</td>\n",
       "    </tr>\n",
       "    <tr>\n",
       "      <th>3</th>\n",
       "      <td>Speaker_04</td>\n",
       "      <td>609</td>\n",
       "      <td>StarTalk_Farming_1700_1800</td>\n",
       "      <td>0</td>\n",
       "    </tr>\n",
       "  </tbody>\n",
       "</table>\n",
       "<p>258 rows × 4 columns</p>\n",
       "</div>"
      ],
      "text/plain": [
       "            GT  Correct                    Filename  Confusion\n",
       "0   Speaker_01      607     StarTalk_Cosmic_780_850          0\n",
       "1   Speaker_02      451     StarTalk_Cosmic_780_850          0\n",
       "2   Speaker_03      298     StarTalk_Cosmic_780_850          0\n",
       "0   Speaker_01      960     StarTalk_Mars_1680_1780          0\n",
       "1   Speaker_02      700     StarTalk_Mars_1680_1780          0\n",
       "..         ...      ...                         ...        ...\n",
       "3   Speaker_04      629  StarTalk_Farming_2550_2645          0\n",
       "0   Speaker_01      609  StarTalk_Farming_1700_1800          0\n",
       "1   Speaker_02       77  StarTalk_Farming_1700_1800          0\n",
       "2   Speaker_03      208  StarTalk_Farming_1700_1800          0\n",
       "3   Speaker_04      609  StarTalk_Farming_1700_1800          0\n",
       "\n",
       "[258 rows x 4 columns]"
      ]
     },
     "execution_count": 97,
     "metadata": {},
     "output_type": "execute_result"
    }
   ],
   "source": [
    "face_clustering_results"
   ]
  },
  {
   "cell_type": "code",
   "execution_count": 101,
   "id": "51ad8b53",
   "metadata": {},
   "outputs": [],
   "source": [
    "final_results = face_clustering_results.merge(face_clustering_results_wo_track, on=[\"GT\", \"Filename\"], suffixes=('', '_wo_track'))"
   ]
  },
  {
   "cell_type": "code",
   "execution_count": 102,
   "id": "04aa2f76",
   "metadata": {},
   "outputs": [],
   "source": [
    "final_results.to_excel(\"../../../del_later/face_clustering_results.xlsx\", index=False)"
   ]
  },
  {
   "cell_type": "code",
   "execution_count": 103,
   "id": "28ca53a0",
   "metadata": {},
   "outputs": [],
   "source": [
    "# Overlap analysis"
   ]
  },
  {
   "cell_type": "code",
   "execution_count": 116,
   "id": "25708b48",
   "metadata": {},
   "outputs": [],
   "source": [
    "def has_overlap(col_list, row):\n",
    "    \n",
    "    col_count = 0\n",
    "    \n",
    "    for col_name in col_list:\n",
    "        if row[col_name] > 0:\n",
    "            col_count += 1\n",
    "            \n",
    "    if col_count > 1:\n",
    "        return True\n",
    "    \n",
    "    return False"
   ]
  },
  {
   "cell_type": "code",
   "execution_count": 122,
   "id": "e7f7b00d",
   "metadata": {},
   "outputs": [],
   "source": [
    "temp_list = []\n",
    "for f in file_list:\n",
    "    file_loc = f\"/home/sunil/projects/Stuff/Combined/WhoSaidThat/output/run_output/speaker_stats/{f}_additional_info.xlsx\"\n",
    "    \n",
    "    temp_df = pd.read_excel(file_loc)\n",
    "    \n",
    "    col_list = [col for col in temp_df.columns if \"audio\" in col]\n",
    "    \n",
    "    temp_df[\"has_overlap\"] = temp_df.apply(lambda row: has_overlap(col_list, row), axis=1)\n",
    "    \n",
    "    temp_df = temp_df[[\"word\", \"word_start\", \"word_end\", \"speaker\", \"has_overlap\"]]\n",
    "    \n",
    "    temp_df[\"file_name\"] = f\n",
    "    \n",
    "    temp_list.append(temp_df)\n",
    "    \n",
    "word_overlap_status = pd.concat(temp_list)"
   ]
  },
  {
   "cell_type": "code",
   "execution_count": 123,
   "id": "577efe95",
   "metadata": {},
   "outputs": [
    {
     "data": {
      "text/html": [
       "<div>\n",
       "<style scoped>\n",
       "    .dataframe tbody tr th:only-of-type {\n",
       "        vertical-align: middle;\n",
       "    }\n",
       "\n",
       "    .dataframe tbody tr th {\n",
       "        vertical-align: top;\n",
       "    }\n",
       "\n",
       "    .dataframe thead th {\n",
       "        text-align: right;\n",
       "    }\n",
       "</style>\n",
       "<table border=\"1\" class=\"dataframe\">\n",
       "  <thead>\n",
       "    <tr style=\"text-align: right;\">\n",
       "      <th></th>\n",
       "      <th>word</th>\n",
       "      <th>word_start</th>\n",
       "      <th>word_end</th>\n",
       "      <th>speaker</th>\n",
       "      <th>has_overlap</th>\n",
       "      <th>file_name</th>\n",
       "    </tr>\n",
       "  </thead>\n",
       "  <tbody>\n",
       "    <tr>\n",
       "      <th>0</th>\n",
       "      <td>but</td>\n",
       "      <td>0.00</td>\n",
       "      <td>0.16</td>\n",
       "      <td>Delilah Gates</td>\n",
       "      <td>False</td>\n",
       "      <td>StarTalk_Cosmic_780_850</td>\n",
       "    </tr>\n",
       "    <tr>\n",
       "      <th>1</th>\n",
       "      <td>typically</td>\n",
       "      <td>0.16</td>\n",
       "      <td>0.82</td>\n",
       "      <td>Delilah Gates</td>\n",
       "      <td>False</td>\n",
       "      <td>StarTalk_Cosmic_780_850</td>\n",
       "    </tr>\n",
       "    <tr>\n",
       "      <th>2</th>\n",
       "      <td>stability</td>\n",
       "      <td>0.82</td>\n",
       "      <td>1.18</td>\n",
       "      <td>Delilah Gates</td>\n",
       "      <td>False</td>\n",
       "      <td>StarTalk_Cosmic_780_850</td>\n",
       "    </tr>\n",
       "    <tr>\n",
       "      <th>3</th>\n",
       "      <td>is</td>\n",
       "      <td>1.18</td>\n",
       "      <td>1.52</td>\n",
       "      <td>Delilah Gates</td>\n",
       "      <td>False</td>\n",
       "      <td>StarTalk_Cosmic_780_850</td>\n",
       "    </tr>\n",
       "    <tr>\n",
       "      <th>4</th>\n",
       "      <td>not</td>\n",
       "      <td>1.52</td>\n",
       "      <td>1.68</td>\n",
       "      <td>Delilah Gates</td>\n",
       "      <td>False</td>\n",
       "      <td>StarTalk_Cosmic_780_850</td>\n",
       "    </tr>\n",
       "    <tr>\n",
       "      <th>...</th>\n",
       "      <td>...</td>\n",
       "      <td>...</td>\n",
       "      <td>...</td>\n",
       "      <td>...</td>\n",
       "      <td>...</td>\n",
       "      <td>...</td>\n",
       "    </tr>\n",
       "    <tr>\n",
       "      <th>241</th>\n",
       "      <td>or</td>\n",
       "      <td>98.58</td>\n",
       "      <td>98.70</td>\n",
       "      <td>Neil deGrasse Tyson</td>\n",
       "      <td>False</td>\n",
       "      <td>StarTalk_Farming_1700_1800</td>\n",
       "    </tr>\n",
       "    <tr>\n",
       "      <th>242</th>\n",
       "      <td>not</td>\n",
       "      <td>98.82</td>\n",
       "      <td>99.00</td>\n",
       "      <td>Neil deGrasse Tyson</td>\n",
       "      <td>False</td>\n",
       "      <td>StarTalk_Farming_1700_1800</td>\n",
       "    </tr>\n",
       "    <tr>\n",
       "      <th>243</th>\n",
       "      <td>fast</td>\n",
       "      <td>99.00</td>\n",
       "      <td>99.14</td>\n",
       "      <td>Neil deGrasse Tyson</td>\n",
       "      <td>False</td>\n",
       "      <td>StarTalk_Farming_1700_1800</td>\n",
       "    </tr>\n",
       "    <tr>\n",
       "      <th>244</th>\n",
       "      <td>at</td>\n",
       "      <td>99.30</td>\n",
       "      <td>99.56</td>\n",
       "      <td>Neil deGrasse Tyson</td>\n",
       "      <td>False</td>\n",
       "      <td>StarTalk_Farming_1700_1800</td>\n",
       "    </tr>\n",
       "    <tr>\n",
       "      <th>245</th>\n",
       "      <td>all</td>\n",
       "      <td>99.56</td>\n",
       "      <td>99.72</td>\n",
       "      <td>Neil deGrasse Tyson</td>\n",
       "      <td>False</td>\n",
       "      <td>StarTalk_Farming_1700_1800</td>\n",
       "    </tr>\n",
       "  </tbody>\n",
       "</table>\n",
       "<p>21935 rows × 6 columns</p>\n",
       "</div>"
      ],
      "text/plain": [
       "          word  word_start  word_end              speaker  has_overlap  \\\n",
       "0          but        0.00      0.16        Delilah Gates        False   \n",
       "1    typically        0.16      0.82        Delilah Gates        False   \n",
       "2    stability        0.82      1.18        Delilah Gates        False   \n",
       "3           is        1.18      1.52        Delilah Gates        False   \n",
       "4          not        1.52      1.68        Delilah Gates        False   \n",
       "..         ...         ...       ...                  ...          ...   \n",
       "241         or       98.58     98.70  Neil deGrasse Tyson        False   \n",
       "242        not       98.82     99.00  Neil deGrasse Tyson        False   \n",
       "243       fast       99.00     99.14  Neil deGrasse Tyson        False   \n",
       "244         at       99.30     99.56  Neil deGrasse Tyson        False   \n",
       "245        all       99.56     99.72  Neil deGrasse Tyson        False   \n",
       "\n",
       "                      file_name  \n",
       "0       StarTalk_Cosmic_780_850  \n",
       "1       StarTalk_Cosmic_780_850  \n",
       "2       StarTalk_Cosmic_780_850  \n",
       "3       StarTalk_Cosmic_780_850  \n",
       "4       StarTalk_Cosmic_780_850  \n",
       "..                          ...  \n",
       "241  StarTalk_Farming_1700_1800  \n",
       "242  StarTalk_Farming_1700_1800  \n",
       "243  StarTalk_Farming_1700_1800  \n",
       "244  StarTalk_Farming_1700_1800  \n",
       "245  StarTalk_Farming_1700_1800  \n",
       "\n",
       "[21935 rows x 6 columns]"
      ]
     },
     "execution_count": 123,
     "metadata": {},
     "output_type": "execute_result"
    }
   ],
   "source": [
    "word_overlap_status"
   ]
  },
  {
   "cell_type": "code",
   "execution_count": 127,
   "id": "4d9ad6e6",
   "metadata": {},
   "outputs": [],
   "source": [
    "temp_list = []\n",
    "for f in file_list:    \n",
    "    file_loc = f\"/home/sunil/projects/Stuff/Combined/WhoSaidThat/output/run_output/speaker_stats/{f}_audio_12.xlsx\"\n",
    "    temp_df = pd.read_excel(file_loc)\n",
    "    \n",
    "    temp_df = temp_df[[\"file_name\", \"word\", \"word_start\", \"word_end\", \"matched_result\"]].rename(columns={\"matched_result\": \"audio_result\"})\n",
    "    temp_df[\"file_name\"] = temp_df[\"file_name\"].apply(lambda x: os.path.splitext(x)[0])\n",
    "    \n",
    "    temp_list.append(temp_df)\n",
    "    \n",
    "audio_result = pd.concat(temp_list)"
   ]
  },
  {
   "cell_type": "code",
   "execution_count": 128,
   "id": "6b6e234b",
   "metadata": {},
   "outputs": [
    {
     "data": {
      "text/html": [
       "<div>\n",
       "<style scoped>\n",
       "    .dataframe tbody tr th:only-of-type {\n",
       "        vertical-align: middle;\n",
       "    }\n",
       "\n",
       "    .dataframe tbody tr th {\n",
       "        vertical-align: top;\n",
       "    }\n",
       "\n",
       "    .dataframe thead th {\n",
       "        text-align: right;\n",
       "    }\n",
       "</style>\n",
       "<table border=\"1\" class=\"dataframe\">\n",
       "  <thead>\n",
       "    <tr style=\"text-align: right;\">\n",
       "      <th></th>\n",
       "      <th>file_name</th>\n",
       "      <th>word</th>\n",
       "      <th>word_start</th>\n",
       "      <th>word_end</th>\n",
       "      <th>audio_result</th>\n",
       "    </tr>\n",
       "  </thead>\n",
       "  <tbody>\n",
       "    <tr>\n",
       "      <th>0</th>\n",
       "      <td>StarTalk_Cosmic_780_850</td>\n",
       "      <td>but</td>\n",
       "      <td>0.00</td>\n",
       "      <td>0.16</td>\n",
       "      <td>Correct</td>\n",
       "    </tr>\n",
       "    <tr>\n",
       "      <th>1</th>\n",
       "      <td>StarTalk_Cosmic_780_850</td>\n",
       "      <td>typically</td>\n",
       "      <td>0.16</td>\n",
       "      <td>0.82</td>\n",
       "      <td>Correct</td>\n",
       "    </tr>\n",
       "    <tr>\n",
       "      <th>2</th>\n",
       "      <td>StarTalk_Cosmic_780_850</td>\n",
       "      <td>stability</td>\n",
       "      <td>0.82</td>\n",
       "      <td>1.18</td>\n",
       "      <td>Correct</td>\n",
       "    </tr>\n",
       "    <tr>\n",
       "      <th>3</th>\n",
       "      <td>StarTalk_Cosmic_780_850</td>\n",
       "      <td>is</td>\n",
       "      <td>1.18</td>\n",
       "      <td>1.52</td>\n",
       "      <td>Correct</td>\n",
       "    </tr>\n",
       "    <tr>\n",
       "      <th>4</th>\n",
       "      <td>StarTalk_Cosmic_780_850</td>\n",
       "      <td>not</td>\n",
       "      <td>1.52</td>\n",
       "      <td>1.68</td>\n",
       "      <td>Correct</td>\n",
       "    </tr>\n",
       "    <tr>\n",
       "      <th>...</th>\n",
       "      <td>...</td>\n",
       "      <td>...</td>\n",
       "      <td>...</td>\n",
       "      <td>...</td>\n",
       "      <td>...</td>\n",
       "    </tr>\n",
       "    <tr>\n",
       "      <th>241</th>\n",
       "      <td>StarTalk_Farming_1700_1800</td>\n",
       "      <td>or</td>\n",
       "      <td>98.58</td>\n",
       "      <td>98.70</td>\n",
       "      <td>Correct</td>\n",
       "    </tr>\n",
       "    <tr>\n",
       "      <th>242</th>\n",
       "      <td>StarTalk_Farming_1700_1800</td>\n",
       "      <td>not</td>\n",
       "      <td>98.82</td>\n",
       "      <td>99.00</td>\n",
       "      <td>Correct</td>\n",
       "    </tr>\n",
       "    <tr>\n",
       "      <th>243</th>\n",
       "      <td>StarTalk_Farming_1700_1800</td>\n",
       "      <td>fast</td>\n",
       "      <td>99.00</td>\n",
       "      <td>99.14</td>\n",
       "      <td>Correct</td>\n",
       "    </tr>\n",
       "    <tr>\n",
       "      <th>244</th>\n",
       "      <td>StarTalk_Farming_1700_1800</td>\n",
       "      <td>at</td>\n",
       "      <td>99.30</td>\n",
       "      <td>99.56</td>\n",
       "      <td>Correct</td>\n",
       "    </tr>\n",
       "    <tr>\n",
       "      <th>245</th>\n",
       "      <td>StarTalk_Farming_1700_1800</td>\n",
       "      <td>all</td>\n",
       "      <td>99.56</td>\n",
       "      <td>99.72</td>\n",
       "      <td>Correct</td>\n",
       "    </tr>\n",
       "  </tbody>\n",
       "</table>\n",
       "<p>21935 rows × 5 columns</p>\n",
       "</div>"
      ],
      "text/plain": [
       "                      file_name       word  word_start  word_end audio_result\n",
       "0       StarTalk_Cosmic_780_850        but        0.00      0.16      Correct\n",
       "1       StarTalk_Cosmic_780_850  typically        0.16      0.82      Correct\n",
       "2       StarTalk_Cosmic_780_850  stability        0.82      1.18      Correct\n",
       "3       StarTalk_Cosmic_780_850         is        1.18      1.52      Correct\n",
       "4       StarTalk_Cosmic_780_850        not        1.52      1.68      Correct\n",
       "..                          ...        ...         ...       ...          ...\n",
       "241  StarTalk_Farming_1700_1800         or       98.58     98.70      Correct\n",
       "242  StarTalk_Farming_1700_1800        not       98.82     99.00      Correct\n",
       "243  StarTalk_Farming_1700_1800       fast       99.00     99.14      Correct\n",
       "244  StarTalk_Farming_1700_1800         at       99.30     99.56      Correct\n",
       "245  StarTalk_Farming_1700_1800        all       99.56     99.72      Correct\n",
       "\n",
       "[21935 rows x 5 columns]"
      ]
     },
     "execution_count": 128,
     "metadata": {},
     "output_type": "execute_result"
    }
   ],
   "source": [
    "audio_result"
   ]
  },
  {
   "cell_type": "code",
   "execution_count": 129,
   "id": "7c8044d7",
   "metadata": {},
   "outputs": [],
   "source": [
    "temp_list = []\n",
    "for f in file_list:    \n",
    "    file_loc = f\"/home/sunil/projects/Stuff/Combined/WhoSaidThat/output/run_output/speaker_stats/{f}_video_simple.xlsx\"\n",
    "    temp_df = pd.read_excel(file_loc)\n",
    "    \n",
    "    temp_df = temp_df[[\"file_name\", \"word\", \"word_start\", \"word_end\", \"matched_result\"]].rename(columns={\"matched_result\": \"video_result\"})\n",
    "    temp_df[\"file_name\"] = temp_df[\"file_name\"].apply(lambda x: os.path.splitext(x)[0])\n",
    "    \n",
    "    temp_list.append(temp_df)\n",
    "    \n",
    "video_result = pd.concat(temp_list)"
   ]
  },
  {
   "cell_type": "code",
   "execution_count": 130,
   "id": "d2a42059",
   "metadata": {},
   "outputs": [
    {
     "data": {
      "text/html": [
       "<div>\n",
       "<style scoped>\n",
       "    .dataframe tbody tr th:only-of-type {\n",
       "        vertical-align: middle;\n",
       "    }\n",
       "\n",
       "    .dataframe tbody tr th {\n",
       "        vertical-align: top;\n",
       "    }\n",
       "\n",
       "    .dataframe thead th {\n",
       "        text-align: right;\n",
       "    }\n",
       "</style>\n",
       "<table border=\"1\" class=\"dataframe\">\n",
       "  <thead>\n",
       "    <tr style=\"text-align: right;\">\n",
       "      <th></th>\n",
       "      <th>file_name</th>\n",
       "      <th>word</th>\n",
       "      <th>word_start</th>\n",
       "      <th>word_end</th>\n",
       "      <th>video_result</th>\n",
       "    </tr>\n",
       "  </thead>\n",
       "  <tbody>\n",
       "    <tr>\n",
       "      <th>0</th>\n",
       "      <td>StarTalk_Cosmic_780_850</td>\n",
       "      <td>but</td>\n",
       "      <td>0.00</td>\n",
       "      <td>0.16</td>\n",
       "      <td>Correct</td>\n",
       "    </tr>\n",
       "    <tr>\n",
       "      <th>1</th>\n",
       "      <td>StarTalk_Cosmic_780_850</td>\n",
       "      <td>typically</td>\n",
       "      <td>0.16</td>\n",
       "      <td>0.82</td>\n",
       "      <td>Correct</td>\n",
       "    </tr>\n",
       "    <tr>\n",
       "      <th>2</th>\n",
       "      <td>StarTalk_Cosmic_780_850</td>\n",
       "      <td>stability</td>\n",
       "      <td>0.82</td>\n",
       "      <td>1.18</td>\n",
       "      <td>Correct</td>\n",
       "    </tr>\n",
       "    <tr>\n",
       "      <th>3</th>\n",
       "      <td>StarTalk_Cosmic_780_850</td>\n",
       "      <td>is</td>\n",
       "      <td>1.18</td>\n",
       "      <td>1.52</td>\n",
       "      <td>Correct</td>\n",
       "    </tr>\n",
       "    <tr>\n",
       "      <th>4</th>\n",
       "      <td>StarTalk_Cosmic_780_850</td>\n",
       "      <td>not</td>\n",
       "      <td>1.52</td>\n",
       "      <td>1.68</td>\n",
       "      <td>Correct</td>\n",
       "    </tr>\n",
       "    <tr>\n",
       "      <th>...</th>\n",
       "      <td>...</td>\n",
       "      <td>...</td>\n",
       "      <td>...</td>\n",
       "      <td>...</td>\n",
       "      <td>...</td>\n",
       "    </tr>\n",
       "    <tr>\n",
       "      <th>241</th>\n",
       "      <td>StarTalk_Farming_1700_1800</td>\n",
       "      <td>or</td>\n",
       "      <td>98.58</td>\n",
       "      <td>98.70</td>\n",
       "      <td>Correct</td>\n",
       "    </tr>\n",
       "    <tr>\n",
       "      <th>242</th>\n",
       "      <td>StarTalk_Farming_1700_1800</td>\n",
       "      <td>not</td>\n",
       "      <td>98.82</td>\n",
       "      <td>99.00</td>\n",
       "      <td>Correct</td>\n",
       "    </tr>\n",
       "    <tr>\n",
       "      <th>243</th>\n",
       "      <td>StarTalk_Farming_1700_1800</td>\n",
       "      <td>fast</td>\n",
       "      <td>99.00</td>\n",
       "      <td>99.14</td>\n",
       "      <td>Correct</td>\n",
       "    </tr>\n",
       "    <tr>\n",
       "      <th>244</th>\n",
       "      <td>StarTalk_Farming_1700_1800</td>\n",
       "      <td>at</td>\n",
       "      <td>99.30</td>\n",
       "      <td>99.56</td>\n",
       "      <td>Correct</td>\n",
       "    </tr>\n",
       "    <tr>\n",
       "      <th>245</th>\n",
       "      <td>StarTalk_Farming_1700_1800</td>\n",
       "      <td>all</td>\n",
       "      <td>99.56</td>\n",
       "      <td>99.72</td>\n",
       "      <td>Correct</td>\n",
       "    </tr>\n",
       "  </tbody>\n",
       "</table>\n",
       "<p>21935 rows × 5 columns</p>\n",
       "</div>"
      ],
      "text/plain": [
       "                      file_name       word  word_start  word_end video_result\n",
       "0       StarTalk_Cosmic_780_850        but        0.00      0.16      Correct\n",
       "1       StarTalk_Cosmic_780_850  typically        0.16      0.82      Correct\n",
       "2       StarTalk_Cosmic_780_850  stability        0.82      1.18      Correct\n",
       "3       StarTalk_Cosmic_780_850         is        1.18      1.52      Correct\n",
       "4       StarTalk_Cosmic_780_850        not        1.52      1.68      Correct\n",
       "..                          ...        ...         ...       ...          ...\n",
       "241  StarTalk_Farming_1700_1800         or       98.58     98.70      Correct\n",
       "242  StarTalk_Farming_1700_1800        not       98.82     99.00      Correct\n",
       "243  StarTalk_Farming_1700_1800       fast       99.00     99.14      Correct\n",
       "244  StarTalk_Farming_1700_1800         at       99.30     99.56      Correct\n",
       "245  StarTalk_Farming_1700_1800        all       99.56     99.72      Correct\n",
       "\n",
       "[21935 rows x 5 columns]"
      ]
     },
     "execution_count": 130,
     "metadata": {},
     "output_type": "execute_result"
    }
   ],
   "source": [
    "video_result"
   ]
  },
  {
   "cell_type": "code",
   "execution_count": 131,
   "id": "29e7ed39",
   "metadata": {},
   "outputs": [],
   "source": [
    "audio_result.to_excel(\"Final_Speaker_Assignments_Audio.xlsx\", index=False)\n",
    "video_result.to_excel(\"Final_Speaker_Assignments_Video.xlsx\", index=False)"
   ]
  },
  {
   "cell_type": "code",
   "execution_count": 132,
   "id": "cda1f661",
   "metadata": {},
   "outputs": [],
   "source": [
    "word_overlap_status.to_excel(\"../../../del_later/Word_Overlap_Status.xlsx\", index=False)"
   ]
  },
  {
   "cell_type": "code",
   "execution_count": null,
   "id": "ec20a91f",
   "metadata": {},
   "outputs": [],
   "source": []
  },
  {
   "cell_type": "code",
   "execution_count": 3,
   "id": "0349b6e8",
   "metadata": {},
   "outputs": [],
   "source": [
    "# Visualizations"
   ]
  },
  {
   "cell_type": "code",
   "execution_count": 1,
   "id": "f7fec148",
   "metadata": {},
   "outputs": [],
   "source": [
    "import pandas as pd\n",
    "import matplotlib.pyplot as plt\n",
    "from scipy.ndimage import gaussian_filter1d\n",
    "import plotly.graph_objects as go\n",
    "stats_df = pd.read_excel(\"../../Dataset/Dataset_stats.xlsx\")"
   ]
  },
  {
   "cell_type": "code",
   "execution_count": 2,
   "id": "d2580257",
   "metadata": {},
   "outputs": [
    {
     "data": {
      "text/html": [
       "<div>\n",
       "<style scoped>\n",
       "    .dataframe tbody tr th:only-of-type {\n",
       "        vertical-align: middle;\n",
       "    }\n",
       "\n",
       "    .dataframe tbody tr th {\n",
       "        vertical-align: top;\n",
       "    }\n",
       "\n",
       "    .dataframe thead th {\n",
       "        text-align: right;\n",
       "    }\n",
       "</style>\n",
       "<table border=\"1\" class=\"dataframe\">\n",
       "  <thead>\n",
       "    <tr style=\"text-align: right;\">\n",
       "      <th></th>\n",
       "      <th>Video Name</th>\n",
       "      <th>Video Type</th>\n",
       "      <th>Video Length</th>\n",
       "      <th>Number of words</th>\n",
       "      <th>Off-screen words</th>\n",
       "      <th>Audio Error</th>\n",
       "      <th>Video Error</th>\n",
       "      <th>Combined Error</th>\n",
       "      <th>Video Missed Error</th>\n",
       "      <th>Video Incorrect</th>\n",
       "      <th>Change</th>\n",
       "      <th>Overlap %</th>\n",
       "      <th>Face Clusterng error</th>\n",
       "      <th>Word overlap %</th>\n",
       "    </tr>\n",
       "  </thead>\n",
       "  <tbody>\n",
       "    <tr>\n",
       "      <th>0</th>\n",
       "      <td>ESPN_1</td>\n",
       "      <td>In-person</td>\n",
       "      <td>212.161</td>\n",
       "      <td>595</td>\n",
       "      <td>322</td>\n",
       "      <td>0.289076</td>\n",
       "      <td>0.645378</td>\n",
       "      <td>0.290756</td>\n",
       "      <td>0.541176</td>\n",
       "      <td>0.104202</td>\n",
       "      <td>-0.001681</td>\n",
       "      <td>0.097038</td>\n",
       "      <td>0.1334</td>\n",
       "      <td>0.183193</td>\n",
       "    </tr>\n",
       "    <tr>\n",
       "      <th>1</th>\n",
       "      <td>MagnusCarlson_542_599</td>\n",
       "      <td>In-person</td>\n",
       "      <td>57.051</td>\n",
       "      <td>158</td>\n",
       "      <td>8</td>\n",
       "      <td>0.145570</td>\n",
       "      <td>0.050633</td>\n",
       "      <td>0.012658</td>\n",
       "      <td>0.050633</td>\n",
       "      <td>0.000000</td>\n",
       "      <td>0.132911</td>\n",
       "      <td>0.007744</td>\n",
       "      <td>0.0168</td>\n",
       "      <td>0.025316</td>\n",
       "    </tr>\n",
       "    <tr>\n",
       "      <th>2</th>\n",
       "      <td>NDT_India_19_88</td>\n",
       "      <td>In-person</td>\n",
       "      <td>69.056</td>\n",
       "      <td>220</td>\n",
       "      <td>72</td>\n",
       "      <td>0.031818</td>\n",
       "      <td>0.345455</td>\n",
       "      <td>0.063636</td>\n",
       "      <td>0.327273</td>\n",
       "      <td>0.018182</td>\n",
       "      <td>-0.031818</td>\n",
       "      <td>0.029656</td>\n",
       "      <td>0.0008</td>\n",
       "      <td>0.040909</td>\n",
       "    </tr>\n",
       "    <tr>\n",
       "      <th>3</th>\n",
       "      <td>PiersMorgan_1_0_165</td>\n",
       "      <td>In-person</td>\n",
       "      <td>165.001</td>\n",
       "      <td>608</td>\n",
       "      <td>158</td>\n",
       "      <td>0.157895</td>\n",
       "      <td>0.396382</td>\n",
       "      <td>0.208882</td>\n",
       "      <td>0.259868</td>\n",
       "      <td>0.136513</td>\n",
       "      <td>-0.050987</td>\n",
       "      <td>0.161957</td>\n",
       "      <td>0.1116</td>\n",
       "      <td>0.312500</td>\n",
       "    </tr>\n",
       "    <tr>\n",
       "      <th>4</th>\n",
       "      <td>PiersMorgan_1_165_368</td>\n",
       "      <td>In-person</td>\n",
       "      <td>203.012</td>\n",
       "      <td>750</td>\n",
       "      <td>225</td>\n",
       "      <td>0.233333</td>\n",
       "      <td>0.456000</td>\n",
       "      <td>0.233333</td>\n",
       "      <td>0.300000</td>\n",
       "      <td>0.156000</td>\n",
       "      <td>0.000000</td>\n",
       "      <td>0.282972</td>\n",
       "      <td>0.0049</td>\n",
       "      <td>0.517333</td>\n",
       "    </tr>\n",
       "    <tr>\n",
       "      <th>...</th>\n",
       "      <td>...</td>\n",
       "      <td>...</td>\n",
       "      <td>...</td>\n",
       "      <td>...</td>\n",
       "      <td>...</td>\n",
       "      <td>...</td>\n",
       "      <td>...</td>\n",
       "      <td>...</td>\n",
       "      <td>...</td>\n",
       "      <td>...</td>\n",
       "      <td>...</td>\n",
       "      <td>...</td>\n",
       "      <td>...</td>\n",
       "      <td>...</td>\n",
       "    </tr>\n",
       "    <tr>\n",
       "      <th>71</th>\n",
       "      <td>StarTalk_Sleep_2470_2551</td>\n",
       "      <td>Virtual</td>\n",
       "      <td>81.014</td>\n",
       "      <td>248</td>\n",
       "      <td>39</td>\n",
       "      <td>0.137097</td>\n",
       "      <td>0.165323</td>\n",
       "      <td>0.250000</td>\n",
       "      <td>0.157258</td>\n",
       "      <td>0.008065</td>\n",
       "      <td>-0.112903</td>\n",
       "      <td>0.026709</td>\n",
       "      <td>0.0000</td>\n",
       "      <td>0.036290</td>\n",
       "    </tr>\n",
       "    <tr>\n",
       "      <th>72</th>\n",
       "      <td>StarTalk_Sleep_382_450</td>\n",
       "      <td>Virtual</td>\n",
       "      <td>68.104</td>\n",
       "      <td>166</td>\n",
       "      <td>16</td>\n",
       "      <td>0.186747</td>\n",
       "      <td>0.114458</td>\n",
       "      <td>0.024096</td>\n",
       "      <td>0.096386</td>\n",
       "      <td>0.018072</td>\n",
       "      <td>0.162651</td>\n",
       "      <td>0.095431</td>\n",
       "      <td>0.0000</td>\n",
       "      <td>0.120482</td>\n",
       "    </tr>\n",
       "    <tr>\n",
       "      <th>73</th>\n",
       "      <td>StarTalk_Sleep_748_796</td>\n",
       "      <td>Virtual</td>\n",
       "      <td>48.019</td>\n",
       "      <td>122</td>\n",
       "      <td>29</td>\n",
       "      <td>0.172131</td>\n",
       "      <td>0.254098</td>\n",
       "      <td>0.106557</td>\n",
       "      <td>0.237705</td>\n",
       "      <td>0.016393</td>\n",
       "      <td>0.065574</td>\n",
       "      <td>0.137620</td>\n",
       "      <td>0.0000</td>\n",
       "      <td>0.237705</td>\n",
       "    </tr>\n",
       "    <tr>\n",
       "      <th>74</th>\n",
       "      <td>TalkSport_1_0_131</td>\n",
       "      <td>In-person</td>\n",
       "      <td>131.007</td>\n",
       "      <td>412</td>\n",
       "      <td>114</td>\n",
       "      <td>0.019417</td>\n",
       "      <td>0.279126</td>\n",
       "      <td>0.002427</td>\n",
       "      <td>0.276699</td>\n",
       "      <td>0.002427</td>\n",
       "      <td>0.016990</td>\n",
       "      <td>0.004645</td>\n",
       "      <td>0.0033</td>\n",
       "      <td>0.014563</td>\n",
       "    </tr>\n",
       "    <tr>\n",
       "      <th>75</th>\n",
       "      <td>TalkSport_1_131_310</td>\n",
       "      <td>In-person</td>\n",
       "      <td>179.003</td>\n",
       "      <td>663</td>\n",
       "      <td>32</td>\n",
       "      <td>0.156863</td>\n",
       "      <td>0.079940</td>\n",
       "      <td>0.067873</td>\n",
       "      <td>0.048265</td>\n",
       "      <td>0.031674</td>\n",
       "      <td>0.088989</td>\n",
       "      <td>0.080210</td>\n",
       "      <td>0.0000</td>\n",
       "      <td>0.137255</td>\n",
       "    </tr>\n",
       "  </tbody>\n",
       "</table>\n",
       "<p>76 rows × 14 columns</p>\n",
       "</div>"
      ],
      "text/plain": [
       "                  Video Name Video Type  Video Length  Number of words  \\\n",
       "0                     ESPN_1  In-person       212.161              595   \n",
       "1      MagnusCarlson_542_599  In-person        57.051              158   \n",
       "2            NDT_India_19_88  In-person        69.056              220   \n",
       "3        PiersMorgan_1_0_165  In-person       165.001              608   \n",
       "4      PiersMorgan_1_165_368  In-person       203.012              750   \n",
       "..                       ...        ...           ...              ...   \n",
       "71  StarTalk_Sleep_2470_2551    Virtual        81.014              248   \n",
       "72    StarTalk_Sleep_382_450    Virtual        68.104              166   \n",
       "73    StarTalk_Sleep_748_796    Virtual        48.019              122   \n",
       "74         TalkSport_1_0_131  In-person       131.007              412   \n",
       "75       TalkSport_1_131_310  In-person       179.003              663   \n",
       "\n",
       "    Off-screen words  Audio Error  Video Error  Combined Error  \\\n",
       "0                322     0.289076     0.645378        0.290756   \n",
       "1                  8     0.145570     0.050633        0.012658   \n",
       "2                 72     0.031818     0.345455        0.063636   \n",
       "3                158     0.157895     0.396382        0.208882   \n",
       "4                225     0.233333     0.456000        0.233333   \n",
       "..               ...          ...          ...             ...   \n",
       "71                39     0.137097     0.165323        0.250000   \n",
       "72                16     0.186747     0.114458        0.024096   \n",
       "73                29     0.172131     0.254098        0.106557   \n",
       "74               114     0.019417     0.279126        0.002427   \n",
       "75                32     0.156863     0.079940        0.067873   \n",
       "\n",
       "    Video Missed Error  Video Incorrect    Change  Overlap %  \\\n",
       "0             0.541176         0.104202 -0.001681   0.097038   \n",
       "1             0.050633         0.000000  0.132911   0.007744   \n",
       "2             0.327273         0.018182 -0.031818   0.029656   \n",
       "3             0.259868         0.136513 -0.050987   0.161957   \n",
       "4             0.300000         0.156000  0.000000   0.282972   \n",
       "..                 ...              ...       ...        ...   \n",
       "71            0.157258         0.008065 -0.112903   0.026709   \n",
       "72            0.096386         0.018072  0.162651   0.095431   \n",
       "73            0.237705         0.016393  0.065574   0.137620   \n",
       "74            0.276699         0.002427  0.016990   0.004645   \n",
       "75            0.048265         0.031674  0.088989   0.080210   \n",
       "\n",
       "    Face Clusterng error  Word overlap %  \n",
       "0                 0.1334        0.183193  \n",
       "1                 0.0168        0.025316  \n",
       "2                 0.0008        0.040909  \n",
       "3                 0.1116        0.312500  \n",
       "4                 0.0049        0.517333  \n",
       "..                   ...             ...  \n",
       "71                0.0000        0.036290  \n",
       "72                0.0000        0.120482  \n",
       "73                0.0000        0.237705  \n",
       "74                0.0033        0.014563  \n",
       "75                0.0000        0.137255  \n",
       "\n",
       "[76 rows x 14 columns]"
      ]
     },
     "execution_count": 2,
     "metadata": {},
     "output_type": "execute_result"
    }
   ],
   "source": [
    "stats_df"
   ]
  },
  {
   "cell_type": "code",
   "execution_count": 3,
   "id": "4ede5533",
   "metadata": {},
   "outputs": [
    {
     "data": {
      "text/html": [
       "<div>\n",
       "<style scoped>\n",
       "    .dataframe tbody tr th:only-of-type {\n",
       "        vertical-align: middle;\n",
       "    }\n",
       "\n",
       "    .dataframe tbody tr th {\n",
       "        vertical-align: top;\n",
       "    }\n",
       "\n",
       "    .dataframe thead th {\n",
       "        text-align: right;\n",
       "    }\n",
       "</style>\n",
       "<table border=\"1\" class=\"dataframe\">\n",
       "  <thead>\n",
       "    <tr style=\"text-align: right;\">\n",
       "      <th></th>\n",
       "      <th>Video Name</th>\n",
       "      <th>Number of Speakers</th>\n",
       "    </tr>\n",
       "  </thead>\n",
       "  <tbody>\n",
       "    <tr>\n",
       "      <th>0</th>\n",
       "      <td>ESPN_1</td>\n",
       "      <td>5</td>\n",
       "    </tr>\n",
       "    <tr>\n",
       "      <th>1</th>\n",
       "      <td>MagnusCarlson_542_599</td>\n",
       "      <td>2</td>\n",
       "    </tr>\n",
       "    <tr>\n",
       "      <th>2</th>\n",
       "      <td>NDT_India_19_88</td>\n",
       "      <td>4</td>\n",
       "    </tr>\n",
       "    <tr>\n",
       "      <th>3</th>\n",
       "      <td>PiersMorgan_1_0_165</td>\n",
       "      <td>4</td>\n",
       "    </tr>\n",
       "    <tr>\n",
       "      <th>4</th>\n",
       "      <td>PiersMorgan_1_165_368</td>\n",
       "      <td>4</td>\n",
       "    </tr>\n",
       "    <tr>\n",
       "      <th>...</th>\n",
       "      <td>...</td>\n",
       "      <td>...</td>\n",
       "    </tr>\n",
       "    <tr>\n",
       "      <th>71</th>\n",
       "      <td>StarTalk_Sleep_2470_2551</td>\n",
       "      <td>3</td>\n",
       "    </tr>\n",
       "    <tr>\n",
       "      <th>72</th>\n",
       "      <td>StarTalk_Sleep_382_450</td>\n",
       "      <td>4</td>\n",
       "    </tr>\n",
       "    <tr>\n",
       "      <th>73</th>\n",
       "      <td>StarTalk_Sleep_748_796</td>\n",
       "      <td>4</td>\n",
       "    </tr>\n",
       "    <tr>\n",
       "      <th>74</th>\n",
       "      <td>TalkSport_1_0_131</td>\n",
       "      <td>3</td>\n",
       "    </tr>\n",
       "    <tr>\n",
       "      <th>75</th>\n",
       "      <td>TalkSport_1_131_310</td>\n",
       "      <td>3</td>\n",
       "    </tr>\n",
       "  </tbody>\n",
       "</table>\n",
       "<p>76 rows × 2 columns</p>\n",
       "</div>"
      ],
      "text/plain": [
       "                  Video Name  Number of Speakers\n",
       "0                     ESPN_1                   5\n",
       "1      MagnusCarlson_542_599                   2\n",
       "2            NDT_India_19_88                   4\n",
       "3        PiersMorgan_1_0_165                   4\n",
       "4      PiersMorgan_1_165_368                   4\n",
       "..                       ...                 ...\n",
       "71  StarTalk_Sleep_2470_2551                   3\n",
       "72    StarTalk_Sleep_382_450                   4\n",
       "73    StarTalk_Sleep_748_796                   4\n",
       "74         TalkSport_1_0_131                   3\n",
       "75       TalkSport_1_131_310                   3\n",
       "\n",
       "[76 rows x 2 columns]"
      ]
     },
     "execution_count": 3,
     "metadata": {},
     "output_type": "execute_result"
    }
   ],
   "source": [
    "stats_df_2 = pd.read_excel(\"../../Dataset/Dataset_stats.xlsx\", sheet_name=\"Sheet4\")\n",
    "temp = stats_df_2[[\"Video Name\", \"Number of Speakers\"]]\n",
    "temp"
   ]
  },
  {
   "cell_type": "code",
   "execution_count": 8,
   "id": "e4907269",
   "metadata": {},
   "outputs": [
    {
     "data": {
      "application/vnd.plotly.v1+json": {
       "config": {
        "plotlyServerURL": "https://plot.ly"
       },
       "data": [
        {
         "mode": "lines",
         "name": "CER",
         "type": "scatter",
         "x": [
          1,
          2,
          3,
          4,
          5,
          6,
          7,
          8,
          9,
          10,
          11,
          12,
          13,
          14,
          15,
          16,
          17,
          18,
          19,
          20,
          21,
          22,
          23,
          24,
          25,
          26,
          27,
          28,
          29,
          30,
          31,
          32,
          33,
          34,
          35,
          36,
          37,
          38,
          39,
          40,
          41,
          42,
          43,
          44,
          45,
          46,
          47,
          48,
          49,
          50,
          51,
          52,
          53,
          54,
          55,
          56,
          57,
          58,
          59,
          60,
          61
         ],
         "y": [
          0,
          0,
          0,
          0,
          0,
          0,
          0,
          0,
          0,
          0,
          0,
          0,
          0,
          0,
          0,
          0,
          0,
          0,
          0,
          0,
          0,
          0,
          0,
          0,
          0,
          0,
          0,
          6.691628957263553e-08,
          4.3634902050678834e-07,
          2.2159631725965554e-06,
          8.76430436278587e-06,
          2.6995957967298842e-05,
          6.475993660472744e-05,
          0.00012098748976534904,
          0.00017603575888479035,
          0.000199474647864745,
          0.00017603575888479035,
          0.00012098748976534904,
          6.475993660472744e-05,
          2.6995957967298842e-05,
          8.76430436278587e-06,
          4.765473805313969e-06,
          1.7061246701815424e-05,
          8.449511316550141e-05,
          0.00033391999622214163,
          0.001028545998554086,
          0.0024673535846401157,
          0.004609623360059798,
          0.006706962413510513,
          0.007599984083646785,
          0.006706962413510513,
          0.004609623360059798,
          0.0024673535846401157,
          0.001028545998554086,
          0.00033391999622214163,
          8.442819687592877e-05,
          1.6624897681308636e-05,
          2.549510632717414e-06,
          0,
          0,
          0
         ]
        },
        {
         "mode": "lines",
         "name": "Word overlap %",
         "type": "scatter",
         "x": [
          1,
          2,
          3,
          4,
          5,
          6,
          7,
          8,
          9,
          10,
          11,
          12,
          13,
          14,
          15,
          16,
          17,
          18,
          19,
          20,
          21,
          22,
          23,
          24,
          25,
          26,
          27,
          28,
          29,
          30,
          31,
          32,
          33,
          34,
          35,
          36,
          37,
          38,
          39,
          40,
          41,
          42,
          43,
          44,
          45,
          46,
          47,
          48,
          49,
          50,
          51,
          52,
          53,
          54,
          55,
          56,
          57,
          58,
          59,
          60,
          61
         ],
         "y": [
          0.03768624841827487,
          0.038493601309317116,
          0.040049814759688725,
          0.04225000275413027,
          0.04498124388139689,
          0.04814643835611645,
          0.05162543709940139,
          0.05523348197984944,
          0.05877403469477174,
          0.06216870143362978,
          0.06552553300924835,
          0.06906653340568664,
          0.07299590585148139,
          0.07740469066996569,
          0.08218523440708556,
          0.08696369639882028,
          0.09121411768565972,
          0.09458561527801046,
          0.09716524227064585,
          0.09941405781489093,
          0.10186491780714728,
          0.10485034419735725,
          0.10840330100001083,
          0.11231818171148991,
          0.11632006560076388,
          0.12026503680229089,
          0.12423089662837092,
          0.128410996206979,
          0.13293511548680387,
          0.1378101543663093,
          0.14294576404701356,
          0.14809560361206825,
          0.1527931169600683,
          0.15653442139794826,
          0.1591338896475849,
          0.16085537348805434,
          0.16218715021989677,
          0.1635492491792943,
          0.16520847932736107,
          0.16736602712296927,
          0.17021896651278196,
          0.17389051954406398,
          0.17830214935504704,
          0.1831313513006794,
          0.18792567224537696,
          0.1923074689976325,
          0.19612213419938757,
          0.19942681021457637,
          0.20238967927114343,
          0.20526058377462092,
          0.20841363305416521,
          0.2123137307011008,
          0.217383628519448,
          0.2238809194320207,
          0.23182115205828635,
          0.24094631811375106,
          0.25087266649184103,
          0.2613450398915853,
          0.27200959743206043,
          0.2815534999276343,
          0.2874495892989518
         ]
        },
        {
         "mode": "lines",
         "name": "Video Incorrect MWDE",
         "type": "scatter",
         "x": [
          1,
          2,
          3,
          4,
          5,
          6,
          7,
          8,
          9,
          10,
          11,
          12,
          13,
          14,
          15,
          16,
          17,
          18,
          19,
          20,
          21,
          22,
          23,
          24,
          25,
          26,
          27,
          28,
          29,
          30,
          31,
          32,
          33,
          34,
          35,
          36,
          37,
          38,
          39,
          40,
          41,
          42,
          43,
          44,
          45,
          46,
          47,
          48,
          49,
          50,
          51,
          52,
          53,
          54,
          55,
          56,
          57,
          58,
          59,
          60,
          61
         ],
         "y": [
          0.005882503511436352,
          0.006095639835278676,
          0.007104645514669532,
          0.009603903849142427,
          0.013650640803853585,
          0.01824391334393357,
          0.021817439719799464,
          0.02329809878621726,
          0.02268810810694027,
          0.020795087091874515,
          0.018658098588324797,
          0.017144169316002635,
          0.016756994338549668,
          0.01763241318449176,
          0.01960530770240628,
          0.022148271647944345,
          0.02437690170473876,
          0.025507868185963897,
          0.02545975972151611,
          0.024774430904576164,
          0.023915338960936464,
          0.02289913848610252,
          0.021636444872584544,
          0.02037556766325754,
          0.01966082387816241,
          0.019793398430634088,
          0.020452356348960442,
          0.021235755285157525,
          0.022577545270030655,
          0.025506909052346018,
          0.030159912132845256,
          0.03498606303205903,
          0.03791315066795754,
          0.03817825079872238,
          0.036805116664718224,
          0.03544957988620938,
          0.03495975073881473,
          0.03496898889367314,
          0.034634538740035775,
          0.03359513295798874,
          0.03230886802830234,
          0.03163759092496218,
          0.03207457755414525,
          0.033304180470285924,
          0.03449150035170701,
          0.03502912315668422,
          0.03510976111648155,
          0.035562171803485705,
          0.036891470201472994,
          0.03845402263008937,
          0.0389356125577002,
          0.037809170571232925,
          0.03600162368812415,
          0.0351079904585947,
          0.036378474632412006,
          0.0402197725303813,
          0.04568925011964985,
          0.05047560377954533,
          0.05253939491605977,
          0.05200652205329011,
          0.050856225063492744
         ]
        },
        {
         "mode": "lines",
         "name": "Num Speakers",
         "type": "scatter",
         "x": [
          1,
          2,
          3,
          4,
          5,
          6,
          7,
          8,
          9,
          10,
          11,
          12,
          13,
          14,
          15,
          16,
          17,
          18,
          19,
          20,
          21,
          22,
          23,
          24,
          25,
          26,
          27,
          28,
          29,
          30,
          31,
          32,
          33,
          34,
          35,
          36,
          37,
          38,
          39,
          40,
          41,
          42,
          43,
          44,
          45,
          46,
          47,
          48,
          49,
          50,
          51,
          52,
          53,
          54,
          55,
          56,
          57,
          58,
          59,
          60,
          61
         ],
         "y": [
          3,
          4,
          3,
          3,
          3,
          3,
          3,
          3,
          4,
          3,
          3,
          2,
          3,
          4,
          3,
          4,
          3,
          3,
          3,
          2,
          3,
          3,
          3,
          3,
          3,
          4,
          3,
          4,
          3,
          4,
          3,
          3,
          3,
          4,
          3,
          4,
          3,
          3,
          3,
          2,
          2,
          3,
          3,
          3,
          3,
          3,
          3,
          3,
          3,
          3,
          3,
          3,
          3,
          3,
          3,
          4,
          3,
          3,
          3,
          3,
          3
         ]
        }
       ],
       "layout": {
        "legend": {
         "orientation": "h",
         "x": 0,
         "y": 1.1
        },
        "template": {
         "data": {
          "bar": [
           {
            "error_x": {
             "color": "#2a3f5f"
            },
            "error_y": {
             "color": "#2a3f5f"
            },
            "marker": {
             "line": {
              "color": "#E5ECF6",
              "width": 0.5
             },
             "pattern": {
              "fillmode": "overlay",
              "size": 10,
              "solidity": 0.2
             }
            },
            "type": "bar"
           }
          ],
          "barpolar": [
           {
            "marker": {
             "line": {
              "color": "#E5ECF6",
              "width": 0.5
             },
             "pattern": {
              "fillmode": "overlay",
              "size": 10,
              "solidity": 0.2
             }
            },
            "type": "barpolar"
           }
          ],
          "carpet": [
           {
            "aaxis": {
             "endlinecolor": "#2a3f5f",
             "gridcolor": "white",
             "linecolor": "white",
             "minorgridcolor": "white",
             "startlinecolor": "#2a3f5f"
            },
            "baxis": {
             "endlinecolor": "#2a3f5f",
             "gridcolor": "white",
             "linecolor": "white",
             "minorgridcolor": "white",
             "startlinecolor": "#2a3f5f"
            },
            "type": "carpet"
           }
          ],
          "choropleth": [
           {
            "colorbar": {
             "outlinewidth": 0,
             "ticks": ""
            },
            "type": "choropleth"
           }
          ],
          "contour": [
           {
            "colorbar": {
             "outlinewidth": 0,
             "ticks": ""
            },
            "colorscale": [
             [
              0,
              "#0d0887"
             ],
             [
              0.1111111111111111,
              "#46039f"
             ],
             [
              0.2222222222222222,
              "#7201a8"
             ],
             [
              0.3333333333333333,
              "#9c179e"
             ],
             [
              0.4444444444444444,
              "#bd3786"
             ],
             [
              0.5555555555555556,
              "#d8576b"
             ],
             [
              0.6666666666666666,
              "#ed7953"
             ],
             [
              0.7777777777777778,
              "#fb9f3a"
             ],
             [
              0.8888888888888888,
              "#fdca26"
             ],
             [
              1,
              "#f0f921"
             ]
            ],
            "type": "contour"
           }
          ],
          "contourcarpet": [
           {
            "colorbar": {
             "outlinewidth": 0,
             "ticks": ""
            },
            "type": "contourcarpet"
           }
          ],
          "heatmap": [
           {
            "colorbar": {
             "outlinewidth": 0,
             "ticks": ""
            },
            "colorscale": [
             [
              0,
              "#0d0887"
             ],
             [
              0.1111111111111111,
              "#46039f"
             ],
             [
              0.2222222222222222,
              "#7201a8"
             ],
             [
              0.3333333333333333,
              "#9c179e"
             ],
             [
              0.4444444444444444,
              "#bd3786"
             ],
             [
              0.5555555555555556,
              "#d8576b"
             ],
             [
              0.6666666666666666,
              "#ed7953"
             ],
             [
              0.7777777777777778,
              "#fb9f3a"
             ],
             [
              0.8888888888888888,
              "#fdca26"
             ],
             [
              1,
              "#f0f921"
             ]
            ],
            "type": "heatmap"
           }
          ],
          "heatmapgl": [
           {
            "colorbar": {
             "outlinewidth": 0,
             "ticks": ""
            },
            "colorscale": [
             [
              0,
              "#0d0887"
             ],
             [
              0.1111111111111111,
              "#46039f"
             ],
             [
              0.2222222222222222,
              "#7201a8"
             ],
             [
              0.3333333333333333,
              "#9c179e"
             ],
             [
              0.4444444444444444,
              "#bd3786"
             ],
             [
              0.5555555555555556,
              "#d8576b"
             ],
             [
              0.6666666666666666,
              "#ed7953"
             ],
             [
              0.7777777777777778,
              "#fb9f3a"
             ],
             [
              0.8888888888888888,
              "#fdca26"
             ],
             [
              1,
              "#f0f921"
             ]
            ],
            "type": "heatmapgl"
           }
          ],
          "histogram": [
           {
            "marker": {
             "pattern": {
              "fillmode": "overlay",
              "size": 10,
              "solidity": 0.2
             }
            },
            "type": "histogram"
           }
          ],
          "histogram2d": [
           {
            "colorbar": {
             "outlinewidth": 0,
             "ticks": ""
            },
            "colorscale": [
             [
              0,
              "#0d0887"
             ],
             [
              0.1111111111111111,
              "#46039f"
             ],
             [
              0.2222222222222222,
              "#7201a8"
             ],
             [
              0.3333333333333333,
              "#9c179e"
             ],
             [
              0.4444444444444444,
              "#bd3786"
             ],
             [
              0.5555555555555556,
              "#d8576b"
             ],
             [
              0.6666666666666666,
              "#ed7953"
             ],
             [
              0.7777777777777778,
              "#fb9f3a"
             ],
             [
              0.8888888888888888,
              "#fdca26"
             ],
             [
              1,
              "#f0f921"
             ]
            ],
            "type": "histogram2d"
           }
          ],
          "histogram2dcontour": [
           {
            "colorbar": {
             "outlinewidth": 0,
             "ticks": ""
            },
            "colorscale": [
             [
              0,
              "#0d0887"
             ],
             [
              0.1111111111111111,
              "#46039f"
             ],
             [
              0.2222222222222222,
              "#7201a8"
             ],
             [
              0.3333333333333333,
              "#9c179e"
             ],
             [
              0.4444444444444444,
              "#bd3786"
             ],
             [
              0.5555555555555556,
              "#d8576b"
             ],
             [
              0.6666666666666666,
              "#ed7953"
             ],
             [
              0.7777777777777778,
              "#fb9f3a"
             ],
             [
              0.8888888888888888,
              "#fdca26"
             ],
             [
              1,
              "#f0f921"
             ]
            ],
            "type": "histogram2dcontour"
           }
          ],
          "mesh3d": [
           {
            "colorbar": {
             "outlinewidth": 0,
             "ticks": ""
            },
            "type": "mesh3d"
           }
          ],
          "parcoords": [
           {
            "line": {
             "colorbar": {
              "outlinewidth": 0,
              "ticks": ""
             }
            },
            "type": "parcoords"
           }
          ],
          "pie": [
           {
            "automargin": true,
            "type": "pie"
           }
          ],
          "scatter": [
           {
            "fillpattern": {
             "fillmode": "overlay",
             "size": 10,
             "solidity": 0.2
            },
            "type": "scatter"
           }
          ],
          "scatter3d": [
           {
            "line": {
             "colorbar": {
              "outlinewidth": 0,
              "ticks": ""
             }
            },
            "marker": {
             "colorbar": {
              "outlinewidth": 0,
              "ticks": ""
             }
            },
            "type": "scatter3d"
           }
          ],
          "scattercarpet": [
           {
            "marker": {
             "colorbar": {
              "outlinewidth": 0,
              "ticks": ""
             }
            },
            "type": "scattercarpet"
           }
          ],
          "scattergeo": [
           {
            "marker": {
             "colorbar": {
              "outlinewidth": 0,
              "ticks": ""
             }
            },
            "type": "scattergeo"
           }
          ],
          "scattergl": [
           {
            "marker": {
             "colorbar": {
              "outlinewidth": 0,
              "ticks": ""
             }
            },
            "type": "scattergl"
           }
          ],
          "scattermapbox": [
           {
            "marker": {
             "colorbar": {
              "outlinewidth": 0,
              "ticks": ""
             }
            },
            "type": "scattermapbox"
           }
          ],
          "scatterpolar": [
           {
            "marker": {
             "colorbar": {
              "outlinewidth": 0,
              "ticks": ""
             }
            },
            "type": "scatterpolar"
           }
          ],
          "scatterpolargl": [
           {
            "marker": {
             "colorbar": {
              "outlinewidth": 0,
              "ticks": ""
             }
            },
            "type": "scatterpolargl"
           }
          ],
          "scatterternary": [
           {
            "marker": {
             "colorbar": {
              "outlinewidth": 0,
              "ticks": ""
             }
            },
            "type": "scatterternary"
           }
          ],
          "surface": [
           {
            "colorbar": {
             "outlinewidth": 0,
             "ticks": ""
            },
            "colorscale": [
             [
              0,
              "#0d0887"
             ],
             [
              0.1111111111111111,
              "#46039f"
             ],
             [
              0.2222222222222222,
              "#7201a8"
             ],
             [
              0.3333333333333333,
              "#9c179e"
             ],
             [
              0.4444444444444444,
              "#bd3786"
             ],
             [
              0.5555555555555556,
              "#d8576b"
             ],
             [
              0.6666666666666666,
              "#ed7953"
             ],
             [
              0.7777777777777778,
              "#fb9f3a"
             ],
             [
              0.8888888888888888,
              "#fdca26"
             ],
             [
              1,
              "#f0f921"
             ]
            ],
            "type": "surface"
           }
          ],
          "table": [
           {
            "cells": {
             "fill": {
              "color": "#EBF0F8"
             },
             "line": {
              "color": "white"
             }
            },
            "header": {
             "fill": {
              "color": "#C8D4E3"
             },
             "line": {
              "color": "white"
             }
            },
            "type": "table"
           }
          ]
         },
         "layout": {
          "annotationdefaults": {
           "arrowcolor": "#2a3f5f",
           "arrowhead": 0,
           "arrowwidth": 1
          },
          "autotypenumbers": "strict",
          "coloraxis": {
           "colorbar": {
            "outlinewidth": 0,
            "ticks": ""
           }
          },
          "colorscale": {
           "diverging": [
            [
             0,
             "#8e0152"
            ],
            [
             0.1,
             "#c51b7d"
            ],
            [
             0.2,
             "#de77ae"
            ],
            [
             0.3,
             "#f1b6da"
            ],
            [
             0.4,
             "#fde0ef"
            ],
            [
             0.5,
             "#f7f7f7"
            ],
            [
             0.6,
             "#e6f5d0"
            ],
            [
             0.7,
             "#b8e186"
            ],
            [
             0.8,
             "#7fbc41"
            ],
            [
             0.9,
             "#4d9221"
            ],
            [
             1,
             "#276419"
            ]
           ],
           "sequential": [
            [
             0,
             "#0d0887"
            ],
            [
             0.1111111111111111,
             "#46039f"
            ],
            [
             0.2222222222222222,
             "#7201a8"
            ],
            [
             0.3333333333333333,
             "#9c179e"
            ],
            [
             0.4444444444444444,
             "#bd3786"
            ],
            [
             0.5555555555555556,
             "#d8576b"
            ],
            [
             0.6666666666666666,
             "#ed7953"
            ],
            [
             0.7777777777777778,
             "#fb9f3a"
            ],
            [
             0.8888888888888888,
             "#fdca26"
            ],
            [
             1,
             "#f0f921"
            ]
           ],
           "sequentialminus": [
            [
             0,
             "#0d0887"
            ],
            [
             0.1111111111111111,
             "#46039f"
            ],
            [
             0.2222222222222222,
             "#7201a8"
            ],
            [
             0.3333333333333333,
             "#9c179e"
            ],
            [
             0.4444444444444444,
             "#bd3786"
            ],
            [
             0.5555555555555556,
             "#d8576b"
            ],
            [
             0.6666666666666666,
             "#ed7953"
            ],
            [
             0.7777777777777778,
             "#fb9f3a"
            ],
            [
             0.8888888888888888,
             "#fdca26"
            ],
            [
             1,
             "#f0f921"
            ]
           ]
          },
          "colorway": [
           "#636efa",
           "#EF553B",
           "#00cc96",
           "#ab63fa",
           "#FFA15A",
           "#19d3f3",
           "#FF6692",
           "#B6E880",
           "#FF97FF",
           "#FECB52"
          ],
          "font": {
           "color": "#2a3f5f"
          },
          "geo": {
           "bgcolor": "white",
           "lakecolor": "white",
           "landcolor": "#E5ECF6",
           "showlakes": true,
           "showland": true,
           "subunitcolor": "white"
          },
          "hoverlabel": {
           "align": "left"
          },
          "hovermode": "closest",
          "mapbox": {
           "style": "light"
          },
          "paper_bgcolor": "white",
          "plot_bgcolor": "#E5ECF6",
          "polar": {
           "angularaxis": {
            "gridcolor": "white",
            "linecolor": "white",
            "ticks": ""
           },
           "bgcolor": "#E5ECF6",
           "radialaxis": {
            "gridcolor": "white",
            "linecolor": "white",
            "ticks": ""
           }
          },
          "scene": {
           "xaxis": {
            "backgroundcolor": "#E5ECF6",
            "gridcolor": "white",
            "gridwidth": 2,
            "linecolor": "white",
            "showbackground": true,
            "ticks": "",
            "zerolinecolor": "white"
           },
           "yaxis": {
            "backgroundcolor": "#E5ECF6",
            "gridcolor": "white",
            "gridwidth": 2,
            "linecolor": "white",
            "showbackground": true,
            "ticks": "",
            "zerolinecolor": "white"
           },
           "zaxis": {
            "backgroundcolor": "#E5ECF6",
            "gridcolor": "white",
            "gridwidth": 2,
            "linecolor": "white",
            "showbackground": true,
            "ticks": "",
            "zerolinecolor": "white"
           }
          },
          "shapedefaults": {
           "line": {
            "color": "#2a3f5f"
           }
          },
          "ternary": {
           "aaxis": {
            "gridcolor": "white",
            "linecolor": "white",
            "ticks": ""
           },
           "baxis": {
            "gridcolor": "white",
            "linecolor": "white",
            "ticks": ""
           },
           "bgcolor": "#E5ECF6",
           "caxis": {
            "gridcolor": "white",
            "linecolor": "white",
            "ticks": ""
           }
          },
          "title": {
           "x": 0.05
          },
          "xaxis": {
           "automargin": true,
           "gridcolor": "white",
           "linecolor": "white",
           "ticks": "",
           "title": {
            "standoff": 15
           },
           "zerolinecolor": "white",
           "zerolinewidth": 2
          },
          "yaxis": {
           "automargin": true,
           "gridcolor": "white",
           "linecolor": "white",
           "ticks": "",
           "title": {
            "standoff": 15
           },
           "zerolinecolor": "white",
           "zerolinewidth": 2
          }
         }
        },
        "xaxis": {
         "title": {
          "text": "Video Number"
         }
        },
        "yaxis": {
         "title": {
          "text": "Smoothed Value"
         }
        }
       }
      },
      "text/html": [
       "<div>                            <div id=\"5c959c7d-d79c-476d-b421-4ca4b1db71b7\" class=\"plotly-graph-div\" style=\"height:525px; width:100%;\"></div>            <script type=\"text/javascript\">                require([\"plotly\"], function(Plotly) {                    window.PLOTLYENV=window.PLOTLYENV || {};                                    if (document.getElementById(\"5c959c7d-d79c-476d-b421-4ca4b1db71b7\")) {                    Plotly.newPlot(                        \"5c959c7d-d79c-476d-b421-4ca4b1db71b7\",                        [{\"mode\":\"lines\",\"name\":\"CER\",\"x\":[1,2,3,4,5,6,7,8,9,10,11,12,13,14,15,16,17,18,19,20,21,22,23,24,25,26,27,28,29,30,31,32,33,34,35,36,37,38,39,40,41,42,43,44,45,46,47,48,49,50,51,52,53,54,55,56,57,58,59,60,61],\"y\":[0.0,0.0,0.0,0.0,0.0,0.0,0.0,0.0,0.0,0.0,0.0,0.0,0.0,0.0,0.0,0.0,0.0,0.0,0.0,0.0,0.0,0.0,0.0,0.0,0.0,0.0,0.0,6.691628957263553e-08,4.3634902050678834e-07,2.2159631725965554e-06,8.76430436278587e-06,2.6995957967298842e-05,6.475993660472744e-05,0.00012098748976534904,0.00017603575888479035,0.000199474647864745,0.00017603575888479035,0.00012098748976534904,6.475993660472744e-05,2.6995957967298842e-05,8.76430436278587e-06,4.765473805313969e-06,1.7061246701815424e-05,8.449511316550141e-05,0.00033391999622214163,0.001028545998554086,0.0024673535846401157,0.004609623360059798,0.006706962413510513,0.007599984083646785,0.006706962413510513,0.004609623360059798,0.0024673535846401157,0.001028545998554086,0.00033391999622214163,8.442819687592877e-05,1.6624897681308636e-05,2.549510632717414e-06,0.0,0.0,0.0],\"type\":\"scatter\"},{\"mode\":\"lines\",\"name\":\"Word overlap %\",\"x\":[1,2,3,4,5,6,7,8,9,10,11,12,13,14,15,16,17,18,19,20,21,22,23,24,25,26,27,28,29,30,31,32,33,34,35,36,37,38,39,40,41,42,43,44,45,46,47,48,49,50,51,52,53,54,55,56,57,58,59,60,61],\"y\":[0.03768624841827487,0.038493601309317116,0.040049814759688725,0.04225000275413027,0.04498124388139689,0.04814643835611645,0.05162543709940139,0.05523348197984944,0.05877403469477174,0.06216870143362978,0.06552553300924835,0.06906653340568664,0.07299590585148139,0.07740469066996569,0.08218523440708556,0.08696369639882028,0.09121411768565972,0.09458561527801046,0.09716524227064585,0.09941405781489093,0.10186491780714728,0.10485034419735725,0.10840330100001083,0.11231818171148991,0.11632006560076388,0.12026503680229089,0.12423089662837092,0.128410996206979,0.13293511548680387,0.1378101543663093,0.14294576404701356,0.14809560361206825,0.1527931169600683,0.15653442139794826,0.1591338896475849,0.16085537348805434,0.16218715021989677,0.1635492491792943,0.16520847932736107,0.16736602712296927,0.17021896651278196,0.17389051954406398,0.17830214935504704,0.1831313513006794,0.18792567224537696,0.1923074689976325,0.19612213419938757,0.19942681021457637,0.20238967927114343,0.20526058377462092,0.20841363305416521,0.2123137307011008,0.217383628519448,0.2238809194320207,0.23182115205828635,0.24094631811375106,0.25087266649184103,0.2613450398915853,0.27200959743206043,0.2815534999276343,0.2874495892989518],\"type\":\"scatter\"},{\"mode\":\"lines\",\"name\":\"Video Incorrect MWDE\",\"x\":[1,2,3,4,5,6,7,8,9,10,11,12,13,14,15,16,17,18,19,20,21,22,23,24,25,26,27,28,29,30,31,32,33,34,35,36,37,38,39,40,41,42,43,44,45,46,47,48,49,50,51,52,53,54,55,56,57,58,59,60,61],\"y\":[0.005882503511436352,0.006095639835278676,0.007104645514669532,0.009603903849142427,0.013650640803853585,0.01824391334393357,0.021817439719799464,0.02329809878621726,0.02268810810694027,0.020795087091874515,0.018658098588324797,0.017144169316002635,0.016756994338549668,0.01763241318449176,0.01960530770240628,0.022148271647944345,0.02437690170473876,0.025507868185963897,0.02545975972151611,0.024774430904576164,0.023915338960936464,0.02289913848610252,0.021636444872584544,0.02037556766325754,0.01966082387816241,0.019793398430634088,0.020452356348960442,0.021235755285157525,0.022577545270030655,0.025506909052346018,0.030159912132845256,0.03498606303205903,0.03791315066795754,0.03817825079872238,0.036805116664718224,0.03544957988620938,0.03495975073881473,0.03496898889367314,0.034634538740035775,0.03359513295798874,0.03230886802830234,0.03163759092496218,0.03207457755414525,0.033304180470285924,0.03449150035170701,0.03502912315668422,0.03510976111648155,0.035562171803485705,0.036891470201472994,0.03845402263008937,0.0389356125577002,0.037809170571232925,0.03600162368812415,0.0351079904585947,0.036378474632412006,0.0402197725303813,0.04568925011964985,0.05047560377954533,0.05253939491605977,0.05200652205329011,0.050856225063492744],\"type\":\"scatter\"},{\"mode\":\"lines\",\"name\":\"Num Speakers\",\"x\":[1,2,3,4,5,6,7,8,9,10,11,12,13,14,15,16,17,18,19,20,21,22,23,24,25,26,27,28,29,30,31,32,33,34,35,36,37,38,39,40,41,42,43,44,45,46,47,48,49,50,51,52,53,54,55,56,57,58,59,60,61],\"y\":[3,4,3,3,3,3,3,3,4,3,3,2,3,4,3,4,3,3,3,2,3,3,3,3,3,4,3,4,3,4,3,3,3,4,3,4,3,3,3,2,2,3,3,3,3,3,3,3,3,3,3,3,3,3,3,4,3,3,3,3,3],\"type\":\"scatter\"}],                        {\"template\":{\"data\":{\"histogram2dcontour\":[{\"type\":\"histogram2dcontour\",\"colorbar\":{\"outlinewidth\":0,\"ticks\":\"\"},\"colorscale\":[[0.0,\"#0d0887\"],[0.1111111111111111,\"#46039f\"],[0.2222222222222222,\"#7201a8\"],[0.3333333333333333,\"#9c179e\"],[0.4444444444444444,\"#bd3786\"],[0.5555555555555556,\"#d8576b\"],[0.6666666666666666,\"#ed7953\"],[0.7777777777777778,\"#fb9f3a\"],[0.8888888888888888,\"#fdca26\"],[1.0,\"#f0f921\"]]}],\"choropleth\":[{\"type\":\"choropleth\",\"colorbar\":{\"outlinewidth\":0,\"ticks\":\"\"}}],\"histogram2d\":[{\"type\":\"histogram2d\",\"colorbar\":{\"outlinewidth\":0,\"ticks\":\"\"},\"colorscale\":[[0.0,\"#0d0887\"],[0.1111111111111111,\"#46039f\"],[0.2222222222222222,\"#7201a8\"],[0.3333333333333333,\"#9c179e\"],[0.4444444444444444,\"#bd3786\"],[0.5555555555555556,\"#d8576b\"],[0.6666666666666666,\"#ed7953\"],[0.7777777777777778,\"#fb9f3a\"],[0.8888888888888888,\"#fdca26\"],[1.0,\"#f0f921\"]]}],\"heatmap\":[{\"type\":\"heatmap\",\"colorbar\":{\"outlinewidth\":0,\"ticks\":\"\"},\"colorscale\":[[0.0,\"#0d0887\"],[0.1111111111111111,\"#46039f\"],[0.2222222222222222,\"#7201a8\"],[0.3333333333333333,\"#9c179e\"],[0.4444444444444444,\"#bd3786\"],[0.5555555555555556,\"#d8576b\"],[0.6666666666666666,\"#ed7953\"],[0.7777777777777778,\"#fb9f3a\"],[0.8888888888888888,\"#fdca26\"],[1.0,\"#f0f921\"]]}],\"heatmapgl\":[{\"type\":\"heatmapgl\",\"colorbar\":{\"outlinewidth\":0,\"ticks\":\"\"},\"colorscale\":[[0.0,\"#0d0887\"],[0.1111111111111111,\"#46039f\"],[0.2222222222222222,\"#7201a8\"],[0.3333333333333333,\"#9c179e\"],[0.4444444444444444,\"#bd3786\"],[0.5555555555555556,\"#d8576b\"],[0.6666666666666666,\"#ed7953\"],[0.7777777777777778,\"#fb9f3a\"],[0.8888888888888888,\"#fdca26\"],[1.0,\"#f0f921\"]]}],\"contourcarpet\":[{\"type\":\"contourcarpet\",\"colorbar\":{\"outlinewidth\":0,\"ticks\":\"\"}}],\"contour\":[{\"type\":\"contour\",\"colorbar\":{\"outlinewidth\":0,\"ticks\":\"\"},\"colorscale\":[[0.0,\"#0d0887\"],[0.1111111111111111,\"#46039f\"],[0.2222222222222222,\"#7201a8\"],[0.3333333333333333,\"#9c179e\"],[0.4444444444444444,\"#bd3786\"],[0.5555555555555556,\"#d8576b\"],[0.6666666666666666,\"#ed7953\"],[0.7777777777777778,\"#fb9f3a\"],[0.8888888888888888,\"#fdca26\"],[1.0,\"#f0f921\"]]}],\"surface\":[{\"type\":\"surface\",\"colorbar\":{\"outlinewidth\":0,\"ticks\":\"\"},\"colorscale\":[[0.0,\"#0d0887\"],[0.1111111111111111,\"#46039f\"],[0.2222222222222222,\"#7201a8\"],[0.3333333333333333,\"#9c179e\"],[0.4444444444444444,\"#bd3786\"],[0.5555555555555556,\"#d8576b\"],[0.6666666666666666,\"#ed7953\"],[0.7777777777777778,\"#fb9f3a\"],[0.8888888888888888,\"#fdca26\"],[1.0,\"#f0f921\"]]}],\"mesh3d\":[{\"type\":\"mesh3d\",\"colorbar\":{\"outlinewidth\":0,\"ticks\":\"\"}}],\"scatter\":[{\"fillpattern\":{\"fillmode\":\"overlay\",\"size\":10,\"solidity\":0.2},\"type\":\"scatter\"}],\"parcoords\":[{\"type\":\"parcoords\",\"line\":{\"colorbar\":{\"outlinewidth\":0,\"ticks\":\"\"}}}],\"scatterpolargl\":[{\"type\":\"scatterpolargl\",\"marker\":{\"colorbar\":{\"outlinewidth\":0,\"ticks\":\"\"}}}],\"bar\":[{\"error_x\":{\"color\":\"#2a3f5f\"},\"error_y\":{\"color\":\"#2a3f5f\"},\"marker\":{\"line\":{\"color\":\"#E5ECF6\",\"width\":0.5},\"pattern\":{\"fillmode\":\"overlay\",\"size\":10,\"solidity\":0.2}},\"type\":\"bar\"}],\"scattergeo\":[{\"type\":\"scattergeo\",\"marker\":{\"colorbar\":{\"outlinewidth\":0,\"ticks\":\"\"}}}],\"scatterpolar\":[{\"type\":\"scatterpolar\",\"marker\":{\"colorbar\":{\"outlinewidth\":0,\"ticks\":\"\"}}}],\"histogram\":[{\"marker\":{\"pattern\":{\"fillmode\":\"overlay\",\"size\":10,\"solidity\":0.2}},\"type\":\"histogram\"}],\"scattergl\":[{\"type\":\"scattergl\",\"marker\":{\"colorbar\":{\"outlinewidth\":0,\"ticks\":\"\"}}}],\"scatter3d\":[{\"type\":\"scatter3d\",\"line\":{\"colorbar\":{\"outlinewidth\":0,\"ticks\":\"\"}},\"marker\":{\"colorbar\":{\"outlinewidth\":0,\"ticks\":\"\"}}}],\"scattermapbox\":[{\"type\":\"scattermapbox\",\"marker\":{\"colorbar\":{\"outlinewidth\":0,\"ticks\":\"\"}}}],\"scatterternary\":[{\"type\":\"scatterternary\",\"marker\":{\"colorbar\":{\"outlinewidth\":0,\"ticks\":\"\"}}}],\"scattercarpet\":[{\"type\":\"scattercarpet\",\"marker\":{\"colorbar\":{\"outlinewidth\":0,\"ticks\":\"\"}}}],\"carpet\":[{\"aaxis\":{\"endlinecolor\":\"#2a3f5f\",\"gridcolor\":\"white\",\"linecolor\":\"white\",\"minorgridcolor\":\"white\",\"startlinecolor\":\"#2a3f5f\"},\"baxis\":{\"endlinecolor\":\"#2a3f5f\",\"gridcolor\":\"white\",\"linecolor\":\"white\",\"minorgridcolor\":\"white\",\"startlinecolor\":\"#2a3f5f\"},\"type\":\"carpet\"}],\"table\":[{\"cells\":{\"fill\":{\"color\":\"#EBF0F8\"},\"line\":{\"color\":\"white\"}},\"header\":{\"fill\":{\"color\":\"#C8D4E3\"},\"line\":{\"color\":\"white\"}},\"type\":\"table\"}],\"barpolar\":[{\"marker\":{\"line\":{\"color\":\"#E5ECF6\",\"width\":0.5},\"pattern\":{\"fillmode\":\"overlay\",\"size\":10,\"solidity\":0.2}},\"type\":\"barpolar\"}],\"pie\":[{\"automargin\":true,\"type\":\"pie\"}]},\"layout\":{\"autotypenumbers\":\"strict\",\"colorway\":[\"#636efa\",\"#EF553B\",\"#00cc96\",\"#ab63fa\",\"#FFA15A\",\"#19d3f3\",\"#FF6692\",\"#B6E880\",\"#FF97FF\",\"#FECB52\"],\"font\":{\"color\":\"#2a3f5f\"},\"hovermode\":\"closest\",\"hoverlabel\":{\"align\":\"left\"},\"paper_bgcolor\":\"white\",\"plot_bgcolor\":\"#E5ECF6\",\"polar\":{\"bgcolor\":\"#E5ECF6\",\"angularaxis\":{\"gridcolor\":\"white\",\"linecolor\":\"white\",\"ticks\":\"\"},\"radialaxis\":{\"gridcolor\":\"white\",\"linecolor\":\"white\",\"ticks\":\"\"}},\"ternary\":{\"bgcolor\":\"#E5ECF6\",\"aaxis\":{\"gridcolor\":\"white\",\"linecolor\":\"white\",\"ticks\":\"\"},\"baxis\":{\"gridcolor\":\"white\",\"linecolor\":\"white\",\"ticks\":\"\"},\"caxis\":{\"gridcolor\":\"white\",\"linecolor\":\"white\",\"ticks\":\"\"}},\"coloraxis\":{\"colorbar\":{\"outlinewidth\":0,\"ticks\":\"\"}},\"colorscale\":{\"sequential\":[[0.0,\"#0d0887\"],[0.1111111111111111,\"#46039f\"],[0.2222222222222222,\"#7201a8\"],[0.3333333333333333,\"#9c179e\"],[0.4444444444444444,\"#bd3786\"],[0.5555555555555556,\"#d8576b\"],[0.6666666666666666,\"#ed7953\"],[0.7777777777777778,\"#fb9f3a\"],[0.8888888888888888,\"#fdca26\"],[1.0,\"#f0f921\"]],\"sequentialminus\":[[0.0,\"#0d0887\"],[0.1111111111111111,\"#46039f\"],[0.2222222222222222,\"#7201a8\"],[0.3333333333333333,\"#9c179e\"],[0.4444444444444444,\"#bd3786\"],[0.5555555555555556,\"#d8576b\"],[0.6666666666666666,\"#ed7953\"],[0.7777777777777778,\"#fb9f3a\"],[0.8888888888888888,\"#fdca26\"],[1.0,\"#f0f921\"]],\"diverging\":[[0,\"#8e0152\"],[0.1,\"#c51b7d\"],[0.2,\"#de77ae\"],[0.3,\"#f1b6da\"],[0.4,\"#fde0ef\"],[0.5,\"#f7f7f7\"],[0.6,\"#e6f5d0\"],[0.7,\"#b8e186\"],[0.8,\"#7fbc41\"],[0.9,\"#4d9221\"],[1,\"#276419\"]]},\"xaxis\":{\"gridcolor\":\"white\",\"linecolor\":\"white\",\"ticks\":\"\",\"title\":{\"standoff\":15},\"zerolinecolor\":\"white\",\"automargin\":true,\"zerolinewidth\":2},\"yaxis\":{\"gridcolor\":\"white\",\"linecolor\":\"white\",\"ticks\":\"\",\"title\":{\"standoff\":15},\"zerolinecolor\":\"white\",\"automargin\":true,\"zerolinewidth\":2},\"scene\":{\"xaxis\":{\"backgroundcolor\":\"#E5ECF6\",\"gridcolor\":\"white\",\"linecolor\":\"white\",\"showbackground\":true,\"ticks\":\"\",\"zerolinecolor\":\"white\",\"gridwidth\":2},\"yaxis\":{\"backgroundcolor\":\"#E5ECF6\",\"gridcolor\":\"white\",\"linecolor\":\"white\",\"showbackground\":true,\"ticks\":\"\",\"zerolinecolor\":\"white\",\"gridwidth\":2},\"zaxis\":{\"backgroundcolor\":\"#E5ECF6\",\"gridcolor\":\"white\",\"linecolor\":\"white\",\"showbackground\":true,\"ticks\":\"\",\"zerolinecolor\":\"white\",\"gridwidth\":2}},\"shapedefaults\":{\"line\":{\"color\":\"#2a3f5f\"}},\"annotationdefaults\":{\"arrowcolor\":\"#2a3f5f\",\"arrowhead\":0,\"arrowwidth\":1},\"geo\":{\"bgcolor\":\"white\",\"landcolor\":\"#E5ECF6\",\"subunitcolor\":\"white\",\"showland\":true,\"showlakes\":true,\"lakecolor\":\"white\"},\"title\":{\"x\":0.05},\"mapbox\":{\"style\":\"light\"}}},\"legend\":{\"x\":0,\"y\":1.1,\"orientation\":\"h\"},\"xaxis\":{\"title\":{\"text\":\"Video Number\"}},\"yaxis\":{\"title\":{\"text\":\"Smoothed Value\"}}},                        {\"responsive\": true}                    ).then(function(){\n",
       "                            \n",
       "var gd = document.getElementById('5c959c7d-d79c-476d-b421-4ca4b1db71b7');\n",
       "var x = new MutationObserver(function (mutations, observer) {{\n",
       "        var display = window.getComputedStyle(gd).display;\n",
       "        if (!display || display === 'none') {{\n",
       "            console.log([gd, 'removed!']);\n",
       "            Plotly.purge(gd);\n",
       "            observer.disconnect();\n",
       "        }}\n",
       "}});\n",
       "\n",
       "// Listen for the removal of the full notebook cells\n",
       "var notebookContainer = gd.closest('#notebook-container');\n",
       "if (notebookContainer) {{\n",
       "    x.observe(notebookContainer, {childList: true});\n",
       "}}\n",
       "\n",
       "// Listen for the clearing of the current output cell\n",
       "var outputEl = gd.closest('.output');\n",
       "if (outputEl) {{\n",
       "    x.observe(outputEl, {childList: true});\n",
       "}}\n",
       "\n",
       "                        })                };                });            </script>        </div>"
      ]
     },
     "metadata": {},
     "output_type": "display_data"
    }
   ],
   "source": [
    "temp_df = stats_df[stats_df[\"Video Type\"] == \"Virtual\"].merge(temp)\n",
    "\n",
    "data = {\n",
    "    'Date': temp_df.index,\n",
    "    'Commodity1': temp_df[\"Face Clusterng error\"],\n",
    "    'Commodity2': temp_df[\"Word overlap %\"],\n",
    "    'Commodity3': temp_df[\"Video Incorrect\"],\n",
    "    'Commodity4': temp_df[\"Number of Speakers\"]\n",
    "}\n",
    "df = pd.DataFrame(data)\n",
    "\n",
    "df.sort_values([\"Commodity2\"], inplace=True)\n",
    "df.reset_index(drop=True, inplace=True)\n",
    "\n",
    "df[\"Date\"] = df.index + 1\n",
    "\n",
    "# Normalization\n",
    "# df['Commodity1_norm'] = df['Commodity1'] / df['Commodity1'].max()\n",
    "# df['Commodity2_norm'] = df['Commodity2'] / df['Commodity2'].max()\n",
    "# df['Commodity3_norm'] = df['Commodity3'] / df['Commodity3'].max()\n",
    "df['Commodity1_norm'] = gaussian_filter1d(df['Commodity1'], sigma=2)\n",
    "df['Commodity2_norm'] = gaussian_filter1d(df['Commodity2'], sigma=2)\n",
    "df['Commodity3_norm'] = gaussian_filter1d(df['Commodity3'], sigma=2)\n",
    "\n",
    "# Plot\n",
    "# plt.figure(figsize=(15, 6))\n",
    "# plt.plot(df['Date'], df['Commodity1_norm'], label='Commodity 1')\n",
    "# plt.plot(df['Date'], df['Commodity2_norm'], label='Commodity 2')\n",
    "# plt.plot(df['Date'], df['Commodity3_norm'], label='Commodity 3')\n",
    "# plt.xlabel('Date')\n",
    "# plt.ylabel('Normalized Value')\n",
    "# plt.title('Normalized Trends of Commodities')\n",
    "# plt.legend()\n",
    "# plt.show()\n",
    "\n",
    "fig = go.Figure()\n",
    "\n",
    "# Add traces\n",
    "fig.add_trace(go.Scatter(x=df['Date'], y=df['Commodity1_norm'], mode='lines', name='CER'))\n",
    "fig.add_trace(go.Scatter(x=df['Date'], y=df['Commodity2_norm'], mode='lines', name='Word overlap %'))\n",
    "fig.add_trace(go.Scatter(x=df['Date'], y=df['Commodity3_norm'], mode='lines', name='Video Incorrect MWDE'))\n",
    "fig.add_trace(go.Scatter(x=df['Date'], y=df['Commodity4'], mode='lines', name='Num Speakers'))\n",
    "\n",
    "# Update layout\n",
    "fig.update_layout(\n",
    "#     title='Trends comparison of CER, word overlap % and video incorrect MWDE',\n",
    "    xaxis=dict(title='Video Number'),\n",
    "    yaxis=dict(title='Smoothed Value'),\n",
    "    legend=dict(x=0, y=1.1, orientation='h')\n",
    ")\n",
    "\n",
    "# Show the plot\n",
    "fig.show()"
   ]
  },
  {
   "cell_type": "code",
   "execution_count": 13,
   "id": "04a9f5d0",
   "metadata": {},
   "outputs": [
    {
     "data": {
      "application/vnd.plotly.v1+json": {
       "config": {
        "plotlyServerURL": "https://plot.ly"
       },
       "data": [
        {
         "hovertemplate": "Commodity3=%{x}<br>Commodity2=%{y}<extra></extra>",
         "legendgroup": "",
         "marker": {
          "color": "#636efa",
          "symbol": "circle"
         },
         "mode": "markers",
         "name": "",
         "orientation": "v",
         "showlegend": false,
         "type": "scatter",
         "x": [
          0.008064516129032279,
          0.003636363636363646,
          0.006410256410256429,
          0,
          0.006410256410256408,
          0.0202020202020202,
          0.04736842105263158,
          0.007751937984496124,
          0.04225352112676056,
          0.007407407407407418,
          0.02941176470588236,
          0,
          0.024082568807339458,
          0.012195121951219579,
          0.01632653061224487,
          0.020576131687242774,
          0.025974025974025983,
          0.04424778761061954,
          0.018292682926829257,
          0.012195121951219516,
          0.0404040404040404,
          0.01694915254237288,
          0.018181818181818146,
          0.03543307086614175,
          0,
          0.018072289156626495,
          0.023584905660377353,
          0.03755868544600938,
          0.008264462809917328,
          0.012658227848101222,
          0.01526717557251911,
          0.06666666666666671,
          0.0390625,
          0.04419889502762431,
          0.04020100502512563,
          0.013986013986013957,
          0.040229885057471305,
          0.04424778761061947,
          0.02734375,
          0.044444444444444446,
          0.03243243243243238,
          0.012658227848101264,
          0.0410958904109589,
          0.027624309392265192,
          0.04093567251461984,
          0.036585365853658534,
          0.0436681222707424,
          0.019230769230769232,
          0.030303030303030304,
          0.044642857142857095,
          0.05625000000000001,
          0.04477611940298509,
          0.014760147601475981,
          0.03181818181818183,
          0.051282051282051266,
          0.016393442622950838,
          0.012658227848101306,
          0.1187214611872146,
          0.04864864864864868,
          0.03597122302158279,
          0.05181347150259069
         ],
         "xaxis": "x",
         "y": [
          0.036290322580645164,
          0.03636363636363636,
          0.038461538461538464,
          0.04184100418410042,
          0.04487179487179487,
          0.045454545454545456,
          0.05263157894736842,
          0.05426356589147287,
          0.06103286384976526,
          0.06296296296296296,
          0.06372549019607843,
          0.06818181818181818,
          0.07224770642201835,
          0.07723577235772358,
          0.07755102040816327,
          0.09053497942386832,
          0.09523809523809523,
          0.09734513274336283,
          0.0975609756097561,
          0.0975609756097561,
          0.10101010101010101,
          0.1016949152542373,
          0.10909090909090909,
          0.11023622047244094,
          0.11956521739130435,
          0.12048192771084337,
          0.12264150943396226,
          0.1267605633802817,
          0.1322314049586777,
          0.13924050632911392,
          0.14122137404580154,
          0.14444444444444443,
          0.16015625,
          0.16022099447513813,
          0.16080402010050251,
          0.16083916083916083,
          0.16091954022988506,
          0.16371681415929204,
          0.1640625,
          0.16666666666666666,
          0.16756756756756758,
          0.17088607594936708,
          0.1780821917808219,
          0.18232044198895028,
          0.19005847953216373,
          0.1951219512195122,
          0.1965065502183406,
          0.1987179487179487,
          0.20454545454545456,
          0.20535714285714285,
          0.20625,
          0.208955223880597,
          0.2140221402214022,
          0.22272727272727272,
          0.22564102564102564,
          0.23770491803278687,
          0.25738396624472576,
          0.2602739726027397,
          0.2648648648648649,
          0.2733812949640288,
          0.32124352331606215
         ],
         "yaxis": "y"
        }
       ],
       "layout": {
        "legend": {
         "tracegroupgap": 0
        },
        "template": {
         "data": {
          "bar": [
           {
            "error_x": {
             "color": "#2a3f5f"
            },
            "error_y": {
             "color": "#2a3f5f"
            },
            "marker": {
             "line": {
              "color": "#E5ECF6",
              "width": 0.5
             },
             "pattern": {
              "fillmode": "overlay",
              "size": 10,
              "solidity": 0.2
             }
            },
            "type": "bar"
           }
          ],
          "barpolar": [
           {
            "marker": {
             "line": {
              "color": "#E5ECF6",
              "width": 0.5
             },
             "pattern": {
              "fillmode": "overlay",
              "size": 10,
              "solidity": 0.2
             }
            },
            "type": "barpolar"
           }
          ],
          "carpet": [
           {
            "aaxis": {
             "endlinecolor": "#2a3f5f",
             "gridcolor": "white",
             "linecolor": "white",
             "minorgridcolor": "white",
             "startlinecolor": "#2a3f5f"
            },
            "baxis": {
             "endlinecolor": "#2a3f5f",
             "gridcolor": "white",
             "linecolor": "white",
             "minorgridcolor": "white",
             "startlinecolor": "#2a3f5f"
            },
            "type": "carpet"
           }
          ],
          "choropleth": [
           {
            "colorbar": {
             "outlinewidth": 0,
             "ticks": ""
            },
            "type": "choropleth"
           }
          ],
          "contour": [
           {
            "colorbar": {
             "outlinewidth": 0,
             "ticks": ""
            },
            "colorscale": [
             [
              0,
              "#0d0887"
             ],
             [
              0.1111111111111111,
              "#46039f"
             ],
             [
              0.2222222222222222,
              "#7201a8"
             ],
             [
              0.3333333333333333,
              "#9c179e"
             ],
             [
              0.4444444444444444,
              "#bd3786"
             ],
             [
              0.5555555555555556,
              "#d8576b"
             ],
             [
              0.6666666666666666,
              "#ed7953"
             ],
             [
              0.7777777777777778,
              "#fb9f3a"
             ],
             [
              0.8888888888888888,
              "#fdca26"
             ],
             [
              1,
              "#f0f921"
             ]
            ],
            "type": "contour"
           }
          ],
          "contourcarpet": [
           {
            "colorbar": {
             "outlinewidth": 0,
             "ticks": ""
            },
            "type": "contourcarpet"
           }
          ],
          "heatmap": [
           {
            "colorbar": {
             "outlinewidth": 0,
             "ticks": ""
            },
            "colorscale": [
             [
              0,
              "#0d0887"
             ],
             [
              0.1111111111111111,
              "#46039f"
             ],
             [
              0.2222222222222222,
              "#7201a8"
             ],
             [
              0.3333333333333333,
              "#9c179e"
             ],
             [
              0.4444444444444444,
              "#bd3786"
             ],
             [
              0.5555555555555556,
              "#d8576b"
             ],
             [
              0.6666666666666666,
              "#ed7953"
             ],
             [
              0.7777777777777778,
              "#fb9f3a"
             ],
             [
              0.8888888888888888,
              "#fdca26"
             ],
             [
              1,
              "#f0f921"
             ]
            ],
            "type": "heatmap"
           }
          ],
          "heatmapgl": [
           {
            "colorbar": {
             "outlinewidth": 0,
             "ticks": ""
            },
            "colorscale": [
             [
              0,
              "#0d0887"
             ],
             [
              0.1111111111111111,
              "#46039f"
             ],
             [
              0.2222222222222222,
              "#7201a8"
             ],
             [
              0.3333333333333333,
              "#9c179e"
             ],
             [
              0.4444444444444444,
              "#bd3786"
             ],
             [
              0.5555555555555556,
              "#d8576b"
             ],
             [
              0.6666666666666666,
              "#ed7953"
             ],
             [
              0.7777777777777778,
              "#fb9f3a"
             ],
             [
              0.8888888888888888,
              "#fdca26"
             ],
             [
              1,
              "#f0f921"
             ]
            ],
            "type": "heatmapgl"
           }
          ],
          "histogram": [
           {
            "marker": {
             "pattern": {
              "fillmode": "overlay",
              "size": 10,
              "solidity": 0.2
             }
            },
            "type": "histogram"
           }
          ],
          "histogram2d": [
           {
            "colorbar": {
             "outlinewidth": 0,
             "ticks": ""
            },
            "colorscale": [
             [
              0,
              "#0d0887"
             ],
             [
              0.1111111111111111,
              "#46039f"
             ],
             [
              0.2222222222222222,
              "#7201a8"
             ],
             [
              0.3333333333333333,
              "#9c179e"
             ],
             [
              0.4444444444444444,
              "#bd3786"
             ],
             [
              0.5555555555555556,
              "#d8576b"
             ],
             [
              0.6666666666666666,
              "#ed7953"
             ],
             [
              0.7777777777777778,
              "#fb9f3a"
             ],
             [
              0.8888888888888888,
              "#fdca26"
             ],
             [
              1,
              "#f0f921"
             ]
            ],
            "type": "histogram2d"
           }
          ],
          "histogram2dcontour": [
           {
            "colorbar": {
             "outlinewidth": 0,
             "ticks": ""
            },
            "colorscale": [
             [
              0,
              "#0d0887"
             ],
             [
              0.1111111111111111,
              "#46039f"
             ],
             [
              0.2222222222222222,
              "#7201a8"
             ],
             [
              0.3333333333333333,
              "#9c179e"
             ],
             [
              0.4444444444444444,
              "#bd3786"
             ],
             [
              0.5555555555555556,
              "#d8576b"
             ],
             [
              0.6666666666666666,
              "#ed7953"
             ],
             [
              0.7777777777777778,
              "#fb9f3a"
             ],
             [
              0.8888888888888888,
              "#fdca26"
             ],
             [
              1,
              "#f0f921"
             ]
            ],
            "type": "histogram2dcontour"
           }
          ],
          "mesh3d": [
           {
            "colorbar": {
             "outlinewidth": 0,
             "ticks": ""
            },
            "type": "mesh3d"
           }
          ],
          "parcoords": [
           {
            "line": {
             "colorbar": {
              "outlinewidth": 0,
              "ticks": ""
             }
            },
            "type": "parcoords"
           }
          ],
          "pie": [
           {
            "automargin": true,
            "type": "pie"
           }
          ],
          "scatter": [
           {
            "fillpattern": {
             "fillmode": "overlay",
             "size": 10,
             "solidity": 0.2
            },
            "type": "scatter"
           }
          ],
          "scatter3d": [
           {
            "line": {
             "colorbar": {
              "outlinewidth": 0,
              "ticks": ""
             }
            },
            "marker": {
             "colorbar": {
              "outlinewidth": 0,
              "ticks": ""
             }
            },
            "type": "scatter3d"
           }
          ],
          "scattercarpet": [
           {
            "marker": {
             "colorbar": {
              "outlinewidth": 0,
              "ticks": ""
             }
            },
            "type": "scattercarpet"
           }
          ],
          "scattergeo": [
           {
            "marker": {
             "colorbar": {
              "outlinewidth": 0,
              "ticks": ""
             }
            },
            "type": "scattergeo"
           }
          ],
          "scattergl": [
           {
            "marker": {
             "colorbar": {
              "outlinewidth": 0,
              "ticks": ""
             }
            },
            "type": "scattergl"
           }
          ],
          "scattermapbox": [
           {
            "marker": {
             "colorbar": {
              "outlinewidth": 0,
              "ticks": ""
             }
            },
            "type": "scattermapbox"
           }
          ],
          "scatterpolar": [
           {
            "marker": {
             "colorbar": {
              "outlinewidth": 0,
              "ticks": ""
             }
            },
            "type": "scatterpolar"
           }
          ],
          "scatterpolargl": [
           {
            "marker": {
             "colorbar": {
              "outlinewidth": 0,
              "ticks": ""
             }
            },
            "type": "scatterpolargl"
           }
          ],
          "scatterternary": [
           {
            "marker": {
             "colorbar": {
              "outlinewidth": 0,
              "ticks": ""
             }
            },
            "type": "scatterternary"
           }
          ],
          "surface": [
           {
            "colorbar": {
             "outlinewidth": 0,
             "ticks": ""
            },
            "colorscale": [
             [
              0,
              "#0d0887"
             ],
             [
              0.1111111111111111,
              "#46039f"
             ],
             [
              0.2222222222222222,
              "#7201a8"
             ],
             [
              0.3333333333333333,
              "#9c179e"
             ],
             [
              0.4444444444444444,
              "#bd3786"
             ],
             [
              0.5555555555555556,
              "#d8576b"
             ],
             [
              0.6666666666666666,
              "#ed7953"
             ],
             [
              0.7777777777777778,
              "#fb9f3a"
             ],
             [
              0.8888888888888888,
              "#fdca26"
             ],
             [
              1,
              "#f0f921"
             ]
            ],
            "type": "surface"
           }
          ],
          "table": [
           {
            "cells": {
             "fill": {
              "color": "#EBF0F8"
             },
             "line": {
              "color": "white"
             }
            },
            "header": {
             "fill": {
              "color": "#C8D4E3"
             },
             "line": {
              "color": "white"
             }
            },
            "type": "table"
           }
          ]
         },
         "layout": {
          "annotationdefaults": {
           "arrowcolor": "#2a3f5f",
           "arrowhead": 0,
           "arrowwidth": 1
          },
          "autotypenumbers": "strict",
          "coloraxis": {
           "colorbar": {
            "outlinewidth": 0,
            "ticks": ""
           }
          },
          "colorscale": {
           "diverging": [
            [
             0,
             "#8e0152"
            ],
            [
             0.1,
             "#c51b7d"
            ],
            [
             0.2,
             "#de77ae"
            ],
            [
             0.3,
             "#f1b6da"
            ],
            [
             0.4,
             "#fde0ef"
            ],
            [
             0.5,
             "#f7f7f7"
            ],
            [
             0.6,
             "#e6f5d0"
            ],
            [
             0.7,
             "#b8e186"
            ],
            [
             0.8,
             "#7fbc41"
            ],
            [
             0.9,
             "#4d9221"
            ],
            [
             1,
             "#276419"
            ]
           ],
           "sequential": [
            [
             0,
             "#0d0887"
            ],
            [
             0.1111111111111111,
             "#46039f"
            ],
            [
             0.2222222222222222,
             "#7201a8"
            ],
            [
             0.3333333333333333,
             "#9c179e"
            ],
            [
             0.4444444444444444,
             "#bd3786"
            ],
            [
             0.5555555555555556,
             "#d8576b"
            ],
            [
             0.6666666666666666,
             "#ed7953"
            ],
            [
             0.7777777777777778,
             "#fb9f3a"
            ],
            [
             0.8888888888888888,
             "#fdca26"
            ],
            [
             1,
             "#f0f921"
            ]
           ],
           "sequentialminus": [
            [
             0,
             "#0d0887"
            ],
            [
             0.1111111111111111,
             "#46039f"
            ],
            [
             0.2222222222222222,
             "#7201a8"
            ],
            [
             0.3333333333333333,
             "#9c179e"
            ],
            [
             0.4444444444444444,
             "#bd3786"
            ],
            [
             0.5555555555555556,
             "#d8576b"
            ],
            [
             0.6666666666666666,
             "#ed7953"
            ],
            [
             0.7777777777777778,
             "#fb9f3a"
            ],
            [
             0.8888888888888888,
             "#fdca26"
            ],
            [
             1,
             "#f0f921"
            ]
           ]
          },
          "colorway": [
           "#636efa",
           "#EF553B",
           "#00cc96",
           "#ab63fa",
           "#FFA15A",
           "#19d3f3",
           "#FF6692",
           "#B6E880",
           "#FF97FF",
           "#FECB52"
          ],
          "font": {
           "color": "#2a3f5f"
          },
          "geo": {
           "bgcolor": "white",
           "lakecolor": "white",
           "landcolor": "#E5ECF6",
           "showlakes": true,
           "showland": true,
           "subunitcolor": "white"
          },
          "hoverlabel": {
           "align": "left"
          },
          "hovermode": "closest",
          "mapbox": {
           "style": "light"
          },
          "paper_bgcolor": "white",
          "plot_bgcolor": "#E5ECF6",
          "polar": {
           "angularaxis": {
            "gridcolor": "white",
            "linecolor": "white",
            "ticks": ""
           },
           "bgcolor": "#E5ECF6",
           "radialaxis": {
            "gridcolor": "white",
            "linecolor": "white",
            "ticks": ""
           }
          },
          "scene": {
           "xaxis": {
            "backgroundcolor": "#E5ECF6",
            "gridcolor": "white",
            "gridwidth": 2,
            "linecolor": "white",
            "showbackground": true,
            "ticks": "",
            "zerolinecolor": "white"
           },
           "yaxis": {
            "backgroundcolor": "#E5ECF6",
            "gridcolor": "white",
            "gridwidth": 2,
            "linecolor": "white",
            "showbackground": true,
            "ticks": "",
            "zerolinecolor": "white"
           },
           "zaxis": {
            "backgroundcolor": "#E5ECF6",
            "gridcolor": "white",
            "gridwidth": 2,
            "linecolor": "white",
            "showbackground": true,
            "ticks": "",
            "zerolinecolor": "white"
           }
          },
          "shapedefaults": {
           "line": {
            "color": "#2a3f5f"
           }
          },
          "ternary": {
           "aaxis": {
            "gridcolor": "white",
            "linecolor": "white",
            "ticks": ""
           },
           "baxis": {
            "gridcolor": "white",
            "linecolor": "white",
            "ticks": ""
           },
           "bgcolor": "#E5ECF6",
           "caxis": {
            "gridcolor": "white",
            "linecolor": "white",
            "ticks": ""
           }
          },
          "title": {
           "x": 0.05
          },
          "xaxis": {
           "automargin": true,
           "gridcolor": "white",
           "linecolor": "white",
           "ticks": "",
           "title": {
            "standoff": 15
           },
           "zerolinecolor": "white",
           "zerolinewidth": 2
          },
          "yaxis": {
           "automargin": true,
           "gridcolor": "white",
           "linecolor": "white",
           "ticks": "",
           "title": {
            "standoff": 15
           },
           "zerolinecolor": "white",
           "zerolinewidth": 2
          }
         }
        },
        "title": {
         "text": "Scatter Plot of Quantity_X vs Quantity_Y"
        },
        "xaxis": {
         "anchor": "y",
         "domain": [
          0,
          1
         ],
         "title": {
          "text": "Commodity3"
         }
        },
        "yaxis": {
         "anchor": "x",
         "domain": [
          0,
          1
         ],
         "title": {
          "text": "Commodity2"
         }
        }
       }
      },
      "text/html": [
       "<div>                            <div id=\"8e52fc91-27be-46a2-9312-24b56463c01e\" class=\"plotly-graph-div\" style=\"height:525px; width:100%;\"></div>            <script type=\"text/javascript\">                require([\"plotly\"], function(Plotly) {                    window.PLOTLYENV=window.PLOTLYENV || {};                                    if (document.getElementById(\"8e52fc91-27be-46a2-9312-24b56463c01e\")) {                    Plotly.newPlot(                        \"8e52fc91-27be-46a2-9312-24b56463c01e\",                        [{\"hovertemplate\":\"Commodity3=%{x}\\u003cbr\\u003eCommodity2=%{y}\\u003cextra\\u003e\\u003c\\u002fextra\\u003e\",\"legendgroup\":\"\",\"marker\":{\"color\":\"#636efa\",\"symbol\":\"circle\"},\"mode\":\"markers\",\"name\":\"\",\"orientation\":\"v\",\"showlegend\":false,\"x\":[0.008064516129032279,0.003636363636363646,0.006410256410256429,0.0,0.006410256410256408,0.0202020202020202,0.04736842105263158,0.007751937984496124,0.04225352112676056,0.007407407407407418,0.02941176470588236,0.0,0.024082568807339458,0.012195121951219579,0.01632653061224487,0.020576131687242774,0.025974025974025983,0.04424778761061954,0.018292682926829257,0.012195121951219516,0.0404040404040404,0.01694915254237288,0.018181818181818146,0.03543307086614175,0.0,0.018072289156626495,0.023584905660377353,0.03755868544600938,0.008264462809917328,0.012658227848101222,0.01526717557251911,0.06666666666666671,0.0390625,0.04419889502762431,0.04020100502512563,0.013986013986013957,0.040229885057471305,0.04424778761061947,0.02734375,0.044444444444444446,0.03243243243243238,0.012658227848101264,0.0410958904109589,0.027624309392265192,0.04093567251461984,0.036585365853658534,0.0436681222707424,0.019230769230769232,0.030303030303030304,0.044642857142857095,0.05625000000000001,0.04477611940298509,0.014760147601475981,0.03181818181818183,0.051282051282051266,0.016393442622950838,0.012658227848101306,0.1187214611872146,0.04864864864864868,0.03597122302158279,0.05181347150259069],\"xaxis\":\"x\",\"y\":[0.036290322580645164,0.03636363636363636,0.038461538461538464,0.04184100418410042,0.04487179487179487,0.045454545454545456,0.05263157894736842,0.05426356589147287,0.06103286384976526,0.06296296296296296,0.06372549019607843,0.06818181818181818,0.07224770642201835,0.07723577235772358,0.07755102040816327,0.09053497942386832,0.09523809523809523,0.09734513274336283,0.0975609756097561,0.0975609756097561,0.10101010101010101,0.1016949152542373,0.10909090909090909,0.11023622047244094,0.11956521739130435,0.12048192771084337,0.12264150943396226,0.1267605633802817,0.1322314049586777,0.13924050632911392,0.14122137404580154,0.14444444444444443,0.16015625,0.16022099447513813,0.16080402010050251,0.16083916083916083,0.16091954022988506,0.16371681415929204,0.1640625,0.16666666666666666,0.16756756756756758,0.17088607594936708,0.1780821917808219,0.18232044198895028,0.19005847953216373,0.1951219512195122,0.1965065502183406,0.1987179487179487,0.20454545454545456,0.20535714285714285,0.20625,0.208955223880597,0.2140221402214022,0.22272727272727272,0.22564102564102564,0.23770491803278687,0.25738396624472576,0.2602739726027397,0.2648648648648649,0.2733812949640288,0.32124352331606215],\"yaxis\":\"y\",\"type\":\"scatter\"}],                        {\"template\":{\"data\":{\"histogram2dcontour\":[{\"type\":\"histogram2dcontour\",\"colorbar\":{\"outlinewidth\":0,\"ticks\":\"\"},\"colorscale\":[[0.0,\"#0d0887\"],[0.1111111111111111,\"#46039f\"],[0.2222222222222222,\"#7201a8\"],[0.3333333333333333,\"#9c179e\"],[0.4444444444444444,\"#bd3786\"],[0.5555555555555556,\"#d8576b\"],[0.6666666666666666,\"#ed7953\"],[0.7777777777777778,\"#fb9f3a\"],[0.8888888888888888,\"#fdca26\"],[1.0,\"#f0f921\"]]}],\"choropleth\":[{\"type\":\"choropleth\",\"colorbar\":{\"outlinewidth\":0,\"ticks\":\"\"}}],\"histogram2d\":[{\"type\":\"histogram2d\",\"colorbar\":{\"outlinewidth\":0,\"ticks\":\"\"},\"colorscale\":[[0.0,\"#0d0887\"],[0.1111111111111111,\"#46039f\"],[0.2222222222222222,\"#7201a8\"],[0.3333333333333333,\"#9c179e\"],[0.4444444444444444,\"#bd3786\"],[0.5555555555555556,\"#d8576b\"],[0.6666666666666666,\"#ed7953\"],[0.7777777777777778,\"#fb9f3a\"],[0.8888888888888888,\"#fdca26\"],[1.0,\"#f0f921\"]]}],\"heatmap\":[{\"type\":\"heatmap\",\"colorbar\":{\"outlinewidth\":0,\"ticks\":\"\"},\"colorscale\":[[0.0,\"#0d0887\"],[0.1111111111111111,\"#46039f\"],[0.2222222222222222,\"#7201a8\"],[0.3333333333333333,\"#9c179e\"],[0.4444444444444444,\"#bd3786\"],[0.5555555555555556,\"#d8576b\"],[0.6666666666666666,\"#ed7953\"],[0.7777777777777778,\"#fb9f3a\"],[0.8888888888888888,\"#fdca26\"],[1.0,\"#f0f921\"]]}],\"heatmapgl\":[{\"type\":\"heatmapgl\",\"colorbar\":{\"outlinewidth\":0,\"ticks\":\"\"},\"colorscale\":[[0.0,\"#0d0887\"],[0.1111111111111111,\"#46039f\"],[0.2222222222222222,\"#7201a8\"],[0.3333333333333333,\"#9c179e\"],[0.4444444444444444,\"#bd3786\"],[0.5555555555555556,\"#d8576b\"],[0.6666666666666666,\"#ed7953\"],[0.7777777777777778,\"#fb9f3a\"],[0.8888888888888888,\"#fdca26\"],[1.0,\"#f0f921\"]]}],\"contourcarpet\":[{\"type\":\"contourcarpet\",\"colorbar\":{\"outlinewidth\":0,\"ticks\":\"\"}}],\"contour\":[{\"type\":\"contour\",\"colorbar\":{\"outlinewidth\":0,\"ticks\":\"\"},\"colorscale\":[[0.0,\"#0d0887\"],[0.1111111111111111,\"#46039f\"],[0.2222222222222222,\"#7201a8\"],[0.3333333333333333,\"#9c179e\"],[0.4444444444444444,\"#bd3786\"],[0.5555555555555556,\"#d8576b\"],[0.6666666666666666,\"#ed7953\"],[0.7777777777777778,\"#fb9f3a\"],[0.8888888888888888,\"#fdca26\"],[1.0,\"#f0f921\"]]}],\"surface\":[{\"type\":\"surface\",\"colorbar\":{\"outlinewidth\":0,\"ticks\":\"\"},\"colorscale\":[[0.0,\"#0d0887\"],[0.1111111111111111,\"#46039f\"],[0.2222222222222222,\"#7201a8\"],[0.3333333333333333,\"#9c179e\"],[0.4444444444444444,\"#bd3786\"],[0.5555555555555556,\"#d8576b\"],[0.6666666666666666,\"#ed7953\"],[0.7777777777777778,\"#fb9f3a\"],[0.8888888888888888,\"#fdca26\"],[1.0,\"#f0f921\"]]}],\"mesh3d\":[{\"type\":\"mesh3d\",\"colorbar\":{\"outlinewidth\":0,\"ticks\":\"\"}}],\"scatter\":[{\"fillpattern\":{\"fillmode\":\"overlay\",\"size\":10,\"solidity\":0.2},\"type\":\"scatter\"}],\"parcoords\":[{\"type\":\"parcoords\",\"line\":{\"colorbar\":{\"outlinewidth\":0,\"ticks\":\"\"}}}],\"scatterpolargl\":[{\"type\":\"scatterpolargl\",\"marker\":{\"colorbar\":{\"outlinewidth\":0,\"ticks\":\"\"}}}],\"bar\":[{\"error_x\":{\"color\":\"#2a3f5f\"},\"error_y\":{\"color\":\"#2a3f5f\"},\"marker\":{\"line\":{\"color\":\"#E5ECF6\",\"width\":0.5},\"pattern\":{\"fillmode\":\"overlay\",\"size\":10,\"solidity\":0.2}},\"type\":\"bar\"}],\"scattergeo\":[{\"type\":\"scattergeo\",\"marker\":{\"colorbar\":{\"outlinewidth\":0,\"ticks\":\"\"}}}],\"scatterpolar\":[{\"type\":\"scatterpolar\",\"marker\":{\"colorbar\":{\"outlinewidth\":0,\"ticks\":\"\"}}}],\"histogram\":[{\"marker\":{\"pattern\":{\"fillmode\":\"overlay\",\"size\":10,\"solidity\":0.2}},\"type\":\"histogram\"}],\"scattergl\":[{\"type\":\"scattergl\",\"marker\":{\"colorbar\":{\"outlinewidth\":0,\"ticks\":\"\"}}}],\"scatter3d\":[{\"type\":\"scatter3d\",\"line\":{\"colorbar\":{\"outlinewidth\":0,\"ticks\":\"\"}},\"marker\":{\"colorbar\":{\"outlinewidth\":0,\"ticks\":\"\"}}}],\"scattermapbox\":[{\"type\":\"scattermapbox\",\"marker\":{\"colorbar\":{\"outlinewidth\":0,\"ticks\":\"\"}}}],\"scatterternary\":[{\"type\":\"scatterternary\",\"marker\":{\"colorbar\":{\"outlinewidth\":0,\"ticks\":\"\"}}}],\"scattercarpet\":[{\"type\":\"scattercarpet\",\"marker\":{\"colorbar\":{\"outlinewidth\":0,\"ticks\":\"\"}}}],\"carpet\":[{\"aaxis\":{\"endlinecolor\":\"#2a3f5f\",\"gridcolor\":\"white\",\"linecolor\":\"white\",\"minorgridcolor\":\"white\",\"startlinecolor\":\"#2a3f5f\"},\"baxis\":{\"endlinecolor\":\"#2a3f5f\",\"gridcolor\":\"white\",\"linecolor\":\"white\",\"minorgridcolor\":\"white\",\"startlinecolor\":\"#2a3f5f\"},\"type\":\"carpet\"}],\"table\":[{\"cells\":{\"fill\":{\"color\":\"#EBF0F8\"},\"line\":{\"color\":\"white\"}},\"header\":{\"fill\":{\"color\":\"#C8D4E3\"},\"line\":{\"color\":\"white\"}},\"type\":\"table\"}],\"barpolar\":[{\"marker\":{\"line\":{\"color\":\"#E5ECF6\",\"width\":0.5},\"pattern\":{\"fillmode\":\"overlay\",\"size\":10,\"solidity\":0.2}},\"type\":\"barpolar\"}],\"pie\":[{\"automargin\":true,\"type\":\"pie\"}]},\"layout\":{\"autotypenumbers\":\"strict\",\"colorway\":[\"#636efa\",\"#EF553B\",\"#00cc96\",\"#ab63fa\",\"#FFA15A\",\"#19d3f3\",\"#FF6692\",\"#B6E880\",\"#FF97FF\",\"#FECB52\"],\"font\":{\"color\":\"#2a3f5f\"},\"hovermode\":\"closest\",\"hoverlabel\":{\"align\":\"left\"},\"paper_bgcolor\":\"white\",\"plot_bgcolor\":\"#E5ECF6\",\"polar\":{\"bgcolor\":\"#E5ECF6\",\"angularaxis\":{\"gridcolor\":\"white\",\"linecolor\":\"white\",\"ticks\":\"\"},\"radialaxis\":{\"gridcolor\":\"white\",\"linecolor\":\"white\",\"ticks\":\"\"}},\"ternary\":{\"bgcolor\":\"#E5ECF6\",\"aaxis\":{\"gridcolor\":\"white\",\"linecolor\":\"white\",\"ticks\":\"\"},\"baxis\":{\"gridcolor\":\"white\",\"linecolor\":\"white\",\"ticks\":\"\"},\"caxis\":{\"gridcolor\":\"white\",\"linecolor\":\"white\",\"ticks\":\"\"}},\"coloraxis\":{\"colorbar\":{\"outlinewidth\":0,\"ticks\":\"\"}},\"colorscale\":{\"sequential\":[[0.0,\"#0d0887\"],[0.1111111111111111,\"#46039f\"],[0.2222222222222222,\"#7201a8\"],[0.3333333333333333,\"#9c179e\"],[0.4444444444444444,\"#bd3786\"],[0.5555555555555556,\"#d8576b\"],[0.6666666666666666,\"#ed7953\"],[0.7777777777777778,\"#fb9f3a\"],[0.8888888888888888,\"#fdca26\"],[1.0,\"#f0f921\"]],\"sequentialminus\":[[0.0,\"#0d0887\"],[0.1111111111111111,\"#46039f\"],[0.2222222222222222,\"#7201a8\"],[0.3333333333333333,\"#9c179e\"],[0.4444444444444444,\"#bd3786\"],[0.5555555555555556,\"#d8576b\"],[0.6666666666666666,\"#ed7953\"],[0.7777777777777778,\"#fb9f3a\"],[0.8888888888888888,\"#fdca26\"],[1.0,\"#f0f921\"]],\"diverging\":[[0,\"#8e0152\"],[0.1,\"#c51b7d\"],[0.2,\"#de77ae\"],[0.3,\"#f1b6da\"],[0.4,\"#fde0ef\"],[0.5,\"#f7f7f7\"],[0.6,\"#e6f5d0\"],[0.7,\"#b8e186\"],[0.8,\"#7fbc41\"],[0.9,\"#4d9221\"],[1,\"#276419\"]]},\"xaxis\":{\"gridcolor\":\"white\",\"linecolor\":\"white\",\"ticks\":\"\",\"title\":{\"standoff\":15},\"zerolinecolor\":\"white\",\"automargin\":true,\"zerolinewidth\":2},\"yaxis\":{\"gridcolor\":\"white\",\"linecolor\":\"white\",\"ticks\":\"\",\"title\":{\"standoff\":15},\"zerolinecolor\":\"white\",\"automargin\":true,\"zerolinewidth\":2},\"scene\":{\"xaxis\":{\"backgroundcolor\":\"#E5ECF6\",\"gridcolor\":\"white\",\"linecolor\":\"white\",\"showbackground\":true,\"ticks\":\"\",\"zerolinecolor\":\"white\",\"gridwidth\":2},\"yaxis\":{\"backgroundcolor\":\"#E5ECF6\",\"gridcolor\":\"white\",\"linecolor\":\"white\",\"showbackground\":true,\"ticks\":\"\",\"zerolinecolor\":\"white\",\"gridwidth\":2},\"zaxis\":{\"backgroundcolor\":\"#E5ECF6\",\"gridcolor\":\"white\",\"linecolor\":\"white\",\"showbackground\":true,\"ticks\":\"\",\"zerolinecolor\":\"white\",\"gridwidth\":2}},\"shapedefaults\":{\"line\":{\"color\":\"#2a3f5f\"}},\"annotationdefaults\":{\"arrowcolor\":\"#2a3f5f\",\"arrowhead\":0,\"arrowwidth\":1},\"geo\":{\"bgcolor\":\"white\",\"landcolor\":\"#E5ECF6\",\"subunitcolor\":\"white\",\"showland\":true,\"showlakes\":true,\"lakecolor\":\"white\"},\"title\":{\"x\":0.05},\"mapbox\":{\"style\":\"light\"}}},\"xaxis\":{\"anchor\":\"y\",\"domain\":[0.0,1.0],\"title\":{\"text\":\"Commodity3\"}},\"yaxis\":{\"anchor\":\"x\",\"domain\":[0.0,1.0],\"title\":{\"text\":\"Commodity2\"}},\"legend\":{\"tracegroupgap\":0},\"title\":{\"text\":\"Scatter Plot of Quantity_X vs Quantity_Y\"}},                        {\"responsive\": true}                    ).then(function(){\n",
       "                            \n",
       "var gd = document.getElementById('8e52fc91-27be-46a2-9312-24b56463c01e');\n",
       "var x = new MutationObserver(function (mutations, observer) {{\n",
       "        var display = window.getComputedStyle(gd).display;\n",
       "        if (!display || display === 'none') {{\n",
       "            console.log([gd, 'removed!']);\n",
       "            Plotly.purge(gd);\n",
       "            observer.disconnect();\n",
       "        }}\n",
       "}});\n",
       "\n",
       "// Listen for the removal of the full notebook cells\n",
       "var notebookContainer = gd.closest('#notebook-container');\n",
       "if (notebookContainer) {{\n",
       "    x.observe(notebookContainer, {childList: true});\n",
       "}}\n",
       "\n",
       "// Listen for the clearing of the current output cell\n",
       "var outputEl = gd.closest('.output');\n",
       "if (outputEl) {{\n",
       "    x.observe(outputEl, {childList: true});\n",
       "}}\n",
       "\n",
       "                        })                };                });            </script>        </div>"
      ]
     },
     "metadata": {},
     "output_type": "display_data"
    }
   ],
   "source": [
    "import plotly.express as px\n",
    "import pandas as pd\n",
    "\n",
    "# Creating a scatter plot\n",
    "fig = px.scatter(df, x='Commodity3', y='Commodity2', title='Scatter Plot of Quantity_X vs Quantity_Y')\n",
    "\n",
    "# Showing the plot\n",
    "fig.show()\n"
   ]
  },
  {
   "cell_type": "code",
   "execution_count": 6,
   "id": "844771b1",
   "metadata": {},
   "outputs": [],
   "source": [
    "fig.write_image(\"../../../del_later/vosd_trend.png\")"
   ]
  }
 ],
 "metadata": {
  "kernelspec": {
   "display_name": "Python 3 (ipykernel)",
   "language": "python",
   "name": "python3"
  },
  "language_info": {
   "codemirror_mode": {
    "name": "ipython",
    "version": 3
   },
   "file_extension": ".py",
   "mimetype": "text/x-python",
   "name": "python",
   "nbconvert_exporter": "python",
   "pygments_lexer": "ipython3",
   "version": "3.8.0"
  }
 },
 "nbformat": 4,
 "nbformat_minor": 5
}
