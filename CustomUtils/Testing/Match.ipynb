{
 "cells": [
  {
   "cell_type": "code",
   "execution_count": 9,
   "id": "3e5b4766",
   "metadata": {},
   "outputs": [],
   "source": [
    "video_output = {\n",
    "    \"SPEAKER_00\": [(3.92, 5.64), (6.4, 6.56), (7.32, 12.68), (180.72, 183.44)],\n",
    "    \"SPEAKER_01\": [\n",
    "        (32.76, 45.48),\n",
    "        (45.84, 81.76),\n",
    "        (81.92, 82.24),\n",
    "        (82.68, 87.64),\n",
    "        (208.0, 238.12),\n",
    "        (238.76, 243.04),\n",
    "        (243.36, 249.96),\n",
    "    ],\n",
    "    \"SPEAKER_02\": [(87.72, 89.24), (90.24, 91.48), (91.6, 105.52), (107.24, 115.24), (157.0, 175.84), (177.56, 179.8)],\n",
    "}\n",
    "\n",
    "audio_output = {\n",
    "    \"SPEAKER_01\": [\n",
    "        (3.947368421052632, 7.037351443123939),\n",
    "        (7.207130730050935, 32.26655348047538),\n",
    "        (117.00339558573853, 119.27843803056027),\n",
    "        (120.02546689303907, 131.2988115449915),\n",
    "        (131.33276740237693, 133.93039049235995),\n",
    "        (134.64346349745333, 151.7741935483871),\n",
    "        (151.7911714770798, 151.9949066213922),\n",
    "        (152.43633276740238, 152.5042444821732),\n",
    "        (180.24617996604417, 190.31409168081495),\n",
    "        (191.16298811544993, 196.79966044142617),\n",
    "    ],\n",
    "    \"SPEAKER_02\": [\n",
    "        (32.26655348047538, 45.492359932088284),\n",
    "        (45.86587436332768, 88.00509337860782),\n",
    "        (196.95246179966045, 238.2937181663837),\n",
    "        (238.7691001697793, 250.14431239388796),\n",
    "    ],\n",
    "    \"SPEAKER_00\": [\n",
    "        (88.00509337860782, 89.31239388794566),\n",
    "        (90.28013582342953, 94.45670628183362),\n",
    "        (94.7792869269949, 117.00339558573853),\n",
    "        (151.02716468590833, 151.7911714770798),\n",
    "        (151.9949066213922, 152.43633276740238),\n",
    "        (152.5042444821732, 152.6400679117148),\n",
    "        (153.16638370118847, 180.24617996604417),\n",
    "        (243.42105263157896, 243.96434634974534),\n",
    "    ],\n",
    "}"
   ]
  },
  {
   "cell_type": "code",
   "execution_count": 10,
   "id": "0f823de2",
   "metadata": {},
   "outputs": [],
   "source": [
    "from pyannote.core import Segment, Annotation\n",
    "from pyannote.core import notebook\n",
    "import matplotlib.pyplot as plt\n",
    "\n",
    "\n",
    "def create_annotation_plot(speaker_timelines):\n",
    "    custom_diarization = Annotation()\n",
    "    \n",
    "    for speaker_key in speaker_timelines.keys():\n",
    "        for timeline in speaker_timelines[speaker_key]:\n",
    "            custom_diarization[Segment(timeline[0], timeline[1])] = speaker_key\n",
    "\n",
    "    # Create a figure\n",
    "    fig, ax = plt.subplots(figsize=(10, 2))\n",
    "\n",
    "    # Plot the custom diarization result\n",
    "    notebook.plot_annotation(custom_diarization, ax, legend=True)\n",
    "\n",
    "    # Customize the plot (if needed)\n",
    "    ax.set_xlabel('Time')\n",
    "    ax.set_yticks([])  # To hide the y-axis\n",
    "\n",
    "    # Save the figure\n",
    "#     fig.savefig('custom_diarization_plot.png', bbox_inches='tight')\n",
    "\n",
    "    # Show the figure (optional)\n",
    "    plt.show()"
   ]
  },
  {
   "cell_type": "code",
   "execution_count": 11,
   "id": "7f5c9744",
   "metadata": {},
   "outputs": [
    {
     "name": "stdout",
     "output_type": "stream",
     "text": [
      "Percentage of intervals1 present in intervals2: 26.67%\n",
      "Percentage of intervals2 present in intervals1: 11.76%\n"
     ]
    }
   ],
   "source": [
    "def find_overlap(intervals1, intervals2):\n",
    "    overlap = 0\n",
    "    total_duration1 = 0\n",
    "    total_duration2 = 0\n",
    "\n",
    "    # Calculate the total duration of intervals in intervals1\n",
    "    for start, end in intervals1:\n",
    "        total_duration1 += end - start\n",
    "\n",
    "    # Calculate the total duration of intervals in intervals2 and find the overlap\n",
    "    for start, end in intervals2:\n",
    "        total_duration2 += end - start\n",
    "        for s1, e1 in intervals1:\n",
    "            common_start = max(s1, start)\n",
    "            common_end = min(e1, end)\n",
    "            if common_start < common_end:\n",
    "                overlap += common_end - common_start\n",
    "\n",
    "    # Calculate the percentage of overlap with respect to intervals1\n",
    "    percentage_overlap1 = (overlap / total_duration1) * 100\n",
    "\n",
    "    # Calculate the percentage of overlap with respect to intervals2\n",
    "    percentage_overlap2 = (overlap / total_duration2) * 100\n",
    "\n",
    "    return percentage_overlap1, percentage_overlap2\n",
    "\n",
    "intervals2 = [(1.2, 2.6), (3.8, 5.9), (7.9, 11.2)]\n",
    "intervals1 = [(2.8, 4.6), (6.0, 7.2)]\n",
    "\n",
    "percentage_overlap1, percentage_overlap2 = find_overlap(intervals1, intervals2)\n",
    "\n",
    "print(f\"Percentage of intervals1 present in intervals2: {percentage_overlap1:.2f}%\")\n",
    "print(f\"Percentage of intervals2 present in intervals1: {percentage_overlap2:.2f}%\")"
   ]
  },
  {
   "cell_type": "code",
   "execution_count": 12,
   "id": "5507702b",
   "metadata": {},
   "outputs": [
    {
     "data": {
      "image/png": "[encoded data removed]",
      "text/plain": [
       "<Figure size 1000x200 with 1 Axes>"
      ]
     },
     "metadata": {},
     "output_type": "display_data"
    }
   ],
   "source": [
    "create_annotation_plot(video_output)"
   ]
  },
  {
   "cell_type": "code",
   "execution_count": 13,
   "id": "a6515abc",
   "metadata": {},
   "outputs": [
    {
     "data": {
      "image/png": "[encoded data removed]",
      "text/plain": [
       "<Figure size 1000x200 with 1 Axes>"
      ]
     },
     "metadata": {},
     "output_type": "display_data"
    }
   ],
   "source": [
    "create_annotation_plot(audio_output)"
   ]
  },
  {
   "cell_type": "code",
   "execution_count": 14,
   "id": "2a1f7567",
   "metadata": {},
   "outputs": [
    {
     "name": "stdout",
     "output_type": "stream",
     "text": [
      "(0.0, 0.0)\n",
      "(0.5723701202764242, 0.9586578789694393)\n",
      "(98.58433162762535, 79.6017974835231)\n"
     ]
    }
   ],
   "source": [
    "print(find_overlap(video_output[\"SPEAKER_00\"], audio_output[\"SPEAKER_00\"]))\n",
    "print(find_overlap(video_output[\"SPEAKER_01\"], audio_output[\"SPEAKER_00\"]))\n",
    "print(find_overlap(video_output[\"SPEAKER_02\"], audio_output[\"SPEAKER_00\"]))"
   ]
  },
  {
   "cell_type": "code",
   "execution_count": 16,
   "id": "678d2f26",
   "metadata": {},
   "outputs": [
    {
     "name": "stdout",
     "output_type": "stream",
     "text": [
      "(99.72521665609807, 12.83246325948673)\n",
      "(0.0, 0.0)\n",
      "(0.0, 0.0)\n"
     ]
    }
   ],
   "source": [
    "print(find_overlap(video_output[\"SPEAKER_00\"], audio_output[\"SPEAKER_01\"]))\n",
    "print(find_overlap(video_output[\"SPEAKER_01\"], audio_output[\"SPEAKER_01\"]))\n",
    "print(find_overlap(video_output[\"SPEAKER_02\"], audio_output[\"SPEAKER_01\"]))"
   ]
  },
  {
   "cell_type": "code",
   "execution_count": 15,
   "id": "eee33bf7",
   "metadata": {},
   "outputs": [
    {
     "name": "stdout",
     "output_type": "stream",
     "text": [
      "(0.0, 0.0)\n",
      "(99.96315367350718, 87.79026076028899)\n",
      "(0.623018746957661, 0.2637763116556855)\n"
     ]
    }
   ],
   "source": [
    "print(find_overlap(video_output[\"SPEAKER_00\"], audio_output[\"SPEAKER_02\"]))\n",
    "print(find_overlap(video_output[\"SPEAKER_01\"], audio_output[\"SPEAKER_02\"]))\n",
    "print(find_overlap(video_output[\"SPEAKER_02\"], audio_output[\"SPEAKER_02\"]))"
   ]
  },
  {
   "cell_type": "code",
   "execution_count": 18,
   "id": "d20b941b",
   "metadata": {},
   "outputs": [],
   "source": [
    "def get_video_to_audio_mapping(video_output, audio_output):    \n",
    "    video_audio_mapping = {}\n",
    "    for audio_speaker in audio_output.keys():\n",
    "        for video_speaker in video_output.keys():\n",
    "            video_overlap, _ = find_overlap(video_output[video_speaker], audio_output[audio_speaker])\n",
    "            if video_overlap > 80:\n",
    "                video_audio_mapping[audio_speaker] = video_speaker\n",
    "                break\n",
    "    return video_audio_mapping"
   ]
  },
  {
   "cell_type": "code",
   "execution_count": null,
   "id": "e34a4a1f",
   "metadata": {},
   "outputs": [],
   "source": []
  },
  {
   "cell_type": "code",
   "execution_count": null,
   "id": "1ea91f37",
   "metadata": {},
   "outputs": [],
   "source": []
  },
  {
   "cell_type": "code",
   "execution_count": 2,
   "id": "166efc92",
   "metadata": {},
   "outputs": [],
   "source": [
    "class SpeakerInterval:\n",
    "    def __init__(self, speaker_name, start_time, end_time):\n",
    "        self.speaker_name = speaker_name\n",
    "        self.start_time = start_time\n",
    "        self.end_time = end_time\n",
    "        \n",
    "    def __lt__(self, other):\n",
    "        return self.start_time < other.start_time\n",
    "\n",
    "    def __str__(self):\n",
    "        return f\"{self.speaker_name}: {self.start_time:.2f}s to {self.end_time:.2f}s\"\n",
    "    \n",
    "    def __repr__(self):\n",
    "        return f\"{self.speaker_name}: {self.start_time:.2f}s to {self.end_time:.2f}s\"\n",
    "    \n",
    "class SpeakerDiarization:\n",
    "    def __init__(self):\n",
    "        self.speaker_intervals = []\n",
    "\n",
    "    def add_interval(self, speaker_name, start_time, end_time):\n",
    "        interval = SpeakerInterval(speaker_name, start_time, end_time)\n",
    "        self.speaker_intervals.append(interval)\n",
    "        self.speaker_intervals = sorted(self.speaker_intervals)\n",
    "    \n",
    "    def get_speaker_timeline(self, speaker_name):\n",
    "        if len(self.speaker_intervals) == 0:\n",
    "            return None\n",
    "        \n",
    "        speaker_timeline = []\n",
    "        \n",
    "        for speaker_interval in self.speaker_intervals:\n",
    "            if speaker_interval.speaker_name == speaker_name:\n",
    "                speaker_timeline.append(speaker_interval)\n",
    "                \n",
    "        return speaker_timeline\n",
    "    \n",
    "    def __str__(self):\n",
    "        return str(self.speaker_intervals)\n",
    "            \n",
    "    def __repr__(self):\n",
    "        return str(self.speaker_intervals)\n",
    "    \n",
    "def compare_speaker_timelines(timeline1, timeline2):\n",
    "    \n",
    "    overlap_time = 0\n",
    "    total_time = 0\n",
    "    \n",
    "    for speaker_interval1 in timeline1:\n",
    "        for speaker_interval2 in timeline2:\n",
    "            if (speaker_interval1.start_time >= speaker_interval2.start_time) and (speaker_interval1.end_time <= speaker_interval2.end_time):\n",
    "                overlap_time += speaker_interval1.end_time - speaker_interval1.start_time\n",
    "                "
   ]
  },
  {
   "cell_type": "code",
   "execution_count": 4,
   "id": "8df3290e",
   "metadata": {},
   "outputs": [],
   "source": [
    "spd = SpeakerDiarization()\n",
    "spd.add_interval(\"Sp1\", 2.2, 4)\n",
    "spd.add_interval(\"Sp2\", 1.8, 4)\n",
    "spd.add_interval(\"Sp3\", 2.6, 4)\n",
    "spd.add_interval(\"Sp1\", 3.8, 4)\n",
    "spd.add_interval(\"Sp3\", 3, 4)\n",
    "spd.add_interval(\"Sp2\", 2, 4)\n",
    "spd.add_interval(\"Sp1\", 0.6, 4)"
   ]
  },
  {
   "cell_type": "code",
   "execution_count": null,
   "id": "aa4ec58a",
   "metadata": {},
   "outputs": [],
   "source": [
    "spd.get_speaker_timeline(\"Sp1\")"
   ]
  }
 ],
 "metadata": {
  "kernelspec": {
   "display_name": "Python 3 (ipykernel)",
   "language": "python",
   "name": "python3"
  },
  "language_info": {
   "codemirror_mode": {
    "name": "ipython",
    "version": 3
   },
   "file_extension": ".py",
   "mimetype": "text/x-python",
   "name": "python",
   "nbconvert_exporter": "python",
   "pygments_lexer": "ipython3",
   "version": "3.8.0"
  }
 },
 "nbformat": 4,
 "nbformat_minor": 5
}
