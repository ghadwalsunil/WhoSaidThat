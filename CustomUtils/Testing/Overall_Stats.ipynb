{
 "cells": [
  {
   "cell_type": "code",
   "execution_count": 1,
   "id": "c02fdc2c",
   "metadata": {},
   "outputs": [],
   "source": [
    "from testing_combining import *"
   ]
  },
  {
   "cell_type": "code",
   "execution_count": 2,
   "id": "90cbcb61",
   "metadata": {},
   "outputs": [],
   "source": [
    "from datetime import datetime"
   ]
  },
  {
   "cell_type": "code",
   "execution_count": 3,
   "id": "ff53972c",
   "metadata": {},
   "outputs": [],
   "source": [
    "VIDEO_FILES = [\n",
    "    VideoFile(name=\"2qQs3Y9OJX0\", save_name=\"2qQs3Y9OJX0_c_01\", start=900.488, duration=300),\n",
    "    VideoFile(name=\"2qQs3Y9OJX0\", save_name=\"2qQs3Y9OJX0_c_02\", start=1200.115, duration=300),\n",
    "    VideoFile(name=\"2qQs3Y9OJX0\", save_name=\"2qQs3Y9OJX0_c_03\", start=1500.002, duration=300),\n",
    "    VideoFile(name=\"1j20qq1JyX4\", save_name=\"1j20qq1JyX4_c_01\", start=899.993, duration=300),\n",
    "    VideoFile(name=\"1j20qq1JyX4\", save_name=\"1j20qq1JyX4_c_02\", start=1200.193, duration=300),\n",
    "    VideoFile(name=\"1j20qq1JyX4\", save_name=\"1j20qq1JyX4_c_03\", start=1500.004, duration=300),\n",
    "    VideoFile(name=\"4ZpjKfu6Cl8\", save_name=\"4ZpjKfu6Cl8_c_01\", start=900.003, duration=300),\n",
    "    VideoFile(name=\"4ZpjKfu6Cl8\", save_name=\"4ZpjKfu6Cl8_c_02\", start=1200.003, duration=300),\n",
    "    VideoFile(name=\"4ZpjKfu6Cl8\", save_name=\"4ZpjKfu6Cl8_c_03\", start=1500.097, duration=300),\n",
    "    VideoFile(name=\"5milLu-6bWI\", save_name=\"5milLu-6bWI_c_01\", start=904.06, duration=300),\n",
    "    VideoFile(name=\"5milLu-6bWI\", save_name=\"5milLu-6bWI_c_02\", start=1200.003, duration=300),\n",
    "    VideoFile(name=\"5milLu-6bWI\", save_name=\"5milLu-6bWI_c_03\", start=1500.003, duration=300),\n",
    "    VideoFile(name=\"7YpF6DntOYw\", save_name=\"7YpF6DntOYw_c_01\", start=907.132, duration=300),\n",
    "    VideoFile(name=\"7YpF6DntOYw\", save_name=\"7YpF6DntOYw_c_02\", start=1239.28, duration=300),\n",
    "    VideoFile(name=\"7YpF6DntOYw\", save_name=\"7YpF6DntOYw_c_03\", start=1505.43, duration=300),\n",
    "    VideoFile(name=\"BCiuXAuCKAU\", save_name=\"BCiuXAuCKAU_c_01\", start=904.705, duration=300),\n",
    "    VideoFile(name=\"BCiuXAuCKAU\", save_name=\"BCiuXAuCKAU_c_02\", start=1202.653, duration=300),\n",
    "    VideoFile(name=\"BCiuXAuCKAU\", save_name=\"BCiuXAuCKAU_c_03\", start=1500.004, duration=300),\n",
    "    VideoFile(name=\"HKjR70GCRPE\", save_name=\"HKjR70GCRPE_c_01\", start=900.0, duration=300),\n",
    "    VideoFile(name=\"HKjR70GCRPE\", save_name=\"HKjR70GCRPE_c_02\", start=1200.001, duration=300),\n",
    "    VideoFile(name=\"HKjR70GCRPE\", save_name=\"HKjR70GCRPE_c_03\", start=1500.002, duration=300),\n",
    "    VideoFile(name=\"IKdBLciu_-A\", save_name=\"IKdBLciu_-A_c_01\", start=900.0, duration=300),\n",
    "    VideoFile(name=\"IKdBLciu_-A\", save_name=\"IKdBLciu_-A_c_02\", start=1200.56, duration=300),\n",
    "    VideoFile(name=\"IKdBLciu_-A\", save_name=\"IKdBLciu_-A_c_03\", start=1500.138, duration=300),\n",
    "    VideoFile(name=\"KHHgQ_Pe4cI\", save_name=\"KHHgQ_Pe4cI_c_01\", start=913.81, duration=300),\n",
    "    VideoFile(name=\"KHHgQ_Pe4cI\", save_name=\"KHHgQ_Pe4cI_c_02\", start=1223.14, duration=300),\n",
    "    VideoFile(name=\"KHHgQ_Pe4cI\", save_name=\"KHHgQ_Pe4cI_c_03\", start=1500.63, duration=300),\n",
    "    VideoFile(name=\"PmElx9ZVByw\", save_name=\"PmElx9ZVByw_c_01\", start=902.0, duration=300),\n",
    "    VideoFile(name=\"PmElx9ZVByw\", save_name=\"PmElx9ZVByw_c_02\", start=1200.467, duration=300),\n",
    "    VideoFile(name=\"PmElx9ZVByw\", save_name=\"PmElx9ZVByw_c_03\", start=1500.412, duration=300),\n",
    "    VideoFile(name=\"a5mEmM6w_ks\", save_name=\"a5mEmM6w_ks_c_01\", start=902.35, duration=300),\n",
    "    VideoFile(name=\"a5mEmM6w_ks\", save_name=\"a5mEmM6w_ks_c_02\", start=1200.023, duration=300),\n",
    "    VideoFile(name=\"a5mEmM6w_ks\", save_name=\"a5mEmM6w_ks_c_03\", start=1510.264, duration=300),\n",
    "    VideoFile(name=\"kMy-6RtoOVU\", save_name=\"kMy-6RtoOVU_c_01\", start=900.023, duration=300),\n",
    "    VideoFile(name=\"kMy-6RtoOVU\", save_name=\"kMy-6RtoOVU_c_02\", start=1200.004, duration=300),\n",
    "    VideoFile(name=\"kMy-6RtoOVU\", save_name=\"kMy-6RtoOVU_c_03\", start=1500.003, duration=300),\n",
    "    VideoFile(name=\"qrkff49p4E4\", save_name=\"qrkff49p4E4_c_01\", start=900.0, duration=300),\n",
    "    VideoFile(name=\"qrkff49p4E4\", save_name=\"qrkff49p4E4_c_02\", start=1200.07, duration=300),\n",
    "    VideoFile(name=\"qrkff49p4E4\", save_name=\"qrkff49p4E4_c_03\", start=1500.0, duration=300),\n",
    "    VideoFile(name=\"zC5Fh2tTS1U\", save_name=\"zC5Fh2tTS1U_c_01\", start=919.004, duration=300),\n",
    "    VideoFile(name=\"zC5Fh2tTS1U\", save_name=\"zC5Fh2tTS1U_c_02\", start=1200.002, duration=300),\n",
    "    VideoFile(name=\"zC5Fh2tTS1U\", save_name=\"zC5Fh2tTS1U_c_03\", start=1500.004, duration=300),\n",
    "    VideoFile(name=\"zR725veL-DI\", save_name=\"zR725veL-DI_c_01\", start=900.412, duration=300),\n",
    "    VideoFile(name=\"zR725veL-DI\", save_name=\"zR725veL-DI_c_02\", start=1200.0, duration=300),\n",
    "    VideoFile(name=\"zR725veL-DI\", save_name=\"zR725veL-DI_c_03\", start=1500.002, duration=300),\n",
    "    VideoFile(name=\"IzvOYVMltkI\", save_name=\"IzvOYVMltkI_c_01\", start=900.375, duration=300),\n",
    "    VideoFile(name=\"IzvOYVMltkI\", save_name=\"IzvOYVMltkI_c_02\", start=1200.002, duration=300),\n",
    "    VideoFile(name=\"IzvOYVMltkI\", save_name=\"IzvOYVMltkI_c_03\", start=1500.004, duration=300),\n",
    "    VideoFile(name=\"UrsCy6qIGoo\", save_name=\"UrsCy6qIGoo_c_01\", start=900.004, duration=300),\n",
    "    VideoFile(name=\"UrsCy6qIGoo\", save_name=\"UrsCy6qIGoo_c_02\", start=1200.115, duration=300),\n",
    "    VideoFile(name=\"UrsCy6qIGoo\", save_name=\"UrsCy6qIGoo_c_03\", start=1500.004, duration=300),\n",
    "    VideoFile(name=\"yn9WN9lsHRE\", save_name=\"yn9WN9lsHRE_c_01\", start=900.003, duration=300),\n",
    "    VideoFile(name=\"yn9WN9lsHRE\", save_name=\"yn9WN9lsHRE_c_02\", start=1200.001, duration=300),\n",
    "    VideoFile(name=\"yn9WN9lsHRE\", save_name=\"yn9WN9lsHRE_c_03\", start=1500.004, duration=300),\n",
    "]"
   ]
  },
  {
   "cell_type": "code",
   "execution_count": 4,
   "id": "63541405",
   "metadata": {},
   "outputs": [
    {
     "name": "stderr",
     "output_type": "stream",
     "text": [
      "2024-04-04 02:08:34.902190732 [W:onnxruntime:, session_state.cc:1162 VerifyEachNodeIsAssignedToAnEp] Some nodes were not assigned to the preferred execution providers which may or may not have an negative impact on performance. e.g. ORT explicitly assigns shape related ops to CPU to improve perf.\n",
      "2024-04-04 02:08:34.902218912 [W:onnxruntime:, session_state.cc:1164 VerifyEachNodeIsAssignedToAnEp] Rerunning with verbose output on a non-minimal build will show node assignments.\n"
     ]
    },
    {
     "data": {
      "text/plain": [
       "<pyannote.audio.pipelines.speaker_diarization.SpeakerDiarization at 0x7fa392ae0d90>"
      ]
     },
     "execution_count": 4,
     "metadata": {},
     "output_type": "execute_result"
    }
   ],
   "source": [
    "pretrained_pipeline = Pipeline.from_pretrained(\"pyannote/speaker-diarization-3.0\",\n",
    "                                               use_auth_token=os.getenv('HUGGINGFACE_TOKEN'))\n",
    "os.environ[\"CUDA_VISIBLE_DEVICES\"]=\"1\"\n",
    "pretrained_pipeline.to(torch.device(\"cuda\"))"
   ]
  },
  {
   "cell_type": "code",
   "execution_count": 5,
   "id": "b73a75b0",
   "metadata": {},
   "outputs": [],
   "source": [
    "ground_truth_rttm_file = '../../../AVA-AVD/dataset/rttms/2qQs3Y9OJX0_c_01.rttm'\n",
    "offset=900.488\n",
    "encoding_df = pd.read_pickle(\"../../output/video_temp/2qQs3Y9OJX0_c_01/pywork/encoding_df.pckl\")\n",
    "audio_path = \"../../output/video_temp/2qQs3Y9OJX0_c_01/pywav/audio.wav\""
   ]
  },
  {
   "cell_type": "code",
   "execution_count": 6,
   "id": "3f8dd4e5",
   "metadata": {},
   "outputs": [],
   "source": [
    "from pyannote.metrics.diarization import DiarizationErrorRate\n",
    "metric = DiarizationErrorRate()"
   ]
  },
  {
   "cell_type": "code",
   "execution_count": 7,
   "id": "cea2a14a",
   "metadata": {},
   "outputs": [
    {
     "data": {
      "text/plain": [
       "'2024-04-04 02:08:34'"
      ]
     },
     "execution_count": 7,
     "metadata": {},
     "output_type": "execute_result"
    }
   ],
   "source": [
    "datetime.now().strftime(\"%Y-%m-%d %H:%M:%S\")"
   ]
  },
  {
   "cell_type": "code",
   "execution_count": 8,
   "id": "1bc49a82",
   "metadata": {},
   "outputs": [
    {
     "name": "stdout",
     "output_type": "stream",
     "text": [
      "2qQs3Y9OJX0_c_01\n",
      "Video DER - 0.9213004484304949\n",
      "Audio DER - 0.7621076233183866\n",
      "Overall DER - 0.8332959641255617\n",
      "2qQs3Y9OJX0_c_02\n",
      "Video DER - 0.9015686950525772\n",
      "Audio DER - 0.5617996897086719\n",
      "Overall DER - 0.6821237717634895\n",
      "2qQs3Y9OJX0_c_03\n",
      "Video DER - 0.9031339031339027\n",
      "Audio DER - 0.44363044363044446\n",
      "Overall DER - 0.7843576176909521\n",
      "1j20qq1JyX4_c_01\n",
      "Video DER - 0.684429155578632\n",
      "Audio DER - 0.6011553190108396\n",
      "Overall DER - 0.5881742065294999\n",
      "1j20qq1JyX4_c_02\n",
      "Video DER - 0.5825980069362138\n",
      "Audio DER - 0.7049914394837352\n",
      "Overall DER - 0.45989727380482054\n",
      "1j20qq1JyX4_c_03\n",
      "Video DER - 0.7988237679983775\n",
      "Audio DER - 0.44392618130196704\n",
      "Overall DER - 0.4599472723585476\n",
      "4ZpjKfu6Cl8_c_01\n",
      "Video DER - 0.9760593220338982\n",
      "Audio DER - 0.8194915254237288\n",
      "Overall DER - 0.8055084745762707\n",
      "4ZpjKfu6Cl8_c_02\n",
      "Video DER - 0.8551416951778464\n",
      "Audio DER - 0.5538699890258855\n",
      "Overall DER - 0.6253308372603449\n",
      "4ZpjKfu6Cl8_c_03\n",
      "Video DER - 0.6358294007657385\n",
      "Audio DER - 0.6296856913899049\n",
      "Overall DER - 0.5369958151544851\n",
      "5milLu-6bWI_c_01\n",
      "Video DER - 0.621709960433512\n",
      "Audio DER - 0.40013762257010127\n",
      "Overall DER - 0.36435575434371203\n",
      "5milLu-6bWI_c_02\n",
      "Video DER - 0.7269335298724032\n",
      "Audio DER - 0.4052697038094793\n",
      "Overall DER - 0.4539591874337822\n",
      "5milLu-6bWI_c_03\n",
      "Video DER - 0.9108843844521699\n",
      "Audio DER - 0.4873369148119727\n",
      "Overall DER - 0.7986998329646517\n",
      "7YpF6DntOYw_c_01\n",
      "Video DER - 0.8294701986754958\n",
      "Audio DER - 0.8007977122215534\n",
      "Overall DER - 0.7315623118603245\n",
      "7YpF6DntOYw_c_02\n",
      "Video DER - 0.9944547134935312\n",
      "Audio DER - 0.7571164510166353\n",
      "Overall DER - 0.7635859519408503\n",
      "7YpF6DntOYw_c_03\n",
      "Video DER - 1.1495242410512037\n",
      "Audio DER - 0.381211297387101\n",
      "Overall DER - 0.6322307808488141\n",
      "BCiuXAuCKAU_c_01\n",
      "Video DER - 0.9662567776917117\n",
      "Audio DER - 0.7044442292796282\n",
      "Overall DER - 0.709866382649109\n",
      "BCiuXAuCKAU_c_02\n",
      "Video DER - 0.936461578400831\n",
      "Audio DER - 0.530244029075805\n",
      "Overall DER - 0.811201973001039\n",
      "BCiuXAuCKAU_c_03\n",
      "Video DER - 0.9062545209046634\n",
      "Audio DER - 0.5402420793750311\n",
      "Overall DER - 0.7109514394560453\n",
      "HKjR70GCRPE_c_01\n",
      "Video DER - 0.7142077248532847\n",
      "Audio DER - 0.4686092534461582\n",
      "Overall DER - 0.5876211273372469\n",
      "HKjR70GCRPE_c_02\n",
      "Video DER - 0.939149610640203\n",
      "Audio DER - 0.5768038040107496\n",
      "Overall DER - 0.8933912204534484\n",
      "HKjR70GCRPE_c_03\n",
      "Video DER - 0.8743518630170025\n",
      "Audio DER - 0.5892318823103815\n",
      "Overall DER - 0.6958278065838651\n",
      "IKdBLciu_-A_c_01\n",
      "Video DER - 0.8769001723867731\n",
      "Audio DER - 0.4674032283341183\n",
      "Overall DER - 0.7135245259363746\n",
      "IKdBLciu_-A_c_02\n",
      "Video DER - 1.0665621734587263\n",
      "Audio DER - 0.8705329153605019\n",
      "Overall DER - 0.9340647857889235\n",
      "IKdBLciu_-A_c_03\n",
      "Video DER - 1.0175456389452333\n",
      "Audio DER - 0.6888438133874228\n",
      "Overall DER - 0.850811359026368\n",
      "KHHgQ_Pe4cI_c_01\n",
      "Video DER - 0.8657327944189132\n",
      "Audio DER - 0.5681302253474338\n",
      "Overall DER - 0.7824594429987268\n",
      "KHHgQ_Pe4cI_c_02\n",
      "Video DER - 0.9187855470056869\n",
      "Audio DER - 0.8710270993643373\n",
      "Overall DER - 0.7604550016728012\n",
      "KHHgQ_Pe4cI_c_03\n",
      "Video DER - 0.8831509566775452\n",
      "Audio DER - 0.7063415882767016\n",
      "Overall DER - 0.7908107762206448\n",
      "PmElx9ZVByw_c_01\n",
      "Video DER - 0.7421436588103246\n",
      "Audio DER - 0.3764730639730629\n",
      "Overall DER - 0.41722783389449963\n",
      "PmElx9ZVByw_c_02\n",
      "Video DER - 0.8187623123429106\n",
      "Audio DER - 0.13307519869574116\n",
      "Overall DER - 0.6528089124380129\n",
      "PmElx9ZVByw_c_03\n",
      "Video DER - 0.8042336861405128\n",
      "Audio DER - 0.2442703558629883\n",
      "Overall DER - 0.43511959329944105\n",
      "a5mEmM6w_ks_c_01\n",
      "Video DER - 0.7149160020363148\n",
      "Audio DER - 0.2834294926183597\n",
      "Overall DER - 0.5854403529611392\n",
      "a5mEmM6w_ks_c_02\n",
      "Video DER - 0.6365936372934278\n",
      "Audio DER - 0.2112289390106052\n",
      "Overall DER - 0.49313667438230135\n",
      "a5mEmM6w_ks_c_03\n",
      "Video DER - 0.6025512948589877\n",
      "Audio DER - 0.27933604856682026\n",
      "Overall DER - 0.4587719972335379\n",
      "kMy-6RtoOVU_c_01\n",
      "Video DER - 0.9672068946826395\n",
      "Audio DER - 0.5881077565179689\n",
      "Overall DER - 0.8421052631578955\n",
      "kMy-6RtoOVU_c_02\n",
      "Video DER - 1.0433459450567528\n",
      "Audio DER - 0.7413225859516388\n",
      "Overall DER - 0.952870537917421\n",
      "kMy-6RtoOVU_c_03\n",
      "Video DER - 0.8375201866140319\n",
      "Audio DER - 0.7447514803516947\n",
      "Overall DER - 0.6139422214247263\n",
      "qrkff49p4E4_c_01\n",
      "Video DER - 0.7917599945700129\n",
      "Audio DER - 0.2316568248150418\n",
      "Overall DER - 0.2424489241838057\n",
      "qrkff49p4E4_c_02\n",
      "Video DER - 0.9008466063997699\n",
      "Audio DER - 0.14047926531783622\n",
      "Overall DER - 0.25792796670971396\n",
      "qrkff49p4E4_c_03\n",
      "Video DER - 0.9539863894611973\n",
      "Audio DER - 0.21951676343884596\n",
      "Overall DER - 0.5534744334144963\n",
      "zC5Fh2tTS1U_c_01\n",
      "Video DER - 0.9274522984642434\n",
      "Audio DER - 0.6065463571022275\n",
      "Overall DER - 0.7983349707844247\n",
      "zC5Fh2tTS1U_c_02\n",
      "Video DER - 1.0107190451358705\n",
      "Audio DER - 0.6465032736543247\n",
      "Overall DER - 0.8292485080247975\n",
      "zC5Fh2tTS1U_c_03\n",
      "Video DER - 0.9656138883078846\n",
      "Audio DER - 0.737544446768456\n",
      "Overall DER - 0.8930349299309753\n",
      "zR725veL-DI_c_01\n",
      "Video DER - 0.8668911453674967\n",
      "Audio DER - 0.2835271215867841\n",
      "Overall DER - 0.6831167464618314\n",
      "zR725veL-DI_c_02\n",
      "Video DER - 0.8346252030633553\n",
      "Audio DER - 0.30930610350429333\n",
      "Overall DER - 0.6380134601995819\n",
      "zR725veL-DI_c_03\n",
      "Video DER - 0.864109753655117\n",
      "Audio DER - 0.32049869817744847\n",
      "Overall DER - 0.6509112757860999\n",
      "IzvOYVMltkI_c_01\n",
      "Video DER - 0.8406610937400305\n",
      "Audio DER - 0.33833195073703054\n",
      "Overall DER - 0.5536341012060499\n",
      "IzvOYVMltkI_c_02\n",
      "Video DER - 0.7921439405826662\n",
      "Audio DER - 0.5247136356503993\n",
      "Overall DER - 0.5939641194623146\n",
      "IzvOYVMltkI_c_03\n",
      "Video DER - 0.8375934620066071\n",
      "Audio DER - 0.28852953109603974\n",
      "Overall DER - 0.6748971193415625\n",
      "UrsCy6qIGoo_c_01\n",
      "Video DER - 0.9043272756906535\n",
      "Audio DER - 0.28604025751772527\n",
      "Overall DER - 0.5204139841903686\n",
      "UrsCy6qIGoo_c_02\n",
      "Video DER - 0.9627378858148087\n",
      "Audio DER - 0.5504557812250114\n",
      "Overall DER - 0.5120742043818962\n",
      "UrsCy6qIGoo_c_03\n",
      "Video DER - 0.8610927908274559\n",
      "Audio DER - 0.4102277915884525\n",
      "Overall DER - 0.4293034346304096\n",
      "yn9WN9lsHRE_c_01\n",
      "Video DER - 0.9367889420521005\n",
      "Audio DER - 0.4482721956406191\n",
      "Overall DER - 0.6637426900584815\n",
      "yn9WN9lsHRE_c_02\n",
      "Video DER - 0.8999295729560151\n",
      "Audio DER - 0.4954862667264227\n",
      "Overall DER - 0.7309686919777193\n",
      "yn9WN9lsHRE_c_03\n",
      "Video DER - 0.918423464711274\n",
      "Audio DER - 0.531418678073123\n",
      "Overall DER - 0.6712496180873814\n"
     ]
    }
   ],
   "source": [
    "total_audio_der = 0\n",
    "total_video_der = 0\n",
    "total_combined_der = 0\n",
    "for video_file in VIDEO_FILES:\n",
    "    print(video_file.save_name)\n",
    "    ground_truth_rttm_file = f'../../../AVA-AVD/dataset/rttms/{video_file.save_name}.rttm'\n",
    "    offset=video_file.start\n",
    "    encoding_df = pd.read_pickle(f\"../../output/video_temp/{video_file.save_name}/pywork/encoding_df.pckl\")\n",
    "    audio_path = f\"../../output/video_temp/{video_file.save_name}/pywav/audio.wav\"\n",
    "    \n",
    "    final_df_cents, track_centroids_df = get_subset(encoding_df)\n",
    "    \n",
    "    new_classes = perform_clustering(list(track_centroids_df[\"Track_Cluster_Centroid\"]), max_clusters=12)\n",
    "    track_centroids_df[\"Track_Cluster_Cluster_ID\"] = new_classes\n",
    "    \n",
    "    final_df_cents = final_df_cents.merge(\n",
    "        track_centroids_df[[\"Track\", \"Track_Cluster_ID\", \"Track_Cluster_Cluster_ID\"]],\n",
    "        on=[\"Track\", \"Track_Cluster_ID\"])\n",
    "    \n",
    "    _temp_df = get_final_cluster_ids(final_df_cents)\n",
    "    \n",
    "    encoding_df = encoding_df.merge(_temp_df[[\"Track\", \"Final_Cluster\"]].drop_duplicates(), on=\"Track\")\n",
    "    \n",
    "    gt_1j20 = convert_rttm_to_diarization(ground_truth_rttm_file, offset)\n",
    "    pyannote_gt = convert_diarization_output_to_pyannote(gt_1j20)\n",
    "    \n",
    "    vdo_1j20 = get_final_tracks(encoding_df, 25)\n",
    "    pyannote_vdo = convert_diarization_output_to_pyannote(vdo_1j20)\n",
    "    \n",
    "    vdo_der = metric(pyannote_gt, pyannote_vdo)    \n",
    "    print(f\"Video DER - {vdo_der}\")\n",
    "    total_video_der += vdo_der\n",
    "    \n",
    "    pyannote_ad03 = perform_pyannote_diarization(pretrained_pipeline, audio_path, min_cluster_size=3)\n",
    "    pyannote_ad06 = perform_pyannote_diarization(pretrained_pipeline, audio_path, min_cluster_size=6)\n",
    "    pyannote_ad09 = perform_pyannote_diarization(pretrained_pipeline, audio_path, min_cluster_size=9)\n",
    "    pyannote_ad12 = perform_pyannote_diarization(pretrained_pipeline, audio_path, min_cluster_size=12)\n",
    "    ad03_1j20 = convert_pyannote_to_diarization(pyannote_ad03)\n",
    "    ad06_1j20 = convert_pyannote_to_diarization(pyannote_ad06)\n",
    "    ad09_1j20 = convert_pyannote_to_diarization(pyannote_ad09)\n",
    "    ad12_1j20 = convert_pyannote_to_diarization(pyannote_ad12)\n",
    "    pyannote_ad03 = convert_diarization_output_to_pyannote(ad03_1j20)\n",
    "    pyannote_ad06 = convert_diarization_output_to_pyannote(ad06_1j20)\n",
    "    pyannote_ad09 = convert_diarization_output_to_pyannote(ad09_1j20)\n",
    "    pyannote_ad12 = convert_diarization_output_to_pyannote(ad12_1j20)\n",
    "    \n",
    "    diarize_output = DiarizationOutput(\n",
    "        audio_diarization_03=ad03_1j20,\n",
    "        audio_diarization_06=ad06_1j20,\n",
    "        audio_diarization_09=ad09_1j20,\n",
    "        audio_diarization_12=ad12_1j20,\n",
    "        video_diarization=vdo_1j20,\n",
    "    )\n",
    "\n",
    "\n",
    "    final_diarization_output = diarize_output.get_diarization_output()\n",
    "    \n",
    "    pyannote_combined = convert_diarization_output_to_pyannote(final_diarization_output)\n",
    "    \n",
    "    audio_der = metric(pyannote_gt, pyannote_ad12)\n",
    "    print(f\"Audio DER - {audio_der}\")\n",
    "    total_audio_der += audio_der\n",
    "    \n",
    "    combined_der = metric(pyannote_gt, pyannote_combined)\n",
    "    print(f\"Overall DER - {combined_der}\")\n",
    "    total_combined_der += combined_der"
   ]
  },
  {
   "cell_type": "code",
   "execution_count": 9,
   "id": "c367bd19",
   "metadata": {},
   "outputs": [
    {
     "data": {
      "text/plain": [
       "0.5056561410342156"
      ]
     },
     "execution_count": 9,
     "metadata": {},
     "output_type": "execute_result"
    }
   ],
   "source": [
    "avg_audio_der = total_audio_der/len(VIDEO_FILES)\n",
    "avg_audio_der"
   ]
  },
  {
   "cell_type": "code",
   "execution_count": 10,
   "id": "89161707",
   "metadata": {},
   "outputs": [
    {
     "data": {
      "text/plain": [
       "0.8647073546690563"
      ]
     },
     "execution_count": 10,
     "metadata": {},
     "output_type": "execute_result"
    }
   ],
   "source": [
    "avg_video_der = total_video_der/len(VIDEO_FILES)\n",
    "avg_video_der"
   ]
  },
  {
   "cell_type": "code",
   "execution_count": 11,
   "id": "97332b92",
   "metadata": {},
   "outputs": [
    {
     "data": {
      "text/plain": [
       "0.8647073546690563"
      ]
     },
     "execution_count": 11,
     "metadata": {},
     "output_type": "execute_result"
    }
   ],
   "source": [
    "avg_combined_der = total_video_der/len(VIDEO_FILES)\n",
    "avg_combined_der"
   ]
  },
  {
   "cell_type": "code",
   "execution_count": 12,
   "id": "8ac11a25",
   "metadata": {},
   "outputs": [
    {
     "data": {
      "text/plain": [
       "'2024-04-04 02:33:01'"
      ]
     },
     "execution_count": 12,
     "metadata": {},
     "output_type": "execute_result"
    }
   ],
   "source": [
    "datetime.now().strftime(\"%Y-%m-%d %H:%M:%S\")"
   ]
  }
 ],
 "metadata": {
  "kernelspec": {
   "display_name": "Python 3 (ipykernel)",
   "language": "python",
   "name": "python3"
  },
  "language_info": {
   "codemirror_mode": {
    "name": "ipython",
    "version": 3
   },
   "file_extension": ".py",
   "mimetype": "text/x-python",
   "name": "python",
   "nbconvert_exporter": "python",
   "pygments_lexer": "ipython3",
   "version": "3.8.0"
  }
 },
 "nbformat": 4,
 "nbformat_minor": 5
}
