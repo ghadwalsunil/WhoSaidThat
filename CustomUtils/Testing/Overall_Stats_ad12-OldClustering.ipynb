{
 "cells": [
  {
   "cell_type": "code",
   "execution_count": 1,
   "id": "0f2daf3d",
   "metadata": {},
   "outputs": [],
   "source": [
    "from testing_combining import *"
   ]
  },
  {
   "cell_type": "code",
   "execution_count": 2,
   "id": "6f2e259b",
   "metadata": {},
   "outputs": [],
   "source": [
    "from datetime import datetime"
   ]
  },
  {
   "cell_type": "code",
   "execution_count": 3,
   "id": "3d793a1a",
   "metadata": {},
   "outputs": [],
   "source": [
    "VIDEO_FILES = [\n",
    "    VideoFile(name=\"2qQs3Y9OJX0\", save_name=\"2qQs3Y9OJX0_c_01\", start=900.488, duration=300),\n",
    "    VideoFile(name=\"2qQs3Y9OJX0\", save_name=\"2qQs3Y9OJX0_c_02\", start=1200.115, duration=300),\n",
    "    VideoFile(name=\"2qQs3Y9OJX0\", save_name=\"2qQs3Y9OJX0_c_03\", start=1500.002, duration=300),\n",
    "    VideoFile(name=\"1j20qq1JyX4\", save_name=\"1j20qq1JyX4_c_01\", start=899.993, duration=300),\n",
    "    VideoFile(name=\"1j20qq1JyX4\", save_name=\"1j20qq1JyX4_c_02\", start=1200.193, duration=300),\n",
    "    VideoFile(name=\"1j20qq1JyX4\", save_name=\"1j20qq1JyX4_c_03\", start=1500.004, duration=300),\n",
    "    VideoFile(name=\"4ZpjKfu6Cl8\", save_name=\"4ZpjKfu6Cl8_c_01\", start=900.003, duration=300),\n",
    "    VideoFile(name=\"4ZpjKfu6Cl8\", save_name=\"4ZpjKfu6Cl8_c_02\", start=1200.003, duration=300),\n",
    "    VideoFile(name=\"4ZpjKfu6Cl8\", save_name=\"4ZpjKfu6Cl8_c_03\", start=1500.097, duration=300),\n",
    "    VideoFile(name=\"5milLu-6bWI\", save_name=\"5milLu-6bWI_c_01\", start=904.06, duration=300),\n",
    "    VideoFile(name=\"5milLu-6bWI\", save_name=\"5milLu-6bWI_c_02\", start=1200.003, duration=300),\n",
    "    VideoFile(name=\"5milLu-6bWI\", save_name=\"5milLu-6bWI_c_03\", start=1500.003, duration=300),\n",
    "    VideoFile(name=\"7YpF6DntOYw\", save_name=\"7YpF6DntOYw_c_01\", start=907.132, duration=300),\n",
    "    VideoFile(name=\"7YpF6DntOYw\", save_name=\"7YpF6DntOYw_c_02\", start=1239.28, duration=300),\n",
    "    VideoFile(name=\"7YpF6DntOYw\", save_name=\"7YpF6DntOYw_c_03\", start=1505.43, duration=300),\n",
    "    VideoFile(name=\"BCiuXAuCKAU\", save_name=\"BCiuXAuCKAU_c_01\", start=904.705, duration=300),\n",
    "    VideoFile(name=\"BCiuXAuCKAU\", save_name=\"BCiuXAuCKAU_c_02\", start=1202.653, duration=300),\n",
    "    VideoFile(name=\"BCiuXAuCKAU\", save_name=\"BCiuXAuCKAU_c_03\", start=1500.004, duration=300),\n",
    "    VideoFile(name=\"HKjR70GCRPE\", save_name=\"HKjR70GCRPE_c_01\", start=900.0, duration=300),\n",
    "    VideoFile(name=\"HKjR70GCRPE\", save_name=\"HKjR70GCRPE_c_02\", start=1200.001, duration=300),\n",
    "    VideoFile(name=\"HKjR70GCRPE\", save_name=\"HKjR70GCRPE_c_03\", start=1500.002, duration=300),\n",
    "    VideoFile(name=\"IKdBLciu_-A\", save_name=\"IKdBLciu_-A_c_01\", start=900.0, duration=300),\n",
    "    VideoFile(name=\"IKdBLciu_-A\", save_name=\"IKdBLciu_-A_c_02\", start=1200.56, duration=300),\n",
    "    VideoFile(name=\"IKdBLciu_-A\", save_name=\"IKdBLciu_-A_c_03\", start=1500.138, duration=300),\n",
    "    VideoFile(name=\"KHHgQ_Pe4cI\", save_name=\"KHHgQ_Pe4cI_c_01\", start=913.81, duration=300),\n",
    "    VideoFile(name=\"KHHgQ_Pe4cI\", save_name=\"KHHgQ_Pe4cI_c_02\", start=1223.14, duration=300),\n",
    "    VideoFile(name=\"KHHgQ_Pe4cI\", save_name=\"KHHgQ_Pe4cI_c_03\", start=1500.63, duration=300),\n",
    "    VideoFile(name=\"PmElx9ZVByw\", save_name=\"PmElx9ZVByw_c_01\", start=902.0, duration=300),\n",
    "    VideoFile(name=\"PmElx9ZVByw\", save_name=\"PmElx9ZVByw_c_02\", start=1200.467, duration=300),\n",
    "    VideoFile(name=\"PmElx9ZVByw\", save_name=\"PmElx9ZVByw_c_03\", start=1500.412, duration=300),\n",
    "    VideoFile(name=\"a5mEmM6w_ks\", save_name=\"a5mEmM6w_ks_c_01\", start=902.35, duration=300),\n",
    "    VideoFile(name=\"a5mEmM6w_ks\", save_name=\"a5mEmM6w_ks_c_02\", start=1200.023, duration=300),\n",
    "    VideoFile(name=\"a5mEmM6w_ks\", save_name=\"a5mEmM6w_ks_c_03\", start=1510.264, duration=300),\n",
    "    VideoFile(name=\"kMy-6RtoOVU\", save_name=\"kMy-6RtoOVU_c_01\", start=900.023, duration=300),\n",
    "    VideoFile(name=\"kMy-6RtoOVU\", save_name=\"kMy-6RtoOVU_c_02\", start=1200.004, duration=300),\n",
    "    VideoFile(name=\"kMy-6RtoOVU\", save_name=\"kMy-6RtoOVU_c_03\", start=1500.003, duration=300),\n",
    "    VideoFile(name=\"qrkff49p4E4\", save_name=\"qrkff49p4E4_c_01\", start=900.0, duration=300),\n",
    "    VideoFile(name=\"qrkff49p4E4\", save_name=\"qrkff49p4E4_c_02\", start=1200.07, duration=300),\n",
    "    VideoFile(name=\"qrkff49p4E4\", save_name=\"qrkff49p4E4_c_03\", start=1500.0, duration=300),\n",
    "    VideoFile(name=\"zC5Fh2tTS1U\", save_name=\"zC5Fh2tTS1U_c_01\", start=919.004, duration=300),\n",
    "    VideoFile(name=\"zC5Fh2tTS1U\", save_name=\"zC5Fh2tTS1U_c_02\", start=1200.002, duration=300),\n",
    "    VideoFile(name=\"zC5Fh2tTS1U\", save_name=\"zC5Fh2tTS1U_c_03\", start=1500.004, duration=300),\n",
    "    VideoFile(name=\"zR725veL-DI\", save_name=\"zR725veL-DI_c_01\", start=900.412, duration=300),\n",
    "    VideoFile(name=\"zR725veL-DI\", save_name=\"zR725veL-DI_c_02\", start=1200.0, duration=300),\n",
    "    VideoFile(name=\"zR725veL-DI\", save_name=\"zR725veL-DI_c_03\", start=1500.002, duration=300),\n",
    "    VideoFile(name=\"IzvOYVMltkI\", save_name=\"IzvOYVMltkI_c_01\", start=900.375, duration=300),\n",
    "    VideoFile(name=\"IzvOYVMltkI\", save_name=\"IzvOYVMltkI_c_02\", start=1200.002, duration=300),\n",
    "    VideoFile(name=\"IzvOYVMltkI\", save_name=\"IzvOYVMltkI_c_03\", start=1500.004, duration=300),\n",
    "    VideoFile(name=\"UrsCy6qIGoo\", save_name=\"UrsCy6qIGoo_c_01\", start=900.004, duration=300),\n",
    "    VideoFile(name=\"UrsCy6qIGoo\", save_name=\"UrsCy6qIGoo_c_02\", start=1200.115, duration=300),\n",
    "    VideoFile(name=\"UrsCy6qIGoo\", save_name=\"UrsCy6qIGoo_c_03\", start=1500.004, duration=300),\n",
    "    VideoFile(name=\"yn9WN9lsHRE\", save_name=\"yn9WN9lsHRE_c_01\", start=900.003, duration=300),\n",
    "    VideoFile(name=\"yn9WN9lsHRE\", save_name=\"yn9WN9lsHRE_c_02\", start=1200.001, duration=300),\n",
    "    VideoFile(name=\"yn9WN9lsHRE\", save_name=\"yn9WN9lsHRE_c_03\", start=1500.004, duration=300),\n",
    "]"
   ]
  },
  {
   "cell_type": "code",
   "execution_count": 4,
   "id": "ad74248e",
   "metadata": {},
   "outputs": [
    {
     "name": "stderr",
     "output_type": "stream",
     "text": [
      "2024-04-04 09:50:55.659560236 [W:onnxruntime:, session_state.cc:1162 VerifyEachNodeIsAssignedToAnEp] Some nodes were not assigned to the preferred execution providers which may or may not have an negative impact on performance. e.g. ORT explicitly assigns shape related ops to CPU to improve perf.\n",
      "2024-04-04 09:50:55.659584395 [W:onnxruntime:, session_state.cc:1164 VerifyEachNodeIsAssignedToAnEp] Rerunning with verbose output on a non-minimal build will show node assignments.\n"
     ]
    },
    {
     "data": {
      "text/plain": [
       "<pyannote.audio.pipelines.speaker_diarization.SpeakerDiarization at 0x7fe5462a2940>"
      ]
     },
     "execution_count": 4,
     "metadata": {},
     "output_type": "execute_result"
    }
   ],
   "source": [
    "pretrained_pipeline = Pipeline.from_pretrained(\"pyannote/speaker-diarization-3.0\",\n",
    "                                               use_auth_token=os.getenv('HUGGINGFACE_TOKEN'))\n",
    "os.environ[\"CUDA_VISIBLE_DEVICES\"]=\"1\"\n",
    "pretrained_pipeline.to(torch.device(\"cuda\"))"
   ]
  },
  {
   "cell_type": "code",
   "execution_count": 5,
   "id": "bc613672",
   "metadata": {},
   "outputs": [],
   "source": [
    "# ground_truth_rttm_file = '../../../AVA-AVD/dataset/rttms/2qQs3Y9OJX0_c_01.rttm'\n",
    "# offset=900.488\n",
    "# encoding_df = pd.read_pickle(\"../../output/video_temp/2qQs3Y9OJX0_c_01/pywork/encoding_df.pckl\")\n",
    "# audio_path = \"../../output/video_temp/2qQs3Y9OJX0_c_01/pywav/audio.wav\""
   ]
  },
  {
   "cell_type": "code",
   "execution_count": 6,
   "id": "5f891f5b",
   "metadata": {},
   "outputs": [],
   "source": [
    "from pyannote.metrics.diarization import DiarizationErrorRate\n",
    "metric = DiarizationErrorRate()"
   ]
  },
  {
   "cell_type": "code",
   "execution_count": 7,
   "id": "8e669012",
   "metadata": {},
   "outputs": [
    {
     "data": {
      "text/plain": [
       "'2024-04-04 09:50:55'"
      ]
     },
     "execution_count": 7,
     "metadata": {},
     "output_type": "execute_result"
    }
   ],
   "source": [
    "datetime.now().strftime(\"%Y-%m-%d %H:%M:%S\")"
   ]
  },
  {
   "cell_type": "code",
   "execution_count": 8,
   "id": "eac4764a",
   "metadata": {},
   "outputs": [
    {
     "name": "stdout",
     "output_type": "stream",
     "text": [
      "2qQs3Y9OJX0_c_01\n",
      "Video DER - 0.8621076233183874\n",
      "Audio DER - 0.7621076233183866\n",
      "Overall DER - 0.8156950672645753\n",
      "2qQs3Y9OJX0_c_02\n",
      "Video DER - 0.9061368729529385\n",
      "Audio DER - 0.5617996897086719\n",
      "Overall DER - 0.5554214790553359\n",
      "2qQs3Y9OJX0_c_03\n",
      "Video DER - 0.7803554470221135\n",
      "Audio DER - 0.44363044363044446\n",
      "Overall DER - 0.6364808031474708\n",
      "1j20qq1JyX4_c_01\n",
      "Video DER - 0.6576231583046656\n",
      "Audio DER - 0.6011553190108396\n",
      "Overall DER - 0.529434672551438\n",
      "1j20qq1JyX4_c_02\n",
      "Video DER - 0.6347952061108928\n",
      "Audio DER - 0.7049914394837352\n",
      "Overall DER - 0.5202598884937885\n",
      "1j20qq1JyX4_c_03\n",
      "Video DER - 0.7967450821334408\n",
      "Audio DER - 0.44392618130196704\n",
      "Overall DER - 0.4459541675116605\n",
      "4ZpjKfu6Cl8_c_01\n",
      "Video DER - 0.9578389830508467\n",
      "Audio DER - 0.8194915254237288\n",
      "Overall DER - 0.8567796610169489\n",
      "4ZpjKfu6Cl8_c_02\n",
      "Video DER - 0.9120134271512506\n",
      "Audio DER - 0.5538699890258855\n",
      "Overall DER - 0.775159770189142\n",
      "4ZpjKfu6Cl8_c_03\n",
      "Video DER - 0.6921912563440491\n",
      "Audio DER - 0.6296856913899049\n",
      "Overall DER - 0.6002136942391612\n",
      "5milLu-6bWI_c_01\n",
      "Video DER - 0.6205631056826661\n",
      "Audio DER - 0.40013762257010127\n",
      "Overall DER - 0.3739893342508166\n",
      "5milLu-6bWI_c_02\n",
      "Video DER - 0.7617117324611915\n",
      "Audio DER - 0.4052697038094793\n",
      "Overall DER - 0.5237459118338008\n",
      "5milLu-6bWI_c_03\n",
      "Video DER - 0.811069477675951\n",
      "Audio DER - 0.4873369148119727\n",
      "Overall DER - 0.6464719425759557\n",
      "7YpF6DntOYw_c_01\n",
      "Video DER - 0.7988410596026485\n",
      "Audio DER - 0.8007977122215534\n",
      "Overall DER - 0.6940848886213127\n",
      "7YpF6DntOYw_c_02\n",
      "Video DER - 0.829205175600739\n",
      "Audio DER - 0.7571164510166353\n",
      "Overall DER - 0.523105360443621\n",
      "7YpF6DntOYw_c_03\n",
      "Video DER - 0.9741730856366143\n",
      "Audio DER - 0.381211297387101\n",
      "Overall DER - 0.4185168403564425\n",
      "BCiuXAuCKAU_c_01\n",
      "Video DER - 0.9627711076684738\n",
      "Audio DER - 0.7044442292796282\n",
      "Overall DER - 0.7373160340821069\n",
      "BCiuXAuCKAU_c_02\n",
      "Video DER - 0.8947949117341644\n",
      "Audio DER - 0.530244029075805\n",
      "Overall DER - 0.546274662512981\n",
      "BCiuXAuCKAU_c_03\n",
      "Video DER - 0.917008246130106\n",
      "Audio DER - 0.5402420793750311\n",
      "Overall DER - 0.5563967787047317\n",
      "HKjR70GCRPE_c_01\n",
      "Video DER - 0.7632045857786289\n",
      "Audio DER - 0.4686092534461582\n",
      "Overall DER - 0.5149447249897643\n",
      "HKjR70GCRPE_c_02\n",
      "Video DER - 0.8747846461305203\n",
      "Audio DER - 0.5768038040107496\n",
      "Overall DER - 0.6209771897181439\n",
      "HKjR70GCRPE_c_03\n",
      "Video DER - 0.657663089352466\n",
      "Audio DER - 0.5892318823103815\n",
      "Overall DER - 0.4811286627276017\n",
      "IKdBLciu_-A_c_01\n",
      "Video DER - 0.9025231154991392\n",
      "Audio DER - 0.4674032283341183\n",
      "Overall DER - 0.6500548503369386\n",
      "IKdBLciu_-A_c_02\n",
      "Video DER - 0.9886102403343784\n",
      "Audio DER - 0.8705329153605019\n",
      "Overall DER - 0.8166144200626964\n",
      "IKdBLciu_-A_c_03\n",
      "Video DER - 0.9231237322515204\n",
      "Audio DER - 0.6888438133874228\n",
      "Overall DER - 0.6709939148073009\n",
      "KHHgQ_Pe4cI_c_01\n",
      "Video DER - 0.8679475112120032\n",
      "Audio DER - 0.5681302253474338\n",
      "Overall DER - 0.8095897237140803\n",
      "KHHgQ_Pe4cI_c_02\n",
      "Video DER - 0.933757109401137\n",
      "Audio DER - 0.8710270993643373\n",
      "Overall DER - 0.8123118099698909\n",
      "KHHgQ_Pe4cI_c_03\n",
      "Video DER - 0.853714724515262\n",
      "Audio DER - 0.7063415882767016\n",
      "Overall DER - 0.7174761630511303\n",
      "PmElx9ZVByw_c_01\n",
      "Video DER - 0.7789001122334442\n",
      "Audio DER - 0.3764730639730629\n",
      "Overall DER - 0.45791245791245705\n",
      "PmElx9ZVByw_c_02\n",
      "Video DER - 0.6958087086475105\n",
      "Audio DER - 0.13307519869574116\n",
      "Overall DER - 0.2681883024251075\n",
      "PmElx9ZVByw_c_03\n",
      "Video DER - 0.7897324777064769\n",
      "Audio DER - 0.2442703558629883\n",
      "Overall DER - 0.33377781481790214\n",
      "a5mEmM6w_ks_c_01\n",
      "Video DER - 0.5820040726285429\n",
      "Audio DER - 0.2834294926183597\n",
      "Overall DER - 0.4601221788562689\n",
      "a5mEmM6w_ks_c_02\n",
      "Video DER - 0.6003660440329439\n",
      "Audio DER - 0.2112289390106052\n",
      "Overall DER - 0.5259729773375684\n",
      "a5mEmM6w_ks_c_03\n",
      "Video DER - 0.6064704526242993\n",
      "Audio DER - 0.27933604856682026\n",
      "Overall DER - 0.3895335433796993\n",
      "kMy-6RtoOVU_c_01\n",
      "Video DER - 0.8759824380725258\n",
      "Audio DER - 0.5881077565179689\n",
      "Overall DER - 0.5890292156756464\n",
      "kMy-6RtoOVU_c_02\n",
      "Video DER - 0.7744694851126832\n",
      "Audio DER - 0.7413225859516388\n",
      "Overall DER - 0.6093107418983398\n",
      "kMy-6RtoOVU_c_03\n",
      "Video DER - 0.7201686703750221\n",
      "Audio DER - 0.7447514803516947\n",
      "Overall DER - 0.49138704467970534\n",
      "qrkff49p4E4_c_01\n",
      "Video DER - 0.8092717029797055\n",
      "Audio DER - 0.2316568248150418\n",
      "Overall DER - 0.32240548428697535\n",
      "qrkff49p4E4_c_02\n",
      "Video DER - 0.856005165733964\n",
      "Audio DER - 0.14047926531783622\n",
      "Overall DER - 0.16731238341225352\n",
      "qrkff49p4E4_c_03\n",
      "Video DER - 0.891989760879066\n",
      "Audio DER - 0.21951676343884596\n",
      "Overall DER - 0.3559343197852275\n",
      "zC5Fh2tTS1U_c_01\n",
      "Video DER - 0.8847923884378719\n",
      "Audio DER - 0.6065463571022275\n",
      "Overall DER - 0.6283675474429901\n",
      "zC5Fh2tTS1U_c_02\n",
      "Video DER - 0.9856886262239981\n",
      "Audio DER - 0.6465032736543247\n",
      "Overall DER - 0.7367750159337149\n",
      "zC5Fh2tTS1U_c_03\n",
      "Video DER - 0.9408910269818027\n",
      "Audio DER - 0.737544446768456\n",
      "Overall DER - 0.7448650909851473\n",
      "zR725veL-DI_c_01\n",
      "Video DER - 0.8101225864155314\n",
      "Audio DER - 0.2835271215867841\n",
      "Overall DER - 0.48413742305466445\n",
      "zR725veL-DI_c_02\n",
      "Video DER - 0.7910884195869105\n",
      "Audio DER - 0.30930610350429333\n",
      "Overall DER - 0.4117428637734975\n",
      "zR725veL-DI_c_03\n",
      "Video DER - 0.738383737232124\n",
      "Audio DER - 0.32049869817744847\n",
      "Overall DER - 0.3763268576006407\n",
      "IzvOYVMltkI_c_01\n",
      "Video DER - 0.7838682917490921\n",
      "Audio DER - 0.33833195073703054\n",
      "Overall DER - 0.4640418607619173\n",
      "IzvOYVMltkI_c_02\n",
      "Video DER - 0.8473246508708611\n",
      "Audio DER - 0.5247136356503993\n",
      "Overall DER - 0.6477849259898527\n",
      "IzvOYVMltkI_c_03\n",
      "Video DER - 0.7778357387121067\n",
      "Audio DER - 0.28852953109603974\n",
      "Overall DER - 0.5931722019358938\n",
      "UrsCy6qIGoo_c_01\n",
      "Video DER - 0.9013935294597019\n",
      "Audio DER - 0.28604025751772527\n",
      "Overall DER - 0.3482193790237156\n",
      "UrsCy6qIGoo_c_02\n",
      "Video DER - 0.9659363505517352\n",
      "Audio DER - 0.5504557812250114\n",
      "Overall DER - 0.5112745881976645\n",
      "UrsCy6qIGoo_c_03\n",
      "Video DER - 0.864542641164831\n",
      "Audio DER - 0.4102277915884525\n",
      "Overall DER - 0.43701486479630663\n",
      "yn9WN9lsHRE_c_01\n",
      "Video DER - 0.8822966507177039\n",
      "Audio DER - 0.4482721956406191\n",
      "Overall DER - 0.6943115364168007\n",
      "yn9WN9lsHRE_c_02\n",
      "Video DER - 0.8499263717267438\n",
      "Audio DER - 0.4954862667264227\n",
      "Overall DER - 0.5650809911005823\n",
      "yn9WN9lsHRE_c_03\n",
      "Video DER - 0.9036052551176293\n",
      "Audio DER - 0.531418678073123\n",
      "Overall DER - 0.5938995824422038\n"
     ]
    }
   ],
   "source": [
    "total_audio_der = 0\n",
    "total_video_der = 0\n",
    "total_combined_der = 0\n",
    "for video_file in VIDEO_FILES:\n",
    "    print(video_file.save_name)\n",
    "    ground_truth_rttm_file = f'../../../AVA-AVD/dataset/rttms/{video_file.save_name}.rttm'\n",
    "    offset=video_file.start\n",
    "    encoding_df = pd.read_pickle(f\"../../output/video_temp/{video_file.save_name}/pywork/encoding_df.pckl\")\n",
    "    audio_path = f\"../../output/video_temp/{video_file.save_name}/pywav/audio.wav\"\n",
    "    \n",
    "#     final_df_cents, track_centroids_df = get_subset(encoding_df)\n",
    "    \n",
    "#     new_classes = perform_clustering(list(track_centroids_df[\"Track_Cluster_Centroid\"]), max_clusters=12)\n",
    "#     track_centroids_df[\"Track_Cluster_Cluster_ID\"] = new_classes\n",
    "    \n",
    "#     final_df_cents = final_df_cents.merge(\n",
    "#         track_centroids_df[[\"Track\", \"Track_Cluster_ID\", \"Track_Cluster_Cluster_ID\"]],\n",
    "#         on=[\"Track\", \"Track_Cluster_ID\"])\n",
    "    \n",
    "#     _temp_df = get_final_cluster_ids(final_df_cents)\n",
    "    \n",
    "#     encoding_df = encoding_df.merge(_temp_df[[\"Track\", \"Final_Cluster\"]].drop_duplicates(), on=\"Track\")\n",
    "\n",
    "    encoding_df[\"Final_Cluster\"] = encoding_df[\"Clusters\"]\n",
    "    \n",
    "    gt_1j20 = convert_rttm_to_diarization(ground_truth_rttm_file, offset)\n",
    "    pyannote_gt = convert_diarization_output_to_pyannote(gt_1j20)\n",
    "    \n",
    "    vdo_1j20 = get_final_tracks(encoding_df, 25)\n",
    "    pyannote_vdo = convert_diarization_output_to_pyannote(vdo_1j20)\n",
    "    \n",
    "    vdo_der = metric(pyannote_gt, pyannote_vdo)    \n",
    "    print(f\"Video DER - {vdo_der}\")\n",
    "    total_video_der += vdo_der\n",
    "    \n",
    "    pyannote_ad03 = perform_pyannote_diarization(pretrained_pipeline, audio_path, min_cluster_size=3)\n",
    "    pyannote_ad06 = perform_pyannote_diarization(pretrained_pipeline, audio_path, min_cluster_size=6)\n",
    "    pyannote_ad09 = perform_pyannote_diarization(pretrained_pipeline, audio_path, min_cluster_size=9)\n",
    "    pyannote_ad12 = perform_pyannote_diarization(pretrained_pipeline, audio_path, min_cluster_size=12)\n",
    "    ad03_1j20 = convert_pyannote_to_diarization(pyannote_ad03)\n",
    "    ad06_1j20 = convert_pyannote_to_diarization(pyannote_ad06)\n",
    "    ad09_1j20 = convert_pyannote_to_diarization(pyannote_ad09)\n",
    "    ad12_1j20 = convert_pyannote_to_diarization(pyannote_ad12)\n",
    "    pyannote_ad03 = convert_diarization_output_to_pyannote(ad03_1j20)\n",
    "    pyannote_ad06 = convert_diarization_output_to_pyannote(ad06_1j20)\n",
    "    pyannote_ad09 = convert_diarization_output_to_pyannote(ad09_1j20)\n",
    "    pyannote_ad12 = convert_diarization_output_to_pyannote(ad12_1j20)\n",
    "    \n",
    "    diarize_output = DiarizationOutput(\n",
    "        audio_diarization_03=ad03_1j20,\n",
    "        audio_diarization_06=ad06_1j20,\n",
    "        audio_diarization_09=ad09_1j20,\n",
    "        audio_diarization_12=ad12_1j20,\n",
    "        video_diarization=vdo_1j20,\n",
    "    )\n",
    "\n",
    "\n",
    "    final_diarization_output = diarize_output.get_diarization_output()\n",
    "    \n",
    "    pyannote_combined = convert_diarization_output_to_pyannote(final_diarization_output)\n",
    "    \n",
    "    audio_der = metric(pyannote_gt, pyannote_ad12)\n",
    "    print(f\"Audio DER - {audio_der}\")\n",
    "    total_audio_der += audio_der\n",
    "    \n",
    "    combined_der = metric(pyannote_gt, pyannote_combined)\n",
    "    print(f\"Overall DER - {combined_der}\")\n",
    "    total_combined_der += combined_der"
   ]
  },
  {
   "cell_type": "code",
   "execution_count": 9,
   "id": "ea41b708",
   "metadata": {},
   "outputs": [
    {
     "data": {
      "text/plain": [
       "0.5056561410342156"
      ]
     },
     "execution_count": 9,
     "metadata": {},
     "output_type": "execute_result"
    }
   ],
   "source": [
    "avg_audio_der = total_audio_der/len(VIDEO_FILES)\n",
    "avg_audio_der"
   ]
  },
  {
   "cell_type": "code",
   "execution_count": 10,
   "id": "89b86c94",
   "metadata": {},
   "outputs": [
    {
     "data": {
      "text/plain": [
       "0.8230396123894635"
      ]
     },
     "execution_count": 10,
     "metadata": {},
     "output_type": "execute_result"
    }
   ],
   "source": [
    "avg_video_der = total_video_der/len(VIDEO_FILES)\n",
    "avg_video_der"
   ]
  },
  {
   "cell_type": "code",
   "execution_count": 11,
   "id": "75f961ce",
   "metadata": {},
   "outputs": [
    {
     "data": {
      "text/plain": [
       "0.8230396123894635"
      ]
     },
     "execution_count": 11,
     "metadata": {},
     "output_type": "execute_result"
    }
   ],
   "source": [
    "avg_combined_der = total_video_der/len(VIDEO_FILES)\n",
    "avg_combined_der"
   ]
  },
  {
   "cell_type": "code",
   "execution_count": 12,
   "id": "50cb99cd",
   "metadata": {},
   "outputs": [
    {
     "data": {
      "text/plain": [
       "'2024-04-04 10:11:10'"
      ]
     },
     "execution_count": 12,
     "metadata": {},
     "output_type": "execute_result"
    }
   ],
   "source": [
    "datetime.now().strftime(\"%Y-%m-%d %H:%M:%S\")"
   ]
  }
 ],
 "metadata": {
  "kernelspec": {
   "display_name": "Python 3 (ipykernel)",
   "language": "python",
   "name": "python3"
  },
  "language_info": {
   "codemirror_mode": {
    "name": "ipython",
    "version": 3
   },
   "file_extension": ".py",
   "mimetype": "text/x-python",
   "name": "python",
   "nbconvert_exporter": "python",
   "pygments_lexer": "ipython3",
   "version": "3.8.0"
  }
 },
 "nbformat": 4,
 "nbformat_minor": 5
}
