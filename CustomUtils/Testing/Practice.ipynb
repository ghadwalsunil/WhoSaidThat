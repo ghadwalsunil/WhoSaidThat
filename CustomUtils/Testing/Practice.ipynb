{
 "cells": [
  {
   "cell_type": "code",
   "execution_count": 1,
   "id": "e54cba2d",
   "metadata": {
    "collapsed": true
   },
   "outputs": [
    {
     "name": "stdout",
     "output_type": "stream",
     "text": [
      "Requirement already satisfied: matplotlib in ./venv/lib/python3.8/site-packages (3.7.3)\n",
      "Requirement already satisfied: contourpy>=1.0.1 in ./venv/lib/python3.8/site-packages (from matplotlib) (1.1.1)\n",
      "Requirement already satisfied: cycler>=0.10 in ./venv/lib/python3.8/site-packages (from matplotlib) (0.12.1)\n",
      "Requirement already satisfied: fonttools>=4.22.0 in ./venv/lib/python3.8/site-packages (from matplotlib) (4.44.0)\n",
      "Requirement already satisfied: kiwisolver>=1.0.1 in ./venv/lib/python3.8/site-packages (from matplotlib) (1.4.5)\n",
      "Requirement already satisfied: numpy<2,>=1.20 in ./venv/lib/python3.8/site-packages (from matplotlib) (1.24.4)\n",
      "Requirement already satisfied: packaging>=20.0 in ./venv/lib/python3.8/site-packages (from matplotlib) (23.2)\n",
      "Requirement already satisfied: pillow>=6.2.0 in ./venv/lib/python3.8/site-packages (from matplotlib) (10.1.0)\n",
      "Requirement already satisfied: pyparsing>=2.3.1 in ./venv/lib/python3.8/site-packages (from matplotlib) (3.1.1)\n",
      "Requirement already satisfied: python-dateutil>=2.7 in ./venv/lib/python3.8/site-packages (from matplotlib) (2.8.2)\n",
      "Requirement already satisfied: importlib-resources>=3.2.0 in ./venv/lib/python3.8/site-packages (from matplotlib) (6.1.1)\n",
      "Requirement already satisfied: zipp>=3.1.0 in ./venv/lib/python3.8/site-packages (from importlib-resources>=3.2.0->matplotlib) (3.17.0)\n",
      "Requirement already satisfied: six>=1.5 in ./venv/lib/python3.8/site-packages (from python-dateutil>=2.7->matplotlib) (1.16.0)\n",
      "Note: you may need to restart the kernel to use updated packages.\n"
     ]
    }
   ],
   "source": [
    "pip install matplotlib"
   ]
  },
  {
   "cell_type": "code",
   "execution_count": 3,
   "id": "68f8a5cd",
   "metadata": {
    "collapsed": true
   },
   "outputs": [
    {
     "name": "stdout",
     "output_type": "stream",
     "text": [
      "Collecting seaborn\n",
      "  Downloading seaborn-0.13.0-py3-none-any.whl.metadata (5.3 kB)\n",
      "Requirement already satisfied: numpy!=1.24.0,>=1.20 in ./venv/lib/python3.8/site-packages (from seaborn) (1.24.4)\n",
      "Requirement already satisfied: pandas>=1.2 in ./venv/lib/python3.8/site-packages (from seaborn) (2.0.3)\n",
      "Requirement already satisfied: matplotlib!=3.6.1,>=3.3 in ./venv/lib/python3.8/site-packages (from seaborn) (3.7.3)\n",
      "Requirement already satisfied: contourpy>=1.0.1 in ./venv/lib/python3.8/site-packages (from matplotlib!=3.6.1,>=3.3->seaborn) (1.1.1)\n",
      "Requirement already satisfied: cycler>=0.10 in ./venv/lib/python3.8/site-packages (from matplotlib!=3.6.1,>=3.3->seaborn) (0.12.1)\n",
      "Requirement already satisfied: fonttools>=4.22.0 in ./venv/lib/python3.8/site-packages (from matplotlib!=3.6.1,>=3.3->seaborn) (4.44.0)\n",
      "Requirement already satisfied: kiwisolver>=1.0.1 in ./venv/lib/python3.8/site-packages (from matplotlib!=3.6.1,>=3.3->seaborn) (1.4.5)\n",
      "Requirement already satisfied: packaging>=20.0 in ./venv/lib/python3.8/site-packages (from matplotlib!=3.6.1,>=3.3->seaborn) (23.2)\n",
      "Requirement already satisfied: pillow>=6.2.0 in ./venv/lib/python3.8/site-packages (from matplotlib!=3.6.1,>=3.3->seaborn) (10.1.0)\n",
      "Requirement already satisfied: pyparsing>=2.3.1 in ./venv/lib/python3.8/site-packages (from matplotlib!=3.6.1,>=3.3->seaborn) (3.1.1)\n",
      "Requirement already satisfied: python-dateutil>=2.7 in ./venv/lib/python3.8/site-packages (from matplotlib!=3.6.1,>=3.3->seaborn) (2.8.2)\n",
      "Requirement already satisfied: importlib-resources>=3.2.0 in ./venv/lib/python3.8/site-packages (from matplotlib!=3.6.1,>=3.3->seaborn) (6.1.1)\n",
      "Requirement already satisfied: pytz>=2020.1 in ./venv/lib/python3.8/site-packages (from pandas>=1.2->seaborn) (2023.3.post1)\n",
      "Requirement already satisfied: tzdata>=2022.1 in ./venv/lib/python3.8/site-packages (from pandas>=1.2->seaborn) (2023.3)\n",
      "Requirement already satisfied: zipp>=3.1.0 in ./venv/lib/python3.8/site-packages (from importlib-resources>=3.2.0->matplotlib!=3.6.1,>=3.3->seaborn) (3.17.0)\n",
      "Requirement already satisfied: six>=1.5 in ./venv/lib/python3.8/site-packages (from python-dateutil>=2.7->matplotlib!=3.6.1,>=3.3->seaborn) (1.16.0)\n",
      "Downloading seaborn-0.13.0-py3-none-any.whl (294 kB)\n",
      "\u001b[2K   \u001b[38;2;114;156;31m━━━━━━━━━━━━━━━━━━━━━━━━━━━━━━━━━━━━━━━━\u001b[0m \u001b[32m294.6/294.6 kB\u001b[0m \u001b[31m5.0 MB/s\u001b[0m eta \u001b[36m0:00:00\u001b[0m[31m5.5 MB/s\u001b[0m eta \u001b[36m0:00:01\u001b[0m\n",
      "\u001b[?25hInstalling collected packages: seaborn\n",
      "Successfully installed seaborn-0.13.0\n",
      "Note: you may need to restart the kernel to use updated packages.\n"
     ]
    }
   ],
   "source": [
    "pip install seaborn"
   ]
  },
  {
   "cell_type": "code",
   "execution_count": 1,
   "id": "2f801f60",
   "metadata": {},
   "outputs": [],
   "source": [
    "import os"
   ]
  },
  {
   "cell_type": "code",
   "execution_count": 4,
   "id": "68555ccb",
   "metadata": {},
   "outputs": [],
   "source": [
    "filepath = \"../../../AVA-AVD/dataset_ava/videos/20TAGRElvfE.mp4\""
   ]
  },
  {
   "cell_type": "code",
   "execution_count": 5,
   "id": "60154460",
   "metadata": {},
   "outputs": [
    {
     "data": {
      "text/plain": [
       "False"
      ]
     },
     "execution_count": 5,
     "metadata": {},
     "output_type": "execute_result"
    }
   ],
   "source": [
    "os.path.isfile(filepath)"
   ]
  },
  {
   "cell_type": "code",
   "execution_count": 2,
   "id": "c322040b",
   "metadata": {},
   "outputs": [
    {
     "data": {
      "image/png": "[encoded data removed]",
      "text/plain": [
       "<Figure size 640x480 with 1 Axes>"
      ]
     },
     "metadata": {},
     "output_type": "display_data"
    }
   ],
   "source": [
    "import matplotlib.pyplot as plt\n",
    "\n",
    "def plot_timeline(intervals, label):\n",
    "    for start, end in intervals:\n",
    "        plt.plot([start, end], [label, label], color='blue', linewidth=10)\n",
    "\n",
    "# Intervals\n",
    "intervals1 = [(1.2, 2.6), (3.8, 5.9), (7.9, 11.2)]\n",
    "intervals2 = [(2.8, 4.6), (6.0, 7.2)]\n",
    "\n",
    "# Plot timelines\n",
    "plot_timeline(intervals1, 1)\n",
    "plot_timeline(intervals2, 2)\n",
    "\n",
    "# Customize the plot\n",
    "plt.xlabel('Time')\n",
    "plt.yticks([1, 2], ['Intervals 1', 'Intervals 2'])\n",
    "plt.title('Timeline Plot')\n",
    "plt.grid(axis='y', linestyle='--', alpha=0.7)\n",
    "\n",
    "# Show the plot\n",
    "plt.show()"
   ]
  },
  {
   "cell_type": "code",
   "execution_count": 5,
   "id": "056016f4",
   "metadata": {},
   "outputs": [
    {
     "data": {
      "image/png": "[encoded data removed]",
      "text/plain": [
       "<Figure size 1000x400 with 1 Axes>"
      ]
     },
     "metadata": {},
     "output_type": "display_data"
    }
   ],
   "source": [
    "import seaborn as sns\n",
    "import matplotlib.pyplot as plt\n",
    "\n",
    "def plot_timeline(intervals, label):\n",
    "    for start, end in intervals:\n",
    "        plt.hlines(label, start, end, linewidth=10)\n",
    "\n",
    "# Intervals\n",
    "intervals1 = [(1.2, 2.6), (3.8, 5.9), (7.9, 11.2)]\n",
    "intervals2 = [(2.8, 4.6), (6.0, 7.2)]\n",
    "\n",
    "# Create a Seaborn plot\n",
    "sns.set(style='whitegrid')\n",
    "plt.figure(figsize=(10, 4))\n",
    "\n",
    "# Plot timelines\n",
    "plot_timeline(intervals1, 1)\n",
    "plot_timeline(intervals2, 2)\n",
    "\n",
    "# Customize the plot\n",
    "plt.xlabel('Time')\n",
    "plt.yticks([1, 2], ['Intervals 1', 'Intervals 2'])\n",
    "plt.title('Timeline Plot')\n",
    "\n",
    "# Show the plot\n",
    "plt.show()\n"
   ]
  },
  {
   "cell_type": "code",
   "execution_count": 7,
   "id": "76e9116e",
   "metadata": {},
   "outputs": [
    {
     "data": {
      "image/png": "[encoded data removed]",
      "text/plain": [
       "<Figure size 1200x400 with 1 Axes>"
      ]
     },
     "metadata": {},
     "output_type": "display_data"
    }
   ],
   "source": [
    "import matplotlib.pyplot as plt\n",
    "import numpy as np\n",
    "\n",
    "def plot_diarization(intervals, labels):\n",
    "    cmap = plt.get_cmap('tab10')  # Choose a colormap, e.g., 'tab10'\n",
    "    unique_labels = set(labels)\n",
    "    label_to_color = {label: cmap(i) for i, label in enumerate(unique_labels)}\n",
    "\n",
    "    for (start, end), label in zip(intervals, labels):\n",
    "        plt.hlines(label, start, end, color=label_to_color[label], linewidth=10)\n",
    "\n",
    "# Intervals and corresponding labels\n",
    "intervals = [(1.2, 2.6), (3.8, 5.9), (7.9, 11.2), (12.5, 15.0), (16.2, 18.5)]\n",
    "labels = ['speaker1', 'speaker2', 'speaker1', 'speaker3', 'speaker2']\n",
    "\n",
    "# Create a colorful diarization plot\n",
    "plt.figure(figsize=(12, 4))\n",
    "\n",
    "# Plot diarization\n",
    "plot_diarization(intervals, labels)\n",
    "\n",
    "# Customize the plot\n",
    "plt.xlabel('Time')\n",
    "plt.yticks(range(len(set(labels))), set(labels))\n",
    "plt.title('Diarization Plot')\n",
    "\n",
    "# Show the plot\n",
    "plt.show()\n"
   ]
  },
  {
   "cell_type": "code",
   "execution_count": 6,
   "id": "4e77c8ad",
   "metadata": {},
   "outputs": [
    {
     "data": {
      "image/png": "[encoded data removed]",
      "text/plain": [
       "<Figure size 1000x200 with 1 Axes>"
      ]
     },
     "metadata": {},
     "output_type": "display_data"
    }
   ],
   "source": [
    "from pyannote.core import Segment, Annotation\n",
    "from pyannote.core import notebook\n",
    "import matplotlib.pyplot as plt\n",
    "\n",
    "# Create a custom diarization result\n",
    "custom_diarization = Annotation()\n",
    "custom_diarization[Segment(1.2, 2.6)] = 'speaker1'\n",
    "custom_diarization[Segment(3.8, 5.9)] = 'speaker2'\n",
    "custom_diarization[Segment(5.8, 11.2)] = 'speaker1'\n",
    "custom_diarization[Segment(12.5, 15.0)] = 'speaker3'\n",
    "custom_diarization[Segment(16.2, 18.5)] = 'speaker2'\n",
    "\n",
    "# Create a figure\n",
    "fig, ax = plt.subplots(figsize=(10, 2))\n",
    "\n",
    "# Plot the custom diarization result\n",
    "notebook.plot_annotation(custom_diarization, ax, legend=True)\n",
    "\n",
    "# Customize the plot (if needed)\n",
    "ax.set_xlabel('Time')\n",
    "ax.set_yticks([])  # To hide the y-axis\n",
    "\n",
    "# Save the figure\n",
    "fig.savefig('custom_diarization_plot.png', bbox_inches='tight')\n",
    "\n",
    "# Show the figure (optional)\n",
    "plt.show()"
   ]
  },
  {
   "cell_type": "code",
   "execution_count": 1,
   "id": "7e3a86a9",
   "metadata": {},
   "outputs": [],
   "source": [
    "import json\n",
    "with open('output.json', 'r') as json_file:\n",
    "    loaded_list = json.load(json_file)"
   ]
  },
  {
   "cell_type": "code",
   "execution_count": 2,
   "id": "28e67c87",
   "metadata": {},
   "outputs": [
    {
     "data": {
      "text/plain": [
       "[{'track': 0,\n",
       "  'score': -1.0666666825612385,\n",
       "  's': 72.29749870300293,\n",
       "  'x': 106.30376434326172,\n",
       "  'y': 88.0403003692627},\n",
       " {'track': 1,\n",
       "  'score': 2.3999999364217124,\n",
       "  's': 68.65208148956299,\n",
       "  'x': 510.92138671875,\n",
       "  'y': 60.32396221160889},\n",
       " {'track': 2,\n",
       "  'score': -1.2000000476837158,\n",
       "  's': 40.90107727050781,\n",
       "  'x': 299.64306640625,\n",
       "  'y': 30.711134910583496}]"
      ]
     },
     "execution_count": 2,
     "metadata": {},
     "output_type": "execute_result"
    }
   ],
   "source": [
    "loaded_list[0]"
   ]
  },
  {
   "cell_type": "code",
   "execution_count": 15,
   "id": "23f1926a",
   "metadata": {},
   "outputs": [],
   "source": [
    "def convert_to_ranges(lst):\n",
    "    ranges = []\n",
    "    start = lst[0]\n",
    "    \n",
    "    for i in range(1, len(lst)):\n",
    "        if lst[i] - lst[i-1] > 0.08:\n",
    "            ranges.append((start, lst[i-1]))\n",
    "            start = lst[i]\n",
    "\n",
    "    # Add the last range\n",
    "    ranges.append((start, lst[-1]))\n",
    "\n",
    "    return ranges"
   ]
  },
  {
   "cell_type": "code",
   "execution_count": 16,
   "id": "83b02c08",
   "metadata": {},
   "outputs": [],
   "source": [
    "tracks = {}\n",
    "for count, item in enumerate(loaded_list):\n",
    "    for track in item:\n",
    "        if track[\"score\"] > 0:\n",
    "            if track[\"track\"] in tracks.keys():\n",
    "                tracks[track[\"track\"]].append(count/25)\n",
    "            else:\n",
    "                tracks[track[\"track\"]] = [count/25]\n",
    "\n",
    "for key in tracks.keys():\n",
    "    tracks[key] = convert_to_ranges(tracks[key])"
   ]
  },
  {
   "cell_type": "code",
   "execution_count": 17,
   "id": "7fc817f6",
   "metadata": {},
   "outputs": [
    {
     "data": {
      "text/plain": [
       "{1: [(0.0, 17.88)], 6: [(17.04, 17.76)], 2: [(18.84, 19.68), (19.76, 19.96)]}"
      ]
     },
     "execution_count": 17,
     "metadata": {},
     "output_type": "execute_result"
    }
   ],
   "source": [
    "tracks"
   ]
  },
  {
   "cell_type": "code",
   "execution_count": 5,
   "id": "3acdf798",
   "metadata": {},
   "outputs": [],
   "source": []
  },
  {
   "cell_type": "code",
   "execution_count": 7,
   "id": "78cd9db3",
   "metadata": {},
   "outputs": [
    {
     "data": {
      "text/plain": [
       "[(0.0, 17.88)]"
      ]
     },
     "execution_count": 7,
     "metadata": {},
     "output_type": "execute_result"
    }
   ],
   "source": [
    "convert_to_ranges(tracks[1])"
   ]
  },
  {
   "cell_type": "code",
   "execution_count": 6,
   "id": "b8dc3da4",
   "metadata": {},
   "outputs": [],
   "source": [
    "import numpy as np\n",
    "import pickle"
   ]
  },
  {
   "cell_type": "code",
   "execution_count": 3,
   "id": "c7ca41ed",
   "metadata": {},
   "outputs": [],
   "source": [
    "item1 = {1: [np.array([1.2, 2.4, 1.2])], 2: [np.array([1.2, 2.4, 1.2])]}\n",
    "item2 = [np.array([1.2, 2.4, 1.2]), np.array([1.2, 2.4, 1.2])]"
   ]
  },
  {
   "cell_type": "code",
   "execution_count": 5,
   "id": "3da114b9",
   "metadata": {},
   "outputs": [
    {
     "data": {
      "text/plain": [
       "[array([1.2, 2.4, 1.2]), array([1.2, 2.4, 1.2])]"
      ]
     },
     "execution_count": 5,
     "metadata": {},
     "output_type": "execute_result"
    }
   ],
   "source": [
    "item2"
   ]
  },
  {
   "cell_type": "code",
   "execution_count": 7,
   "id": "d6ec61b4",
   "metadata": {},
   "outputs": [],
   "source": [
    "with open('data1.pkl', 'wb') as pickle_file:\n",
    "    pickle.dump(item1, pickle_file)\n",
    "with open('data2.pkl', 'wb') as pickle_file:\n",
    "    pickle.dump(item2, pickle_file)"
   ]
  },
  {
   "cell_type": "code",
   "execution_count": 8,
   "id": "bf58edc7",
   "metadata": {},
   "outputs": [],
   "source": [
    "with open('data1.pkl', 'rb') as pickle_file:\n",
    "    item1 = pickle.load(pickle_file)\n",
    "with open('data2.pkl', 'rb') as pickle_file:\n",
    "    item2 = pickle.load(pickle_file)"
   ]
  },
  {
   "cell_type": "code",
   "execution_count": 6,
   "id": "cc30e697",
   "metadata": {},
   "outputs": [],
   "source": [
    "import pickle\n",
    "with open('TalkNet-ASD/Videos/001/pywork/scores.pckl', 'rb') as pickle_file:\n",
    "    item2 = pickle.load(pickle_file)"
   ]
  },
  {
   "cell_type": "code",
   "execution_count": 14,
   "id": "f0b5238c",
   "metadata": {},
   "outputs": [
    {
     "name": "stdout",
     "output_type": "stream",
     "text": [
      "0\n",
      "(492,)\n",
      "492\n",
      "-1.100000023841858\n",
      "-1.2999999523162842\n",
      "1\n",
      "(499,)\n",
      "499\n",
      "1.399999976158142\n",
      "-1.899999976158142\n",
      "2\n",
      "(499,)\n",
      "499\n",
      "-1.2000000476837158\n",
      "0.30000001192092896\n",
      "3\n",
      "(15,)\n",
      "15\n",
      "-1.399999976158142\n",
      "-1.100000023841858\n",
      "4\n",
      "(100,)\n",
      "100\n",
      "-0.5\n",
      "-0.699999988079071\n",
      "5\n",
      "(36,)\n",
      "36\n",
      "-0.800000011920929\n",
      "-1.2000000476837158\n",
      "6\n",
      "(28,)\n",
      "28\n",
      "0.4000000059604645\n",
      "-0.6000000238418579\n"
     ]
    }
   ],
   "source": [
    "for num, item in enumerate(item1):\n",
    "    print(num)\n",
    "    print(item.shape)\n",
    "    print(item.size)\n",
    "    print(item[0])\n",
    "    print(item[-1])"
   ]
  },
  {
   "cell_type": "code",
   "execution_count": 15,
   "id": "0cb9b748",
   "metadata": {},
   "outputs": [
    {
     "name": "stdout",
     "output_type": "stream",
     "text": [
      "0\n",
      "(492,)\n",
      "492\n",
      "-1.100000023841858\n",
      "-1.2999999523162842\n",
      "1\n",
      "(499,)\n",
      "499\n",
      "1.399999976158142\n",
      "-1.899999976158142\n",
      "2\n",
      "(499,)\n",
      "499\n",
      "-1.2000000476837158\n",
      "0.30000001192092896\n",
      "3\n",
      "(15,)\n",
      "15\n",
      "-1.399999976158142\n",
      "-1.100000023841858\n",
      "4\n",
      "(100,)\n",
      "100\n",
      "-0.5\n",
      "-0.699999988079071\n",
      "5\n",
      "(36,)\n",
      "36\n",
      "-0.800000011920929\n",
      "-1.2000000476837158\n",
      "6\n",
      "(28,)\n",
      "28\n",
      "0.4000000059604645\n",
      "-0.6000000238418579\n"
     ]
    }
   ],
   "source": [
    "for num, item in enumerate(item2):\n",
    "    print(num)\n",
    "    print(item.shape)\n",
    "    print(item.size)\n",
    "    print(item[0])\n",
    "    print(item[-1])"
   ]
  },
  {
   "cell_type": "code",
   "execution_count": 2,
   "id": "c9e134b5",
   "metadata": {},
   "outputs": [],
   "source": [
    "def create_webvtt_file(sentences, sentence_timestamps, word_timestamps):\n",
    "    webvtt_content = \"WEBVTT\\n\\n\"\n",
    "\n",
    "    for i, sentence in enumerate(sentences):\n",
    "        webvtt_content += f\"{i+1}\\n\"\n",
    "        webvtt_content += f\"{sentence_timestamps[i]} --> {sentence_timestamps[i+1]}\\n\"\n",
    "        webvtt_content += f\"{sentence}\\n\\n\"\n",
    "\n",
    "        for word in sentence.split():\n",
    "            webvtt_content += f\"<v {word_timestamps[word]}>{word}</v> \"\n",
    "\n",
    "        webvtt_content += \"\\n\\n\"\n",
    "\n",
    "    with open(\"../../Clips/Set 2/zzz.vtt\", \"w\") as file:\n",
    "        file.write(webvtt_content)"
   ]
  },
  {
   "cell_type": "code",
   "execution_count": null,
   "id": "b5c8c58d",
   "metadata": {},
   "outputs": [],
   "source": [
    "# Example usage\n",
    "sentences = [\"Hello world!\", \"This is a test sentence.\"]\n",
    "sentence_timestamps = [\"00:00:00.000\", \"00:00:02.500\", \"00:00:03.500\"]\n",
    "word_timestamps = {\n",
    "    \"Hello\": \"00:00:00.000 --> 00:00:01.000\",\n",
    "    \"world!\": \"00:00:01.000 --> 00:00:02.500\",\n",
    "    \"This\": \"00:00:02.500 --> 00:00:03.000\",\n",
    "    \"is\": \"00:00:03.000 --> 00:00:03.500\",\n",
    "    \"a\": \"00:00:03.500 --> 00:00:04.000\",\n",
    "    \"test\": \"00:00:04.000 --> 00:00:04.500\",\n",
    "    \"sentence.\": \"00:00:04.500 --> 00:00:05.000\"\n",
    "}\n",
    "\n",
    "def create_vtt(sentences, sentence_timestamps, word_timestamps):\n",
    "    vtt = \"WEBVTT\\n\\n\"\n",
    "    for i, sentence in enumerate(sentences):\n",
    "        vtt += f\"{i+1}\\n{sentence_timestamps[i]}\\n\"\n",
    "        words = sentence.split()\n",
    "        for word in words:\n",
    "            vtt += f\"{word_timestamps[word]}\\n{word}\\n\"\n",
    "        vtt += \"\\n\"\n",
    "\n",
    "    with open(\"../../Clips/Set 2/zzz.vtt\", \"w\") as f:\n",
    "        f.write(vtt)\n",
    "    return vtt\n"
   ]
  },
  {
   "cell_type": "code",
   "execution_count": 3,
   "id": "b1f0ddb5",
   "metadata": {},
   "outputs": [],
   "source": [
    "# Example usage\n",
    "sentences = [\"Hello world!\", \"This is a test sentence.\"]\n",
    "sentence_timestamps = [\"00:00:00.000\", \"00:00:02.500\", \"00:00:03.500\"]\n",
    "word_timestamps = {\n",
    "    \"Hello\": \"00:00:00.000 --> 00:00:01.000\",\n",
    "    \"world!\": \"00:00:01.000 --> 00:00:02.500\",\n",
    "    \"This\": \"00:00:02.500 --> 00:00:03.000\",\n",
    "    \"is\": \"00:00:03.000 --> 00:00:03.500\",\n",
    "    \"a\": \"00:00:03.500 --> 00:00:04.000\",\n",
    "    \"test\": \"00:00:04.000 --> 00:00:04.500\",\n",
    "    \"sentence.\": \"00:00:04.500 --> 00:00:05.000\"\n",
    "}\n",
    "\n",
    "create_webvtt_file(sentences, sentence_timestamps, word_timestamps)\n"
   ]
  },
  {
   "cell_type": "code",
   "execution_count": 11,
   "id": "32561a72",
   "metadata": {},
   "outputs": [],
   "source": [
    "import pickle\n",
    "import pandas as pd"
   ]
  },
  {
   "cell_type": "code",
   "execution_count": 70,
   "id": "6ddab342",
   "metadata": {},
   "outputs": [
    {
     "data": {
      "text/plain": [
       "Frame                                                      12\n",
       "Track                                                       1\n",
       "Score                                                    0.02\n",
       "S                                                   66.492874\n",
       "X                                                   69.461155\n",
       "Y                                                   294.38286\n",
       "Encoding    [-0.05850093811750412, 0.07135837525129318, 0....\n",
       "Name: 0, dtype: object"
      ]
     },
     "execution_count": 70,
     "metadata": {},
     "output_type": "execute_result"
    }
   ],
   "source": [
    "temp3 = pickle.load(open(\n",
    "    \"/home/sunil/projects/Stuff/Combined/WhoSaidThat/output/video_temp/zzz_PiersMorgan_1_165_368/pywork/encoding_df.pckl\",\n",
    "    \"rb\"))\n",
    "temp3.iloc[0]"
   ]
  },
  {
   "cell_type": "code",
   "execution_count": 73,
   "id": "852af493",
   "metadata": {},
   "outputs": [
    {
     "data": {
      "text/plain": [
       "{'track': {'frame': array([ 0,  1,  2,  3,  4,  5,  6,  7,  8,  9, 10, 11, 12, 13, 14, 15, 16,\n",
       "         17, 18, 19, 20]),\n",
       "  'bbox': array([[ 46.26395416, 224.18106079, 131.21705627, 355.93267822],\n",
       "         [ 46.30734253, 224.41471863, 131.29312134, 356.23800659],\n",
       "         [ 46.25149155, 224.49363708, 131.28684998, 356.25268555],\n",
       "         [ 45.03621674, 224.52853394, 130.24519348, 357.13500977],\n",
       "         [ 44.31567192, 224.40300751, 129.18073273, 356.35063171],\n",
       "         [ 43.59512711, 224.27748108, 128.11627197, 355.56625366],\n",
       "         [ 41.66931763, 225.1098999 , 126.00452271, 356.96433105],\n",
       "         [ 39.74350815, 225.94231873, 123.89277344, 358.36240845],\n",
       "         [ 37.81769867, 226.77473755, 121.78102417, 359.76048584],\n",
       "         [ 35.89188919, 227.60715637, 119.6692749 , 361.15856323],\n",
       "         [ 33.96607971, 228.4395752 , 117.55752563, 362.55664062],\n",
       "         [ 30.95322037, 228.33784485, 114.5810318 , 361.96264648],\n",
       "         [ 27.93596649, 228.74700928, 110.98634338, 362.47808838],\n",
       "         [ 22.7851963 , 229.75698853, 105.88528442, 363.30474854],\n",
       "         [ 16.50926208, 230.42649841,  99.8164978 , 363.36532593],\n",
       "         [ 13.45895767, 228.98620605,  94.60292816, 359.26351929],\n",
       "         [  9.3285799 , 227.59083557,  90.4801178 , 357.4039917 ],\n",
       "         [  6.47589684, 227.48704529,  88.01896667, 357.6472168 ],\n",
       "         [  0.66497803, 230.32504272,  87.18630981, 363.42687988],\n",
       "         [ -3.15365314, 230.62780762,  83.95774841, 362.7116394 ],\n",
       "         [ -3.96594048, 229.76161194,  80.82495117, 361.93835449]])},\n",
       " 'proc_track': {'x': array([83.83692017, 83.83692017, 83.83692017, 83.83692017, 83.83692017,\n",
       "         83.83692017, 83.83692017, 81.81814079, 79.79936142, 77.78058205,\n",
       "         75.76180267, 72.76712608, 69.46115494, 64.33524036, 58.16287994,\n",
       "         54.03094292, 49.90434885, 47.24743176, 43.92564392, 40.40204763,\n",
       "         38.42950535]),\n",
       "  'y': array([289.92186737, 290.05686951, 290.32636261, 290.37316132,\n",
       "         290.37681961, 290.83177185, 291.03711548, 292.15236359,\n",
       "         293.26761169, 294.12486267, 294.12486267, 294.12486267,\n",
       "         294.3828598 , 295.15024567, 295.49810791, 295.49810791,\n",
       "         295.49810791, 295.15024567, 294.12486267, 292.56713104,\n",
       "         292.49741364]),\n",
       "  's': array([65.64438629, 65.87580872, 65.87952423, 65.91164398, 65.92721558,\n",
       "         65.9738121 , 66.21004486, 66.30323792, 66.46941376, 66.46941376,\n",
       "         66.46941376, 66.46941376, 66.49287415, 66.49287415, 66.49287415,\n",
       "         66.46941376, 66.08837128, 66.04191589, 65.13865662, 65.08008575,\n",
       "         64.90657806])}}"
      ]
     },
     "execution_count": 73,
     "metadata": {},
     "output_type": "execute_result"
    }
   ],
   "source": [
    "temp = pickle.load(open(\n",
    "    \"/home/sunil/projects/Stuff/Combined/WhoSaidThat/output/video_temp/zzz_PiersMorgan_1_165_368/pywork/tracks.pckl\",\n",
    "    \"rb\"))\n",
    "temp[1]"
   ]
  },
  {
   "cell_type": "code",
   "execution_count": 30,
   "id": "59adf735",
   "metadata": {},
   "outputs": [
    {
     "data": {
      "text/plain": [
       "array([-2.0999999 , -1.89999998, -1.70000005, -1.5       , -1.70000005,\n",
       "       -1.79999995, -2.        , -2.29999995, -2.4000001 , -2.4000001 ,\n",
       "       -2.4000001 , -2.70000005, -2.9000001 , -3.20000005, -3.29999995,\n",
       "       -3.4000001 , -3.4000001 , -3.4000001 , -3.4000001 , -3.29999995,\n",
       "       -3.29999995, -3.4000001 , -3.5       , -3.4000001 , -3.0999999 ,\n",
       "       -2.79999995, -2.5999999 , -2.70000005, -2.70000005, -2.70000005,\n",
       "       -2.5999999 , -2.5999999 , -2.4000001 , -2.29999995, -2.20000005])"
      ]
     },
     "execution_count": 30,
     "metadata": {},
     "output_type": "execute_result"
    }
   ],
   "source": [
    "temp2 = pickle.load(open(\n",
    "    \"/home/sunil/projects/Stuff/Combined/WhoSaidThat/output/video_temp/zzz_PiersMorgan_1_165_368/pywork/scores.pckl\",\n",
    "    \"rb\"))\n",
    "temp2[0]"
   ]
  },
  {
   "cell_type": "code",
   "execution_count": 27,
   "id": "14ed685a",
   "metadata": {},
   "outputs": [
    {
     "data": {
      "text/plain": [
       "False"
      ]
     },
     "execution_count": 27,
     "metadata": {},
     "output_type": "execute_result"
    }
   ],
   "source": [
    "not any(temp2[1] > 0)"
   ]
  },
  {
   "cell_type": "code",
   "execution_count": 66,
   "id": "d4f7a870",
   "metadata": {},
   "outputs": [],
   "source": [
    "def mark_frames(df, min_track_frames = 10, marked_percent= 0.1):\n",
    "    marked_frames = []\n",
    "    track_ids = []\n",
    "\n",
    "    for track_id, group in df.groupby('track_id'):\n",
    "        n_frames = len(group)\n",
    "        n_marked = max(1, min(int(marked_percent * n_frames), n_frames))\n",
    "\n",
    "        if n_frames <= min_track_frames:\n",
    "            marked_frames.extend([group[\"track_frame\"].iloc[n_frames // 2]])\n",
    "            track_ids.extend([track_id])\n",
    "        else:\n",
    "            indices = np.linspace(0, n_frames - 1, num=n_marked, dtype=int)\n",
    "            marked_frames.extend(list(group[\"track_frame\"].iloc[indices]))\n",
    "            track_ids.extend([track_id] * len(indices))\n",
    "\n",
    "    marked_df = pd.DataFrame(marked_frames, columns=[\"track_frame\"])\n",
    "    marked_df[\"track_id\"] = track_ids\n",
    "    marked_df['marked'] = True\n",
    "    df = df.merge(marked_df[['track_id', 'track_frame', 'marked']], on=['track_id', 'track_frame'], how='left')\n",
    "    df['marked'].fillna(False, inplace=True)\n",
    "\n",
    "    return df\n",
    "\n",
    "final_df_list = []\n",
    "for tidx, track in enumerate(temp):\n",
    "    if not any(temp2[tidx] > 0):\n",
    "        continue\n",
    "    temp_df = pd.DataFrame([tidx] * len(track[\"track\"][\"frame\"]), columns=[\"track_id\"])\n",
    "    for track_key, track_item in track.items():\n",
    "        for track_item_key, track_item_item in track_item.items():\n",
    "            temp_df[track_key + \"_\" + track_item_key] = track_item_item.tolist()\n",
    "    final_df_list.append(temp_df)\n",
    "\n",
    "final_df = pd.concat(final_df_list)\n",
    "final_df = mark_frames(final_df)"
   ]
  },
  {
   "cell_type": "code",
   "execution_count": 69,
   "id": "b284bbc2",
   "metadata": {},
   "outputs": [
    {
     "data": {
      "text/html": [
       "<div>\n",
       "<style scoped>\n",
       "    .dataframe tbody tr th:only-of-type {\n",
       "        vertical-align: middle;\n",
       "    }\n",
       "\n",
       "    .dataframe tbody tr th {\n",
       "        vertical-align: top;\n",
       "    }\n",
       "\n",
       "    .dataframe thead th {\n",
       "        text-align: right;\n",
       "    }\n",
       "</style>\n",
       "<table border=\"1\" class=\"dataframe\">\n",
       "  <thead>\n",
       "    <tr style=\"text-align: right;\">\n",
       "      <th></th>\n",
       "      <th>track_id</th>\n",
       "      <th>track_frame</th>\n",
       "      <th>track_bbox</th>\n",
       "      <th>proc_track_x</th>\n",
       "      <th>proc_track_y</th>\n",
       "      <th>proc_track_s</th>\n",
       "      <th>marked</th>\n",
       "    </tr>\n",
       "  </thead>\n",
       "  <tbody>\n",
       "    <tr>\n",
       "      <th>0</th>\n",
       "      <td>1</td>\n",
       "      <td>0</td>\n",
       "      <td>[46.263954162597656, 224.18106079101562, 131.2...</td>\n",
       "      <td>83.836920</td>\n",
       "      <td>289.921867</td>\n",
       "      <td>65.644386</td>\n",
       "      <td>True</td>\n",
       "    </tr>\n",
       "    <tr>\n",
       "      <th>20</th>\n",
       "      <td>1</td>\n",
       "      <td>20</td>\n",
       "      <td>[-3.965940475463867, 229.76161193847656, 80.82...</td>\n",
       "      <td>38.429505</td>\n",
       "      <td>292.497414</td>\n",
       "      <td>64.906578</td>\n",
       "      <td>True</td>\n",
       "    </tr>\n",
       "    <tr>\n",
       "      <th>21</th>\n",
       "      <td>6</td>\n",
       "      <td>100</td>\n",
       "      <td>[368.0001525878906, 119.70771789550781, 609.81...</td>\n",
       "      <td>484.465073</td>\n",
       "      <td>287.893364</td>\n",
       "      <td>167.169273</td>\n",
       "      <td>True</td>\n",
       "    </tr>\n",
       "    <tr>\n",
       "      <th>34</th>\n",
       "      <td>6</td>\n",
       "      <td>113</td>\n",
       "      <td>[402.75030517578125, 111.48255157470703, 635.4...</td>\n",
       "      <td>519.094727</td>\n",
       "      <td>280.425545</td>\n",
       "      <td>166.656055</td>\n",
       "      <td>True</td>\n",
       "    </tr>\n",
       "    <tr>\n",
       "      <th>47</th>\n",
       "      <td>6</td>\n",
       "      <td>126</td>\n",
       "      <td>[400.46380615234375, 113.75859832763672, 633.4...</td>\n",
       "      <td>517.466721</td>\n",
       "      <td>276.720848</td>\n",
       "      <td>162.986580</td>\n",
       "      <td>True</td>\n",
       "    </tr>\n",
       "    <tr>\n",
       "      <th>...</th>\n",
       "      <td>...</td>\n",
       "      <td>...</td>\n",
       "      <td>...</td>\n",
       "      <td>...</td>\n",
       "      <td>...</td>\n",
       "      <td>...</td>\n",
       "      <td>...</td>\n",
       "    </tr>\n",
       "    <tr>\n",
       "      <th>5970</th>\n",
       "      <td>97</td>\n",
       "      <td>5057</td>\n",
       "      <td>[574.265869140625, 240.08229064941406, 641.094...</td>\n",
       "      <td>607.757904</td>\n",
       "      <td>285.284836</td>\n",
       "      <td>45.042587</td>\n",
       "      <td>True</td>\n",
       "    </tr>\n",
       "    <tr>\n",
       "      <th>5989</th>\n",
       "      <td>97</td>\n",
       "      <td>5076</td>\n",
       "      <td>[574.1328125, 241.11782836914062, 641.75207519...</td>\n",
       "      <td>607.249756</td>\n",
       "      <td>286.614304</td>\n",
       "      <td>46.365646</td>\n",
       "      <td>True</td>\n",
       "    </tr>\n",
       "    <tr>\n",
       "      <th>5990</th>\n",
       "      <td>98</td>\n",
       "      <td>5039</td>\n",
       "      <td>[275.4036865234375, 208.70596313476562, 346.51...</td>\n",
       "      <td>310.956970</td>\n",
       "      <td>258.917267</td>\n",
       "      <td>49.654709</td>\n",
       "      <td>True</td>\n",
       "    </tr>\n",
       "    <tr>\n",
       "      <th>6008</th>\n",
       "      <td>98</td>\n",
       "      <td>5057</td>\n",
       "      <td>[277.6759338378906, 202.93246459960938, 353.06...</td>\n",
       "      <td>315.372528</td>\n",
       "      <td>254.570305</td>\n",
       "      <td>54.056686</td>\n",
       "      <td>True</td>\n",
       "    </tr>\n",
       "    <tr>\n",
       "      <th>6027</th>\n",
       "      <td>98</td>\n",
       "      <td>5076</td>\n",
       "      <td>[238.24327087402344, 212.83645629882812, 312.8...</td>\n",
       "      <td>275.156708</td>\n",
       "      <td>251.118690</td>\n",
       "      <td>52.447159</td>\n",
       "      <td>True</td>\n",
       "    </tr>\n",
       "  </tbody>\n",
       "</table>\n",
       "<p>578 rows × 7 columns</p>\n",
       "</div>"
      ],
      "text/plain": [
       "      track_id  track_frame  \\\n",
       "0            1            0   \n",
       "20           1           20   \n",
       "21           6          100   \n",
       "34           6          113   \n",
       "47           6          126   \n",
       "...        ...          ...   \n",
       "5970        97         5057   \n",
       "5989        97         5076   \n",
       "5990        98         5039   \n",
       "6008        98         5057   \n",
       "6027        98         5076   \n",
       "\n",
       "                                             track_bbox  proc_track_x  \\\n",
       "0     [46.263954162597656, 224.18106079101562, 131.2...     83.836920   \n",
       "20    [-3.965940475463867, 229.76161193847656, 80.82...     38.429505   \n",
       "21    [368.0001525878906, 119.70771789550781, 609.81...    484.465073   \n",
       "34    [402.75030517578125, 111.48255157470703, 635.4...    519.094727   \n",
       "47    [400.46380615234375, 113.75859832763672, 633.4...    517.466721   \n",
       "...                                                 ...           ...   \n",
       "5970  [574.265869140625, 240.08229064941406, 641.094...    607.757904   \n",
       "5989  [574.1328125, 241.11782836914062, 641.75207519...    607.249756   \n",
       "5990  [275.4036865234375, 208.70596313476562, 346.51...    310.956970   \n",
       "6008  [277.6759338378906, 202.93246459960938, 353.06...    315.372528   \n",
       "6027  [238.24327087402344, 212.83645629882812, 312.8...    275.156708   \n",
       "\n",
       "      proc_track_y  proc_track_s  marked  \n",
       "0       289.921867     65.644386    True  \n",
       "20      292.497414     64.906578    True  \n",
       "21      287.893364    167.169273    True  \n",
       "34      280.425545    166.656055    True  \n",
       "47      276.720848    162.986580    True  \n",
       "...            ...           ...     ...  \n",
       "5970    285.284836     45.042587    True  \n",
       "5989    286.614304     46.365646    True  \n",
       "5990    258.917267     49.654709    True  \n",
       "6008    254.570305     54.056686    True  \n",
       "6027    251.118690     52.447159    True  \n",
       "\n",
       "[578 rows x 7 columns]"
      ]
     },
     "execution_count": 69,
     "metadata": {},
     "output_type": "execute_result"
    }
   ],
   "source": [
    "final_df[final_df[\"marked\"]]"
   ]
  },
  {
   "cell_type": "code",
   "execution_count": 58,
   "id": "d9bf0af2",
   "metadata": {},
   "outputs": [
    {
     "data": {
      "text/plain": [
       "[7, 3]"
      ]
     },
     "execution_count": 58,
     "metadata": {},
     "output_type": "execute_result"
    }
   ],
   "source": [
    "list(final_df[\"track_frame\"].iloc[[15 // 2, 3]])"
   ]
  },
  {
   "cell_type": "code",
   "execution_count": 63,
   "id": "3d5f5e07",
   "metadata": {},
   "outputs": [
    {
     "name": "stdout",
     "output_type": "stream",
     "text": [
      "    track_id  frame_id  marked\n",
      "0          1         1    True\n",
      "1          1         2   False\n",
      "2          1         3   False\n",
      "3          1         4   False\n",
      "4          1         5   False\n",
      "5          1         6   False\n",
      "6          1         7   False\n",
      "7          1         8   False\n",
      "8          1         9   False\n",
      "9          1        10   False\n",
      "10         1        11   False\n",
      "11         1        12   False\n",
      "12         1        13   False\n",
      "13         1        14   False\n",
      "14         2         1   False\n",
      "15         2         2   False\n",
      "16         2         3   False\n",
      "17         2         4   False\n",
      "18         2         5   False\n",
      "19         2         6    True\n",
      "20         2         7   False\n",
      "21         2         8   False\n",
      "22         2         9   False\n",
      "23         2        10   False\n"
     ]
    }
   ],
   "source": [
    "import pandas as pd\n",
    "import numpy as np\n",
    "\n",
    "# Sample dataframe with track_ids and frame_ids\n",
    "data = {'track_id': [1, 1, 1, 1, 1, 1, 1, 2, 2, 2, 2, 2, 1, 1, 1, 1, 1, 1, 1, 2, 2, 2, 2, 2],\n",
    "        'frame_id': [1, 2, 3, 4, 5, 6, 7, 1, 2, 3, 4, 5, 8, 9, 10, 11, 12, 13, 14, 6, 7, 8, 9, 10]}\n",
    "df = pd.DataFrame(data)\n",
    "df.sort_values([\"track_id\", \"frame_id\"], inplace=True)\n",
    "\n",
    "# Function to mark frames as true based on conditions\n",
    "def mark_frames(df, min_track_frames = 10, marked_percent= 0.1):\n",
    "    marked_frames = []\n",
    "    track_ids = []\n",
    "\n",
    "    for track_id, group in df.groupby('track_id'):\n",
    "        n_frames = len(group)\n",
    "        n_marked = max(1, min(int(marked_percent * n_frames), n_frames))\n",
    "\n",
    "        if n_frames <= min_track_frames:\n",
    "            marked_frames.extend([group[\"frame_id\"].iloc[n_frames // 2]])\n",
    "            track_ids.extend([track_id])\n",
    "        else:\n",
    "            indices = np.linspace(0, n_frames - 1, num=n_marked, dtype=int)\n",
    "            marked_frames.extend(list(group[\"frame_id\"].iloc[indices]))\n",
    "            track_ids.extend([track_id] * len(indices))\n",
    "\n",
    "    marked_df = pd.DataFrame(marked_frames, columns=[\"frame_id\"])\n",
    "    marked_df[\"track_id\"] = track_ids\n",
    "    marked_df['marked'] = True\n",
    "    df = df.merge(marked_df[['track_id', 'frame_id', 'marked']], on=['track_id', 'frame_id'], how='left')\n",
    "    df['marked'].fillna(False, inplace=True)\n",
    "\n",
    "    return df\n",
    "\n",
    "# Mark frames\n",
    "df = mark_frames(df)\n",
    "print(df)"
   ]
  },
  {
   "cell_type": "code",
   "execution_count": 6,
   "id": "a2b202b6",
   "metadata": {},
   "outputs": [],
   "source": [
    "import pandas as pd\n",
    "import pickle\n",
    "\n",
    "file_name = \"../../../del_later/zzz_MC_New.pckl\"\n",
    "file_name2 = \"../../../del_later/zzz_MC_old.pckl\""
   ]
  },
  {
   "cell_type": "code",
   "execution_count": 7,
   "id": "5fb21662",
   "metadata": {},
   "outputs": [],
   "source": [
    "temp1 = pickle.load(open(file_name, \"rb\"))"
   ]
  },
  {
   "cell_type": "code",
   "execution_count": 9,
   "id": "82425653",
   "metadata": {},
   "outputs": [],
   "source": [
    "temp2 = pickle.load(open(file_name2, \"rb\"))"
   ]
  },
  {
   "cell_type": "code",
   "execution_count": 23,
   "id": "81cfa7e2",
   "metadata": {},
   "outputs": [
    {
     "data": {
      "text/plain": [
       "0       0\n",
       "1       0\n",
       "2       0\n",
       "3       0\n",
       "4       0\n",
       "       ..\n",
       "922    36\n",
       "923    36\n",
       "924    36\n",
       "925    36\n",
       "926    36\n",
       "Name: Track, Length: 927, dtype: int64"
      ]
     },
     "execution_count": 23,
     "metadata": {},
     "output_type": "execute_result"
    }
   ],
   "source": [
    "temp1[\"Track\"]"
   ]
  },
  {
   "cell_type": "code",
   "execution_count": 21,
   "id": "5e7a794c",
   "metadata": {},
   "outputs": [
    {
     "data": {
      "text/plain": [
       "Track\n",
       "30    141\n",
       "20    135\n",
       "17    114\n",
       "36    104\n",
       "10     80\n",
       "0      70\n",
       "14     57\n",
       "8      50\n",
       "9      46\n",
       "28     38\n",
       "19     32\n",
       "12     30\n",
       "29     30\n",
       "3      25\n",
       "25     24\n",
       "33     24\n",
       "27     22\n",
       "18     20\n",
       "2      20\n",
       "15     20\n",
       "22     19\n",
       "6      18\n",
       "32     18\n",
       "24     17\n",
       "21     15\n",
       "11     12\n",
       "7       7\n",
       "Name: count, dtype: int64"
      ]
     },
     "execution_count": 21,
     "metadata": {},
     "output_type": "execute_result"
    }
   ],
   "source": [
    "temp2[\"Track\"].value_counts(dropna=False)"
   ]
  }
 ],
 "metadata": {
  "kernelspec": {
   "display_name": "Python 3 (ipykernel)",
   "language": "python",
   "name": "python3"
  },
  "language_info": {
   "codemirror_mode": {
    "name": "ipython",
    "version": 3
   },
   "file_extension": ".py",
   "mimetype": "text/x-python",
   "name": "python",
   "nbconvert_exporter": "python",
   "pygments_lexer": "ipython3",
   "version": "3.8.0"
  }
 },
 "nbformat": 4,
 "nbformat_minor": 5
}
