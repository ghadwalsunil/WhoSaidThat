{
 "cells": [
  {
   "cell_type": "code",
   "execution_count": 1,
   "id": "e54cba2d",
   "metadata": {
    "collapsed": true
   },
   "outputs": [
    {
     "name": "stdout",
     "output_type": "stream",
     "text": [
      "Requirement already satisfied: matplotlib in ./venv/lib/python3.8/site-packages (3.7.3)\n",
      "Requirement already satisfied: contourpy>=1.0.1 in ./venv/lib/python3.8/site-packages (from matplotlib) (1.1.1)\n",
      "Requirement already satisfied: cycler>=0.10 in ./venv/lib/python3.8/site-packages (from matplotlib) (0.12.1)\n",
      "Requirement already satisfied: fonttools>=4.22.0 in ./venv/lib/python3.8/site-packages (from matplotlib) (4.44.0)\n",
      "Requirement already satisfied: kiwisolver>=1.0.1 in ./venv/lib/python3.8/site-packages (from matplotlib) (1.4.5)\n",
      "Requirement already satisfied: numpy<2,>=1.20 in ./venv/lib/python3.8/site-packages (from matplotlib) (1.24.4)\n",
      "Requirement already satisfied: packaging>=20.0 in ./venv/lib/python3.8/site-packages (from matplotlib) (23.2)\n",
      "Requirement already satisfied: pillow>=6.2.0 in ./venv/lib/python3.8/site-packages (from matplotlib) (10.1.0)\n",
      "Requirement already satisfied: pyparsing>=2.3.1 in ./venv/lib/python3.8/site-packages (from matplotlib) (3.1.1)\n",
      "Requirement already satisfied: python-dateutil>=2.7 in ./venv/lib/python3.8/site-packages (from matplotlib) (2.8.2)\n",
      "Requirement already satisfied: importlib-resources>=3.2.0 in ./venv/lib/python3.8/site-packages (from matplotlib) (6.1.1)\n",
      "Requirement already satisfied: zipp>=3.1.0 in ./venv/lib/python3.8/site-packages (from importlib-resources>=3.2.0->matplotlib) (3.17.0)\n",
      "Requirement already satisfied: six>=1.5 in ./venv/lib/python3.8/site-packages (from python-dateutil>=2.7->matplotlib) (1.16.0)\n",
      "Note: you may need to restart the kernel to use updated packages.\n"
     ]
    }
   ],
   "source": [
    "pip install matplotlib"
   ]
  },
  {
   "cell_type": "code",
   "execution_count": 3,
   "id": "68f8a5cd",
   "metadata": {
    "collapsed": true
   },
   "outputs": [
    {
     "name": "stdout",
     "output_type": "stream",
     "text": [
      "Collecting seaborn\n",
      "  Downloading seaborn-0.13.0-py3-none-any.whl.metadata (5.3 kB)\n",
      "Requirement already satisfied: numpy!=1.24.0,>=1.20 in ./venv/lib/python3.8/site-packages (from seaborn) (1.24.4)\n",
      "Requirement already satisfied: pandas>=1.2 in ./venv/lib/python3.8/site-packages (from seaborn) (2.0.3)\n",
      "Requirement already satisfied: matplotlib!=3.6.1,>=3.3 in ./venv/lib/python3.8/site-packages (from seaborn) (3.7.3)\n",
      "Requirement already satisfied: contourpy>=1.0.1 in ./venv/lib/python3.8/site-packages (from matplotlib!=3.6.1,>=3.3->seaborn) (1.1.1)\n",
      "Requirement already satisfied: cycler>=0.10 in ./venv/lib/python3.8/site-packages (from matplotlib!=3.6.1,>=3.3->seaborn) (0.12.1)\n",
      "Requirement already satisfied: fonttools>=4.22.0 in ./venv/lib/python3.8/site-packages (from matplotlib!=3.6.1,>=3.3->seaborn) (4.44.0)\n",
      "Requirement already satisfied: kiwisolver>=1.0.1 in ./venv/lib/python3.8/site-packages (from matplotlib!=3.6.1,>=3.3->seaborn) (1.4.5)\n",
      "Requirement already satisfied: packaging>=20.0 in ./venv/lib/python3.8/site-packages (from matplotlib!=3.6.1,>=3.3->seaborn) (23.2)\n",
      "Requirement already satisfied: pillow>=6.2.0 in ./venv/lib/python3.8/site-packages (from matplotlib!=3.6.1,>=3.3->seaborn) (10.1.0)\n",
      "Requirement already satisfied: pyparsing>=2.3.1 in ./venv/lib/python3.8/site-packages (from matplotlib!=3.6.1,>=3.3->seaborn) (3.1.1)\n",
      "Requirement already satisfied: python-dateutil>=2.7 in ./venv/lib/python3.8/site-packages (from matplotlib!=3.6.1,>=3.3->seaborn) (2.8.2)\n",
      "Requirement already satisfied: importlib-resources>=3.2.0 in ./venv/lib/python3.8/site-packages (from matplotlib!=3.6.1,>=3.3->seaborn) (6.1.1)\n",
      "Requirement already satisfied: pytz>=2020.1 in ./venv/lib/python3.8/site-packages (from pandas>=1.2->seaborn) (2023.3.post1)\n",
      "Requirement already satisfied: tzdata>=2022.1 in ./venv/lib/python3.8/site-packages (from pandas>=1.2->seaborn) (2023.3)\n",
      "Requirement already satisfied: zipp>=3.1.0 in ./venv/lib/python3.8/site-packages (from importlib-resources>=3.2.0->matplotlib!=3.6.1,>=3.3->seaborn) (3.17.0)\n",
      "Requirement already satisfied: six>=1.5 in ./venv/lib/python3.8/site-packages (from python-dateutil>=2.7->matplotlib!=3.6.1,>=3.3->seaborn) (1.16.0)\n",
      "Downloading seaborn-0.13.0-py3-none-any.whl (294 kB)\n",
      "\u001b[2K   \u001b[38;2;114;156;31m━━━━━━━━━━━━━━━━━━━━━━━━━━━━━━━━━━━━━━━━\u001b[0m \u001b[32m294.6/294.6 kB\u001b[0m \u001b[31m5.0 MB/s\u001b[0m eta \u001b[36m0:00:00\u001b[0m[31m5.5 MB/s\u001b[0m eta \u001b[36m0:00:01\u001b[0m\n",
      "\u001b[?25hInstalling collected packages: seaborn\n",
      "Successfully installed seaborn-0.13.0\n",
      "Note: you may need to restart the kernel to use updated packages.\n"
     ]
    }
   ],
   "source": [
    "pip install seaborn"
   ]
  },
  {
   "cell_type": "code",
   "execution_count": null,
   "id": "2f801f60",
   "metadata": {},
   "outputs": [],
   "source": []
  },
  {
   "cell_type": "code",
   "execution_count": 2,
   "id": "c322040b",
   "metadata": {},
   "outputs": [
    {
     "data": {
      "image/png": "[encoded data removed]",
      "text/plain": [
       "<Figure size 640x480 with 1 Axes>"
      ]
     },
     "metadata": {},
     "output_type": "display_data"
    }
   ],
   "source": [
    "import matplotlib.pyplot as plt\n",
    "\n",
    "def plot_timeline(intervals, label):\n",
    "    for start, end in intervals:\n",
    "        plt.plot([start, end], [label, label], color='blue', linewidth=10)\n",
    "\n",
    "# Intervals\n",
    "intervals1 = [(1.2, 2.6), (3.8, 5.9), (7.9, 11.2)]\n",
    "intervals2 = [(2.8, 4.6), (6.0, 7.2)]\n",
    "\n",
    "# Plot timelines\n",
    "plot_timeline(intervals1, 1)\n",
    "plot_timeline(intervals2, 2)\n",
    "\n",
    "# Customize the plot\n",
    "plt.xlabel('Time')\n",
    "plt.yticks([1, 2], ['Intervals 1', 'Intervals 2'])\n",
    "plt.title('Timeline Plot')\n",
    "plt.grid(axis='y', linestyle='--', alpha=0.7)\n",
    "\n",
    "# Show the plot\n",
    "plt.show()"
   ]
  },
  {
   "cell_type": "code",
   "execution_count": 5,
   "id": "056016f4",
   "metadata": {},
   "outputs": [
    {
     "data": {
      "image/png": "[encoded data removed]",
      "text/plain": [
       "<Figure size 1000x400 with 1 Axes>"
      ]
     },
     "metadata": {},
     "output_type": "display_data"
    }
   ],
   "source": [
    "import seaborn as sns\n",
    "import matplotlib.pyplot as plt\n",
    "\n",
    "def plot_timeline(intervals, label):\n",
    "    for start, end in intervals:\n",
    "        plt.hlines(label, start, end, linewidth=10)\n",
    "\n",
    "# Intervals\n",
    "intervals1 = [(1.2, 2.6), (3.8, 5.9), (7.9, 11.2)]\n",
    "intervals2 = [(2.8, 4.6), (6.0, 7.2)]\n",
    "\n",
    "# Create a Seaborn plot\n",
    "sns.set(style='whitegrid')\n",
    "plt.figure(figsize=(10, 4))\n",
    "\n",
    "# Plot timelines\n",
    "plot_timeline(intervals1, 1)\n",
    "plot_timeline(intervals2, 2)\n",
    "\n",
    "# Customize the plot\n",
    "plt.xlabel('Time')\n",
    "plt.yticks([1, 2], ['Intervals 1', 'Intervals 2'])\n",
    "plt.title('Timeline Plot')\n",
    "\n",
    "# Show the plot\n",
    "plt.show()\n"
   ]
  },
  {
   "cell_type": "code",
   "execution_count": 7,
   "id": "76e9116e",
   "metadata": {},
   "outputs": [
    {
     "data": {
      "image/png": "[encoded data removed]",
      "text/plain": [
       "<Figure size 1200x400 with 1 Axes>"
      ]
     },
     "metadata": {},
     "output_type": "display_data"
    }
   ],
   "source": [
    "import matplotlib.pyplot as plt\n",
    "import numpy as np\n",
    "\n",
    "def plot_diarization(intervals, labels):\n",
    "    cmap = plt.get_cmap('tab10')  # Choose a colormap, e.g., 'tab10'\n",
    "    unique_labels = set(labels)\n",
    "    label_to_color = {label: cmap(i) for i, label in enumerate(unique_labels)}\n",
    "\n",
    "    for (start, end), label in zip(intervals, labels):\n",
    "        plt.hlines(label, start, end, color=label_to_color[label], linewidth=10)\n",
    "\n",
    "# Intervals and corresponding labels\n",
    "intervals = [(1.2, 2.6), (3.8, 5.9), (7.9, 11.2), (12.5, 15.0), (16.2, 18.5)]\n",
    "labels = ['speaker1', 'speaker2', 'speaker1', 'speaker3', 'speaker2']\n",
    "\n",
    "# Create a colorful diarization plot\n",
    "plt.figure(figsize=(12, 4))\n",
    "\n",
    "# Plot diarization\n",
    "plot_diarization(intervals, labels)\n",
    "\n",
    "# Customize the plot\n",
    "plt.xlabel('Time')\n",
    "plt.yticks(range(len(set(labels))), set(labels))\n",
    "plt.title('Diarization Plot')\n",
    "\n",
    "# Show the plot\n",
    "plt.show()\n"
   ]
  },
  {
   "cell_type": "code",
   "execution_count": 6,
   "id": "4e77c8ad",
   "metadata": {},
   "outputs": [
    {
     "data": {
      "image/png": "[encoded data removed]",
      "text/plain": [
       "<Figure size 1000x200 with 1 Axes>"
      ]
     },
     "metadata": {},
     "output_type": "display_data"
    }
   ],
   "source": [
    "from pyannote.core import Segment, Annotation\n",
    "from pyannote.core import notebook\n",
    "import matplotlib.pyplot as plt\n",
    "\n",
    "# Create a custom diarization result\n",
    "custom_diarization = Annotation()\n",
    "custom_diarization[Segment(1.2, 2.6)] = 'speaker1'\n",
    "custom_diarization[Segment(3.8, 5.9)] = 'speaker2'\n",
    "custom_diarization[Segment(5.8, 11.2)] = 'speaker1'\n",
    "custom_diarization[Segment(12.5, 15.0)] = 'speaker3'\n",
    "custom_diarization[Segment(16.2, 18.5)] = 'speaker2'\n",
    "\n",
    "# Create a figure\n",
    "fig, ax = plt.subplots(figsize=(10, 2))\n",
    "\n",
    "# Plot the custom diarization result\n",
    "notebook.plot_annotation(custom_diarization, ax, legend=True)\n",
    "\n",
    "# Customize the plot (if needed)\n",
    "ax.set_xlabel('Time')\n",
    "ax.set_yticks([])  # To hide the y-axis\n",
    "\n",
    "# Save the figure\n",
    "fig.savefig('custom_diarization_plot.png', bbox_inches='tight')\n",
    "\n",
    "# Show the figure (optional)\n",
    "plt.show()"
   ]
  },
  {
   "cell_type": "code",
   "execution_count": 1,
   "id": "7e3a86a9",
   "metadata": {},
   "outputs": [],
   "source": [
    "import json\n",
    "with open('output.json', 'r') as json_file:\n",
    "    loaded_list = json.load(json_file)"
   ]
  },
  {
   "cell_type": "code",
   "execution_count": 2,
   "id": "28e67c87",
   "metadata": {},
   "outputs": [
    {
     "data": {
      "text/plain": [
       "[{'track': 0,\n",
       "  'score': -1.0666666825612385,\n",
       "  's': 72.29749870300293,\n",
       "  'x': 106.30376434326172,\n",
       "  'y': 88.0403003692627},\n",
       " {'track': 1,\n",
       "  'score': 2.3999999364217124,\n",
       "  's': 68.65208148956299,\n",
       "  'x': 510.92138671875,\n",
       "  'y': 60.32396221160889},\n",
       " {'track': 2,\n",
       "  'score': -1.2000000476837158,\n",
       "  's': 40.90107727050781,\n",
       "  'x': 299.64306640625,\n",
       "  'y': 30.711134910583496}]"
      ]
     },
     "execution_count": 2,
     "metadata": {},
     "output_type": "execute_result"
    }
   ],
   "source": [
    "loaded_list[0]"
   ]
  },
  {
   "cell_type": "code",
   "execution_count": 15,
   "id": "23f1926a",
   "metadata": {},
   "outputs": [],
   "source": [
    "def convert_to_ranges(lst):\n",
    "    ranges = []\n",
    "    start = lst[0]\n",
    "    \n",
    "    for i in range(1, len(lst)):\n",
    "        if lst[i] - lst[i-1] > 0.08:\n",
    "            ranges.append((start, lst[i-1]))\n",
    "            start = lst[i]\n",
    "\n",
    "    # Add the last range\n",
    "    ranges.append((start, lst[-1]))\n",
    "\n",
    "    return ranges"
   ]
  },
  {
   "cell_type": "code",
   "execution_count": 16,
   "id": "83b02c08",
   "metadata": {},
   "outputs": [],
   "source": [
    "tracks = {}\n",
    "for count, item in enumerate(loaded_list):\n",
    "    for track in item:\n",
    "        if track[\"score\"] > 0:\n",
    "            if track[\"track\"] in tracks.keys():\n",
    "                tracks[track[\"track\"]].append(count/25)\n",
    "            else:\n",
    "                tracks[track[\"track\"]] = [count/25]\n",
    "\n",
    "for key in tracks.keys():\n",
    "    tracks[key] = convert_to_ranges(tracks[key])"
   ]
  },
  {
   "cell_type": "code",
   "execution_count": 17,
   "id": "7fc817f6",
   "metadata": {},
   "outputs": [
    {
     "data": {
      "text/plain": [
       "{1: [(0.0, 17.88)], 6: [(17.04, 17.76)], 2: [(18.84, 19.68), (19.76, 19.96)]}"
      ]
     },
     "execution_count": 17,
     "metadata": {},
     "output_type": "execute_result"
    }
   ],
   "source": [
    "tracks"
   ]
  },
  {
   "cell_type": "code",
   "execution_count": 5,
   "id": "3acdf798",
   "metadata": {},
   "outputs": [],
   "source": []
  },
  {
   "cell_type": "code",
   "execution_count": 7,
   "id": "78cd9db3",
   "metadata": {},
   "outputs": [
    {
     "data": {
      "text/plain": [
       "[(0.0, 17.88)]"
      ]
     },
     "execution_count": 7,
     "metadata": {},
     "output_type": "execute_result"
    }
   ],
   "source": [
    "convert_to_ranges(tracks[1])"
   ]
  },
  {
   "cell_type": "code",
   "execution_count": 6,
   "id": "b8dc3da4",
   "metadata": {},
   "outputs": [],
   "source": [
    "import numpy as np\n",
    "import pickle"
   ]
  },
  {
   "cell_type": "code",
   "execution_count": 3,
   "id": "c7ca41ed",
   "metadata": {},
   "outputs": [],
   "source": [
    "item1 = {1: [np.array([1.2, 2.4, 1.2])], 2: [np.array([1.2, 2.4, 1.2])]}\n",
    "item2 = [np.array([1.2, 2.4, 1.2]), np.array([1.2, 2.4, 1.2])]"
   ]
  },
  {
   "cell_type": "code",
   "execution_count": 5,
   "id": "3da114b9",
   "metadata": {},
   "outputs": [
    {
     "data": {
      "text/plain": [
       "[array([1.2, 2.4, 1.2]), array([1.2, 2.4, 1.2])]"
      ]
     },
     "execution_count": 5,
     "metadata": {},
     "output_type": "execute_result"
    }
   ],
   "source": [
    "item2"
   ]
  },
  {
   "cell_type": "code",
   "execution_count": 7,
   "id": "d6ec61b4",
   "metadata": {},
   "outputs": [],
   "source": [
    "with open('data1.pkl', 'wb') as pickle_file:\n",
    "    pickle.dump(item1, pickle_file)\n",
    "with open('data2.pkl', 'wb') as pickle_file:\n",
    "    pickle.dump(item2, pickle_file)"
   ]
  },
  {
   "cell_type": "code",
   "execution_count": 8,
   "id": "bf58edc7",
   "metadata": {},
   "outputs": [],
   "source": [
    "with open('data1.pkl', 'rb') as pickle_file:\n",
    "    item1 = pickle.load(pickle_file)\n",
    "with open('data2.pkl', 'rb') as pickle_file:\n",
    "    item2 = pickle.load(pickle_file)"
   ]
  },
  {
   "cell_type": "code",
   "execution_count": 6,
   "id": "cc30e697",
   "metadata": {},
   "outputs": [],
   "source": [
    "import pickle\n",
    "with open('TalkNet-ASD/Videos/001/pywork/scores.pckl', 'rb') as pickle_file:\n",
    "    item2 = pickle.load(pickle_file)"
   ]
  },
  {
   "cell_type": "code",
   "execution_count": 14,
   "id": "f0b5238c",
   "metadata": {},
   "outputs": [
    {
     "name": "stdout",
     "output_type": "stream",
     "text": [
      "0\n",
      "(492,)\n",
      "492\n",
      "-1.100000023841858\n",
      "-1.2999999523162842\n",
      "1\n",
      "(499,)\n",
      "499\n",
      "1.399999976158142\n",
      "-1.899999976158142\n",
      "2\n",
      "(499,)\n",
      "499\n",
      "-1.2000000476837158\n",
      "0.30000001192092896\n",
      "3\n",
      "(15,)\n",
      "15\n",
      "-1.399999976158142\n",
      "-1.100000023841858\n",
      "4\n",
      "(100,)\n",
      "100\n",
      "-0.5\n",
      "-0.699999988079071\n",
      "5\n",
      "(36,)\n",
      "36\n",
      "-0.800000011920929\n",
      "-1.2000000476837158\n",
      "6\n",
      "(28,)\n",
      "28\n",
      "0.4000000059604645\n",
      "-0.6000000238418579\n"
     ]
    }
   ],
   "source": [
    "for num, item in enumerate(item1):\n",
    "    print(num)\n",
    "    print(item.shape)\n",
    "    print(item.size)\n",
    "    print(item[0])\n",
    "    print(item[-1])"
   ]
  },
  {
   "cell_type": "code",
   "execution_count": 15,
   "id": "0cb9b748",
   "metadata": {},
   "outputs": [
    {
     "name": "stdout",
     "output_type": "stream",
     "text": [
      "0\n",
      "(492,)\n",
      "492\n",
      "-1.100000023841858\n",
      "-1.2999999523162842\n",
      "1\n",
      "(499,)\n",
      "499\n",
      "1.399999976158142\n",
      "-1.899999976158142\n",
      "2\n",
      "(499,)\n",
      "499\n",
      "-1.2000000476837158\n",
      "0.30000001192092896\n",
      "3\n",
      "(15,)\n",
      "15\n",
      "-1.399999976158142\n",
      "-1.100000023841858\n",
      "4\n",
      "(100,)\n",
      "100\n",
      "-0.5\n",
      "-0.699999988079071\n",
      "5\n",
      "(36,)\n",
      "36\n",
      "-0.800000011920929\n",
      "-1.2000000476837158\n",
      "6\n",
      "(28,)\n",
      "28\n",
      "0.4000000059604645\n",
      "-0.6000000238418579\n"
     ]
    }
   ],
   "source": [
    "for num, item in enumerate(item2):\n",
    "    print(num)\n",
    "    print(item.shape)\n",
    "    print(item.size)\n",
    "    print(item[0])\n",
    "    print(item[-1])"
   ]
  },
  {
   "cell_type": "code",
   "execution_count": 2,
   "id": "c9e134b5",
   "metadata": {},
   "outputs": [],
   "source": [
    "def create_webvtt_file(sentences, sentence_timestamps, word_timestamps):\n",
    "    webvtt_content = \"WEBVTT\\n\\n\"\n",
    "\n",
    "    for i, sentence in enumerate(sentences):\n",
    "        webvtt_content += f\"{i+1}\\n\"\n",
    "        webvtt_content += f\"{sentence_timestamps[i]} --> {sentence_timestamps[i+1]}\\n\"\n",
    "        webvtt_content += f\"{sentence}\\n\\n\"\n",
    "\n",
    "        for word in sentence.split():\n",
    "            webvtt_content += f\"<v {word_timestamps[word]}>{word}</v> \"\n",
    "\n",
    "        webvtt_content += \"\\n\\n\"\n",
    "\n",
    "    with open(\"../../Clips/Set 2/zzz.vtt\", \"w\") as file:\n",
    "        file.write(webvtt_content)"
   ]
  },
  {
   "cell_type": "code",
   "execution_count": null,
   "id": "b5c8c58d",
   "metadata": {},
   "outputs": [],
   "source": [
    "# Example usage\n",
    "sentences = [\"Hello world!\", \"This is a test sentence.\"]\n",
    "sentence_timestamps = [\"00:00:00.000\", \"00:00:02.500\", \"00:00:03.500\"]\n",
    "word_timestamps = {\n",
    "    \"Hello\": \"00:00:00.000 --> 00:00:01.000\",\n",
    "    \"world!\": \"00:00:01.000 --> 00:00:02.500\",\n",
    "    \"This\": \"00:00:02.500 --> 00:00:03.000\",\n",
    "    \"is\": \"00:00:03.000 --> 00:00:03.500\",\n",
    "    \"a\": \"00:00:03.500 --> 00:00:04.000\",\n",
    "    \"test\": \"00:00:04.000 --> 00:00:04.500\",\n",
    "    \"sentence.\": \"00:00:04.500 --> 00:00:05.000\"\n",
    "}\n",
    "\n",
    "def create_vtt(sentences, sentence_timestamps, word_timestamps):\n",
    "    vtt = \"WEBVTT\\n\\n\"\n",
    "    for i, sentence in enumerate(sentences):\n",
    "        vtt += f\"{i+1}\\n{sentence_timestamps[i]}\\n\"\n",
    "        words = sentence.split()\n",
    "        for word in words:\n",
    "            vtt += f\"{word_timestamps[word]}\\n{word}\\n\"\n",
    "        vtt += \"\\n\"\n",
    "\n",
    "    with open(\"../../Clips/Set 2/zzz.vtt\", \"w\") as f:\n",
    "        f.write(vtt)\n",
    "    return vtt\n"
   ]
  },
  {
   "cell_type": "code",
   "execution_count": 3,
   "id": "b1f0ddb5",
   "metadata": {},
   "outputs": [],
   "source": [
    "# Example usage\n",
    "sentences = [\"Hello world!\", \"This is a test sentence.\"]\n",
    "sentence_timestamps = [\"00:00:00.000\", \"00:00:02.500\", \"00:00:03.500\"]\n",
    "word_timestamps = {\n",
    "    \"Hello\": \"00:00:00.000 --> 00:00:01.000\",\n",
    "    \"world!\": \"00:00:01.000 --> 00:00:02.500\",\n",
    "    \"This\": \"00:00:02.500 --> 00:00:03.000\",\n",
    "    \"is\": \"00:00:03.000 --> 00:00:03.500\",\n",
    "    \"a\": \"00:00:03.500 --> 00:00:04.000\",\n",
    "    \"test\": \"00:00:04.000 --> 00:00:04.500\",\n",
    "    \"sentence.\": \"00:00:04.500 --> 00:00:05.000\"\n",
    "}\n",
    "\n",
    "create_webvtt_file(sentences, sentence_timestamps, word_timestamps)\n"
   ]
  }
 ],
 "metadata": {
  "kernelspec": {
   "display_name": "Python 3 (ipykernel)",
   "language": "python",
   "name": "python3"
  },
  "language_info": {
   "codemirror_mode": {
    "name": "ipython",
    "version": 3
   },
   "file_extension": ".py",
   "mimetype": "text/x-python",
   "name": "python",
   "nbconvert_exporter": "python",
   "pygments_lexer": "ipython3",
   "version": "3.8.16"
  }
 },
 "nbformat": 4,
 "nbformat_minor": 5
}
