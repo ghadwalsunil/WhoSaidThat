{
 "cells": [
  {
   "cell_type": "code",
   "execution_count": 1,
   "id": "67020165",
   "metadata": {},
   "outputs": [
    {
     "name": "stdout",
     "output_type": "stream",
     "text": [
      "2.0.1+cu117\n",
      "GPU is available.\n"
     ]
    }
   ],
   "source": [
    "# venv\n",
    "import torch\n",
    "import datetime as dt\n",
    "print(torch.__version__)\n",
    "\n",
    "if torch.cuda.is_available():\n",
    "    print(\"GPU is available.\")\n",
    "else:\n",
    "    print(\"No GPU found. Using CPU.\")"
   ]
  },
  {
   "cell_type": "code",
   "execution_count": 9,
   "id": "63d7fef1",
   "metadata": {},
   "outputs": [],
   "source": [
    "from dotenv import load_dotenv\n",
    "import os\n",
    "from pyannote.core import Segment, Annotation\n",
    "from pyannote.core import notebook\n",
    "import matplotlib.pyplot as plt\n",
    "load_dotenv()\n",
    "import pickle, json\n",
    "\n",
    "from pyannote.audio import Pipeline"
   ]
  },
  {
   "cell_type": "code",
   "execution_count": 2,
   "id": "a35b2fcb",
   "metadata": {},
   "outputs": [],
   "source": [
    "pretrained_pipeline = Pipeline.from_pretrained(\"pyannote/speaker-diarization-3.0\",\n",
    "                                               use_auth_token=os.getenv('HUGGINGFACE_TOKEN'))"
   ]
  },
  {
   "cell_type": "code",
   "execution_count": 3,
   "id": "234cea93",
   "metadata": {},
   "outputs": [
    {
     "name": "stderr",
     "output_type": "stream",
     "text": [
      "2024-01-06 18:35:49.502333584 [W:onnxruntime:, session_state.cc:1162 VerifyEachNodeIsAssignedToAnEp] Some nodes were not assigned to the preferred execution providers which may or may not have an negative impact on performance. e.g. ORT explicitly assigns shape related ops to CPU to improve perf.\n",
      "2024-01-06 18:35:49.502359310 [W:onnxruntime:, session_state.cc:1164 VerifyEachNodeIsAssignedToAnEp] Rerunning with verbose output on a non-minimal build will show node assignments.\n"
     ]
    },
    {
     "data": {
      "text/plain": [
       "<pyannote.audio.pipelines.speaker_diarization.SpeakerDiarization at 0x7f7fb83114c0>"
      ]
     },
     "execution_count": 3,
     "metadata": {},
     "output_type": "execute_result"
    }
   ],
   "source": [
    "import torch\n",
    "pretrained_pipeline.to(torch.device(\"cuda\"))"
   ]
  },
  {
   "cell_type": "code",
   "execution_count": 4,
   "id": "ef05c98e",
   "metadata": {},
   "outputs": [],
   "source": [
    "def create_annotation_plot(speaker_timelines, filename):\n",
    "    custom_diarization = Annotation()\n",
    "    \n",
    "    for speaker_key in speaker_timelines.keys():\n",
    "        for timeline in speaker_timelines[speaker_key]:\n",
    "            custom_diarization[Segment(timeline[0], timeline[1])] = speaker_key\n",
    "\n",
    "    # Create a figure\n",
    "    fig, ax = plt.subplots(figsize=(10, 2))\n",
    "\n",
    "    # Plot the custom diarization result\n",
    "    notebook.plot_annotation(custom_diarization, ax, legend=True)\n",
    "\n",
    "    # Customize the plot (if needed)\n",
    "    ax.set_xlabel('Time')\n",
    "    ax.set_yticks([])  # To hide the y-axis\n",
    "\n",
    "    # Save the figure\n",
    "    fig.savefig(f'{filename}.png', bbox_inches='tight')\n",
    "    \n",
    "    plt.cla()\n",
    "    plt.clf()\n",
    "    plt.close(fig)"
   ]
  },
  {
   "cell_type": "code",
   "execution_count": 5,
   "id": "727cbe28",
   "metadata": {},
   "outputs": [
    {
     "data": {
      "text/plain": [
       "['StarTalk_FlyingVehicles_2670_2710.mp3',\n",
       " 'StarTalk_Sleep_2379_2443.mp3',\n",
       " 'StarTalk_Sleep_748_796.mp3',\n",
       " 'StarTalk_FlyingVehicles_674_719.mp3',\n",
       " 'StarTalk_FlyingVehicles_1980_2040.mp3',\n",
       " 'StarTalk_FlyingVehicles_1001_1043.mp3',\n",
       " 'StarTalk_Sleep_1152_1211.mp3',\n",
       " 'StarTalk_FlyingVehicles_300_340.mp3',\n",
       " 'NDT_India_19_88.mp3',\n",
       " 'StarTalk_FlyingVehicles_2446_2508.mp3',\n",
       " 'MagnusCarlson_542_599.mp3',\n",
       " 'StarTalk_CMBR_92_152.mp3',\n",
       " 'StarTalk_FlyingVehicles_949_1000.mp3',\n",
       " 'StarTalk_Sleep_2470_2551.mp3',\n",
       " 'StarTalk_Sleep_2099_2160.mp3',\n",
       " 'StarTalk_Sleep_1980_2041.mp3',\n",
       " 'StarTalk_Sleep_1602_1639.mp3',\n",
       " 'StarTalk_Sleep_382_450.mp3',\n",
       " 'StarTalk_FlyingVehicles_780_811.mp3',\n",
       " 'StarTalk_CMBR_190_225.mp3',\n",
       " 'StarTalk_CMBR_270_308.mp3',\n",
       " 'StarTalk_CMBR_319_356.mp3']"
      ]
     },
     "execution_count": 5,
     "metadata": {},
     "output_type": "execute_result"
    }
   ],
   "source": [
    "audio_path = \"Audios\"\n",
    "files = [\n",
    "    f\n",
    "    for f in os.listdir(audio_path)\n",
    "    if os.path.isfile(os.path.join(audio_path, f))\n",
    "    and os.path.splitext(os.path.join(audio_path, f))[1] in [\".mp3\"]\n",
    "]\n",
    "files"
   ]
  },
  {
   "cell_type": "code",
   "execution_count": 6,
   "id": "b4c933da",
   "metadata": {},
   "outputs": [
    {
     "name": "stdout",
     "output_type": "stream",
     "text": [
      "StarTalk_FlyingVehicles_2670_2710.mp3\n",
      "StarTalk_Sleep_2379_2443.mp3\n",
      "StarTalk_Sleep_748_796.mp3\n",
      "StarTalk_FlyingVehicles_674_719.mp3\n",
      "StarTalk_FlyingVehicles_1980_2040.mp3\n",
      "StarTalk_FlyingVehicles_1001_1043.mp3\n",
      "StarTalk_Sleep_1152_1211.mp3\n",
      "StarTalk_FlyingVehicles_300_340.mp3\n",
      "NDT_India_19_88.mp3\n",
      "StarTalk_FlyingVehicles_2446_2508.mp3\n",
      "MagnusCarlson_542_599.mp3\n",
      "StarTalk_CMBR_92_152.mp3\n",
      "StarTalk_FlyingVehicles_949_1000.mp3\n",
      "StarTalk_Sleep_2470_2551.mp3\n",
      "StarTalk_Sleep_2099_2160.mp3\n",
      "StarTalk_Sleep_1980_2041.mp3\n",
      "StarTalk_Sleep_1602_1639.mp3\n",
      "StarTalk_Sleep_382_450.mp3\n",
      "StarTalk_FlyingVehicles_780_811.mp3\n",
      "StarTalk_CMBR_190_225.mp3\n",
      "StarTalk_CMBR_270_308.mp3\n",
      "StarTalk_CMBR_319_356.mp3\n"
     ]
    }
   ],
   "source": [
    "final_output = {}\n",
    "for f in files:\n",
    "    print(f)\n",
    "    diarization = pretrained_pipeline(os.path.join(audio_path, f))\n",
    "    audio_output = {}\n",
    "    for duration,_, speaker_key in diarization.itertracks(yield_label=True):\n",
    "        if speaker_key in audio_output.keys():\n",
    "            audio_output[speaker_key].append((duration.start,duration.end))\n",
    "        else:\n",
    "            audio_output[speaker_key] = [(duration.start,duration.end)]\n",
    "    final_output[f] = audio_output"
   ]
  },
  {
   "cell_type": "code",
   "execution_count": 11,
   "id": "e188fc46",
   "metadata": {},
   "outputs": [],
   "source": [
    "with open(\"Audios/diarize.pkl\", \"wb\") as file:\n",
    "    pickle.dump(final_output, file)"
   ]
  },
  {
   "cell_type": "code",
   "execution_count": 5,
   "id": "56d84f95",
   "metadata": {},
   "outputs": [],
   "source": [
    "f = 'PM_Progun.mp3'\n",
    "diarization = pretrained_pipeline(f)\n",
    "audio_output = {}\n",
    "for duration,_, speaker_key in diarization.itertracks(yield_label=True):\n",
    "    if speaker_key in audio_output.keys():\n",
    "        audio_output[speaker_key].append((duration.start,duration.end))\n",
    "    else:\n",
    "        audio_output[speaker_key] = [(duration.start,duration.end)]\n",
    "create_annotation_plot(audio_output, os.path.splitext(f)[0])"
   ]
  },
  {
   "cell_type": "code",
   "execution_count": 6,
   "id": "e8ae3518",
   "metadata": {},
   "outputs": [],
   "source": [
    "f = 'NDT_India.mp3'\n",
    "diarization = pretrained_pipeline(f)\n",
    "audio_output = {}\n",
    "for duration,_, speaker_key in diarization.itertracks(yield_label=True):\n",
    "    if speaker_key in audio_output.keys():\n",
    "        audio_output[speaker_key].append((duration.start,duration.end))\n",
    "    else:\n",
    "        audio_output[speaker_key] = [(duration.start,duration.end)]\n",
    "create_annotation_plot(audio_output, os.path.splitext(f)[0])"
   ]
  }
 ],
 "metadata": {
  "kernelspec": {
   "display_name": "Python 3 (ipykernel)",
   "language": "python",
   "name": "python3"
  },
  "language_info": {
   "codemirror_mode": {
    "name": "ipython",
    "version": 3
   },
   "file_extension": ".py",
   "mimetype": "text/x-python",
   "name": "python",
   "nbconvert_exporter": "python",
   "pygments_lexer": "ipython3",
   "version": "3.8.0"
  }
 },
 "nbformat": 4,
 "nbformat_minor": 5
}
