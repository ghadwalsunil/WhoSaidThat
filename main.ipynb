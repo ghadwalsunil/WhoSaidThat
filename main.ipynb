{
 "cells": [
  {
   "cell_type": "code",
   "execution_count": 1,
   "id": "00831ada",
   "metadata": {},
   "outputs": [
    {
     "name": "stdout",
     "output_type": "stream",
     "text": [
      "2.0.1+cu117\n",
      "GPU is available.\n"
     ]
    }
   ],
   "source": [
    "# venv\n",
    "import torch\n",
    "import datetime as dt\n",
    "print(torch.__version__)\n",
    "\n",
    "if torch.cuda.is_available():\n",
    "    print(\"GPU is available.\")\n",
    "else:\n",
    "    print(\"No GPU found. Using CPU.\")"
   ]
  },
  {
   "cell_type": "code",
   "execution_count": 2,
   "id": "19975759",
   "metadata": {},
   "outputs": [],
   "source": [
    "import os, subprocess, glob\n",
    "from shutil import rmtree\n",
    "import cv2\n",
    "import demoTalkNetMod\n",
    "import logging\n",
    "import os\n",
    "from datetime import datetime, timedelta\n",
    "from sklearn.cluster import DBSCAN\n",
    "import numpy as np\n",
    "import pandas as pd\n",
    "import srt\n",
    "import whisper\n",
    "\n",
    "from stable_whisper import modify_model\n",
    "from pyannote.core import Segment, Annotation\n",
    "from pyannote.core import notebook\n",
    "import matplotlib.pyplot as plt\n",
    "\n",
    "logger = logging.getLogger(\"transcribe\")\n",
    "# sys.path.append(os.path.abspath(\"TalkNet-ASD/\"))"
   ]
  },
  {
   "cell_type": "code",
   "execution_count": 3,
   "id": "f945ad8d",
   "metadata": {},
   "outputs": [],
   "source": [
    "def create_annotation_plot(speaker_timelines):\n",
    "    custom_diarization = Annotation()\n",
    "    \n",
    "    for speaker_key in speaker_timelines.keys():\n",
    "        for timeline in speaker_timelines[speaker_key]:\n",
    "            custom_diarization[Segment(timeline[0], timeline[1])] = speaker_key\n",
    "\n",
    "    # Create a figure\n",
    "    fig, ax = plt.subplots(figsize=(10, 2))\n",
    "\n",
    "    # Plot the custom diarization result\n",
    "    notebook.plot_annotation(custom_diarization, ax, legend=True)\n",
    "\n",
    "    # Customize the plot (if needed)\n",
    "    ax.set_xlabel('Time')\n",
    "    ax.set_yticks([])  # To hide the y-axis\n",
    "\n",
    "    # Save the figure\n",
    "#     fig.savefig('custom_diarization_plot.png', bbox_inches='tight')\n",
    "\n",
    "    # Show the figure (optional)\n",
    "    plt.show()\n",
    "\n",
    "\n",
    "\n",
    "def get_openai_model(model_name=\"base\"):\n",
    "    # initialize model\n",
    "    logging.info(f\"Initializing openai's '{model_name} 'model\")\n",
    "    if model_name in [\n",
    "        \"tiny.en\",\n",
    "        \"tiny\",\n",
    "        \"base.en\",\n",
    "        \"base\",\n",
    "        \"small.en\",\n",
    "        \"small\",\n",
    "        \"medium.en\",\n",
    "        \"medium\",\n",
    "        \"large\",\n",
    "    ]:\n",
    "        try:\n",
    "            model = whisper.load_model(model_name)\n",
    "            # Using the stable whisper to modifiy the model for better timestamps accuracy\n",
    "            modify_model(model)\n",
    "            logging.info(\"Model was successfully initialized\")\n",
    "        except:\n",
    "            logging.error(\"Unable to initialize openai model\")\n",
    "            return None\n",
    "    else:\n",
    "        logging.error(\n",
    "            \"Model  not found; available models = ['tiny.en', 'tiny', 'base.en', 'base', 'small.en', 'small', 'medium.en', 'medium', 'large']\"\n",
    "        )\n",
    "        return None\n",
    "\n",
    "    return model\n",
    "\n",
    "\n",
    "def generate_openai_transcription(file_path, model):\n",
    "    logging.info(f\"Generating transcription for file - {file_path}\")\n",
    "\n",
    "    decode_options = dict(language=\"en\")\n",
    "    transcribe_options = dict(task=\"transcribe\", **decode_options)\n",
    "    output = model.transcribe(file_path, **transcribe_options)\n",
    "\n",
    "    transcriptions = {}\n",
    "\n",
    "    for num, s in enumerate(output.segments):\n",
    "        transcriptions[num] = []\n",
    "        for word in s.words:\n",
    "            transcriptions[num].append(\n",
    "                {\n",
    "                    \"text\": s.text,\n",
    "                    \"segment_start\": s.start,\n",
    "                    \"segment_end\": s.end,\n",
    "                    \"word\": word.word,\n",
    "                    \"word_start\": word.start,\n",
    "                    \"word_end\": word.end,\n",
    "                }\n",
    "            )\n",
    "\n",
    "    rows = []\n",
    "\n",
    "    for key, words in transcriptions.items():\n",
    "        for word in words:\n",
    "            row = {\n",
    "                \"segment_id\": key,\n",
    "                \"segment_text\": word[\"text\"],\n",
    "                \"segment_start\": word[\"segment_start\"],\n",
    "                \"segment_end\": word[\"segment_end\"],\n",
    "                \"word\": word[\"word\"],\n",
    "                \"word_start\": word[\"word_start\"],\n",
    "                \"word_end\": word[\"word_end\"],\n",
    "            }\n",
    "            rows.append(row)\n",
    "\n",
    "    df = pd.DataFrame(rows)\n",
    "\n",
    "    return df\n",
    "\n",
    "\n",
    "def find_overlap(intervals1, intervals2):\n",
    "    overlap = 0\n",
    "    total_duration1 = 0\n",
    "    total_duration2 = 0\n",
    "\n",
    "    # Calculate the total duration of intervals in intervals1\n",
    "    for start, end in intervals1:\n",
    "        total_duration1 += end - start\n",
    "\n",
    "    # Calculate the total duration of intervals in intervals2 and find the overlap\n",
    "    for start, end in intervals2:\n",
    "        total_duration2 += end - start\n",
    "        for s1, e1 in intervals1:\n",
    "            common_start = max(s1, start)\n",
    "            common_end = min(e1, end)\n",
    "            if common_start < common_end:\n",
    "                overlap += common_end - common_start\n",
    "\n",
    "    # Calculate the percentage of overlap with respect to intervals1\n",
    "    percentage_overlap1 = (overlap / total_duration1) * 100\n",
    "\n",
    "    # Calculate the percentage of overlap with respect to intervals2\n",
    "    percentage_overlap2 = (overlap / total_duration2) * 100\n",
    "\n",
    "    return percentage_overlap1, percentage_overlap2\n",
    "\n",
    "\n",
    "def get_video_to_audio_mapping(video_output, audio_output):\n",
    "    video_audio_mapping = {}\n",
    "    for audio_speaker in audio_output.keys():\n",
    "        for video_speaker in video_output.keys():\n",
    "            video_overlap, _ = find_overlap(video_output[video_speaker], audio_output[audio_speaker])\n",
    "            if video_overlap > 80:\n",
    "                video_audio_mapping[audio_speaker] = video_speaker\n",
    "                break\n",
    "    return video_audio_mapping\n",
    "\n",
    "def get_segment_to_speaker_mapping(segment_start, segment_end, speaker_mapping, audio_output):\n",
    "    \n",
    "    final_speaker = None\n",
    "    max_overlap = 0\n",
    "    \n",
    "    for audio_speaker in audio_output.keys():\n",
    "        segment_overlap, _ = find_overlap([(segment_start, segment_end)], audio_output[audio_speaker])\n",
    "        if segment_overlap > max_overlap:\n",
    "            final_speaker = audio_speaker\n",
    "            max_overlap = segment_overlap\n",
    "            \n",
    "    if final_speaker is None:\n",
    "        return \"Unknown\", max_overlap\n",
    "    else:\n",
    "        if final_speaker in speaker_mapping.keys():\n",
    "            return speaker_mapping[final_speaker], max_overlap\n",
    "        else:\n",
    "            return final_speaker, max_overlap"
   ]
  },
  {
   "cell_type": "code",
   "execution_count": 4,
   "id": "9bff394d",
   "metadata": {},
   "outputs": [
    {
     "name": "stdout",
     "output_type": "stream",
     "text": [
      "25.0\n"
     ]
    }
   ],
   "source": [
    "class Args:\n",
    "    def __init__(self, args_dict):\n",
    "        self.__dict__.update(args_dict)\n",
    "\n",
    "args_dict = {\n",
    "    \"videoName\": \"Video3\",\n",
    "    \"videoFolder\":\"Videos\",\n",
    "    \"pretrainModel\":\"pretrain_TalkSet.model\",\n",
    "    \"nDataLoaderThread\":10,\n",
    "    \"facedetScale\":0.25,\n",
    "    \"minTrack\":10,\n",
    "    \"numFailedDet\":10,\n",
    "    \"minFaceSize\":1,\n",
    "    \"cropScale\":0.40,\n",
    "    \"start\":0,\n",
    "    \"duration\":0,\n",
    "    \"evalCol\":False,\n",
    "    \"colSavePath\":\"/data08/col\",\n",
    "}\n",
    "\n",
    "args = Args(args_dict)\n",
    "\n",
    "if os.path.isfile(args.pretrainModel) == False:  # Download the pretrained model\n",
    "    Link = \"1AbN9fCf9IexMxEKXLQY2KYBlb-IhSEea\"\n",
    "    cmd = \"gdown --id %s -O %s\" % (Link, args.pretrainModel)\n",
    "    subprocess.call(cmd, shell=True, stdout=None)\n",
    "\n",
    "args.videoPath = glob.glob(os.path.join(args.videoFolder, args.videoName + \".*\"))[0]\n",
    "args.savePath = os.path.join(args.videoFolder, args.videoName)\n",
    "args.audioPath = os.path.join(args.savePath, \"pyavi\", \"audio.wav\")\n",
    "video = cv2.VideoCapture(args.videoPath)\n",
    "args.frameRate = video.get(cv2.CAP_PROP_FPS)\n",
    "video.release()\n",
    "print(args.frameRate)\n",
    "\n",
    "\n",
    "model_name_openai = \"base.en\"\n",
    "model = get_openai_model(model_name_openai)"
   ]
  },
  {
   "cell_type": "code",
   "execution_count": 5,
   "id": "046f06e7",
   "metadata": {},
   "outputs": [
    {
     "name": "stderr",
     "output_type": "stream",
     "text": [
      "2024-01-03 23:39:49 Extract the video and save in Videos/Video3/pyavi/video.avi \n",
      "2024-01-03 23:39:49 Extract the audio and save in Videos/Video3/pyavi/audio.wav \n",
      "2024-01-03 23:39:55 Extract the frames and save in Videos/Video3/pyframes \n",
      "ERROR:pyscenedetect:VideoManager is deprecated and will be removed.\n",
      "INFO:pyscenedetect:Loaded 1 video, framerate: 25.000 FPS, resolution: 1920 x 1080\n",
      "INFO:pyscenedetect:Downscale factor set to 7, effective resolution: 274 x 154\n",
      "INFO:pyscenedetect:Detecting scenes...\n",
      "ERROR:pyscenedetect:`base_timecode` argument is deprecated and has no effect.\n",
      "Videos/Video3/pyavi/video.avi - scenes detected 10\n",
      "2024-01-03 23:39:59 Scene detection and save in Videos/Video3/pywork \n",
      "2024-01-03 23:41:00 Face detection and save in Videos/Video3/pywork \n",
      "2024-01-03 23:41:00 Face track and detected 11 tracks \n",
      "100%|███████████████████████████████████████████████████████████████████████████████████████████████████████████████████████████████████████| 11/11 [00:26<00:00,  2.41s/it]\n",
      "2024-01-03 23:41:27 Face Crop and saved in Videos/Video3/pycrop tracks \n"
     ]
    },
    {
     "name": "stdout",
     "output_type": "stream",
     "text": [
      "01-03 23:41:27 Model para number = 15.01\n"
     ]
    },
    {
     "name": "stderr",
     "output_type": "stream",
     "text": [
      "Model pretrain_TalkSet.model loaded from previous state! \n",
      "100%|███████████████████████████████████████████████████████████████████████████████████████████████████████████████████████████████████████| 11/11 [00:03<00:00,  2.87it/s]\n",
      "2024-01-03 23:41:31 Scores extracted and saved in Videos/Video3/pywork \n"
     ]
    }
   ],
   "source": [
    "vidTracks, scores, args = demoTalkNetMod.preprocess(args)"
   ]
  },
  {
   "cell_type": "code",
   "execution_count": 6,
   "id": "e1c099b9",
   "metadata": {},
   "outputs": [
    {
     "name": "stderr",
     "output_type": "stream",
     "text": [
      "100%|█████████████████████████████████████████████████████████████████████████████████████████████████████████████████████████████████| 650/650 [03:22<00:00,  3.20tracks/s]\n",
      "2024-01-03 23:45:16 Face encoding generation completed"
     ]
    }
   ],
   "source": [
    "df = demoTalkNetMod.get_track_face_encodings(vidTracks, scores, args)"
   ]
  },
  {
   "cell_type": "code",
   "execution_count": 7,
   "id": "00553950",
   "metadata": {},
   "outputs": [],
   "source": [
    "df.to_pickle(f\"{args.savePath}/{args.videoName}.pkl\")"
   ]
  },
  {
   "cell_type": "code",
   "execution_count": 8,
   "id": "947befc8",
   "metadata": {},
   "outputs": [],
   "source": [
    "df = pd.read_pickle(f\"{args.savePath}/{args.videoName}.pkl\")"
   ]
  },
  {
   "cell_type": "code",
   "execution_count": 10,
   "id": "941afa9c",
   "metadata": {},
   "outputs": [
    {
     "name": "stdout",
     "output_type": "stream",
     "text": [
      "[[ -1  27]\n",
      " [  0 428]\n",
      " [  1 195]]\n"
     ]
    }
   ],
   "source": [
    "# 001 - eps=0.4, min_samples = 4\n",
    "# PL - eps=0.5, min_samples = 200\n",
    "# Video3 - eps=0.5, min_samples = 100\n",
    "# Video2 - eps=0.5, min_samples = 100\n",
    "# Choose DBSCAN parameters\n",
    "eps = 0.5\n",
    "min_samples = 100\n",
    "\n",
    "# Apply DBSCAN clustering\n",
    "dbscan = DBSCAN(eps=eps, min_samples=min_samples)\n",
    "clusters = dbscan.fit_predict(df[\"Encoding\"].to_list())\n",
    "unique, counts = np.unique(clusters, return_counts=True)\n",
    "print(np.asarray((unique, counts)).T)"
   ]
  },
  {
   "cell_type": "code",
   "execution_count": 11,
   "id": "70667dfe",
   "metadata": {},
   "outputs": [],
   "source": [
    "df[\"Clusters\"] = clusters"
   ]
  },
  {
   "cell_type": "code",
   "execution_count": 12,
   "id": "6d196210",
   "metadata": {},
   "outputs": [],
   "source": [
    "video_output = demoTalkNetMod.get_final_tracks(df, args)"
   ]
  },
  {
   "cell_type": "code",
   "execution_count": 13,
   "id": "a35afd40",
   "metadata": {},
   "outputs": [
    {
     "data": {
      "text/plain": [
       "{'SPEAKER_00': [(0.0, 1.16),\n",
       "  (9.36, 10.32),\n",
       "  (10.6, 21.68),\n",
       "  (22.52, 22.4),\n",
       "  (28.72, 28.84),\n",
       "  (30.2, 30.44),\n",
       "  (34.6, 35.12)],\n",
       " 'SPEAKER_01': [(5.2, 5.36),\n",
       "  (5.52, 8.84),\n",
       "  (9.2, 9.24),\n",
       "  (25.88, 27.88),\n",
       "  (31.84, 33.8)]}"
      ]
     },
     "execution_count": 13,
     "metadata": {},
     "output_type": "execute_result"
    }
   ],
   "source": [
    "# video_output = {\n",
    "#     \"SPEAKER_00\": [(3.92, 5.64), (6.4, 6.56), (7.32, 12.68), (180.72, 183.44)],\n",
    "#     \"SPEAKER_01\": [\n",
    "#         (32.76, 45.48),\n",
    "#         (45.84, 81.76),\n",
    "#         (81.92, 82.24),\n",
    "#         (82.68, 87.64),\n",
    "#         (208.0, 238.12),\n",
    "#         (238.76, 243.04),\n",
    "#         (243.36, 249.96),\n",
    "#     ],\n",
    "#     \"SPEAKER_02\": [(87.72, 89.24), (90.24, 91.48), (91.6, 105.52), (107.24, 115.24), (157.0, 175.84), (177.56, 179.8)],\n",
    "# }\n",
    "video_output"
   ]
  },
  {
   "cell_type": "code",
   "execution_count": 14,
   "id": "01aeb620",
   "metadata": {},
   "outputs": [],
   "source": [
    "from dotenv import load_dotenv\n",
    "import os\n",
    "load_dotenv()\n",
    "\n",
    "from pyannote.audio import Pipeline"
   ]
  },
  {
   "cell_type": "code",
   "execution_count": 15,
   "id": "bde54b21",
   "metadata": {},
   "outputs": [],
   "source": [
    "pretrained_pipeline = Pipeline.from_pretrained(\"pyannote/speaker-diarization-3.0\",\n",
    "                                               use_auth_token=os.getenv('HUGGINGFACE_TOKEN'))"
   ]
  },
  {
   "cell_type": "code",
   "execution_count": 16,
   "id": "a0ee9200",
   "metadata": {},
   "outputs": [
    {
     "name": "stderr",
     "output_type": "stream",
     "text": [
      "2024-01-03 23:48:54.231911744 [W:onnxruntime:, session_state.cc:1162 VerifyEachNodeIsAssignedToAnEp] Some nodes were not assigned to the preferred execution providers which may or may not have an negative impact on performance. e.g. ORT explicitly assigns shape related ops to CPU to improve perf.\n",
      "2024-01-03 23:48:54.231943402 [W:onnxruntime:, session_state.cc:1164 VerifyEachNodeIsAssignedToAnEp] Rerunning with verbose output on a non-minimal build will show node assignments.\n"
     ]
    },
    {
     "data": {
      "text/plain": [
       "<pyannote.audio.pipelines.speaker_diarization.SpeakerDiarization at 0x7f0613fef100>"
      ]
     },
     "execution_count": 16,
     "metadata": {},
     "output_type": "execute_result"
    }
   ],
   "source": [
    "import torch\n",
    "pretrained_pipeline.to(torch.device(\"cuda\"))"
   ]
  },
  {
   "cell_type": "code",
   "execution_count": 17,
   "id": "3950ae1b",
   "metadata": {},
   "outputs": [
    {
     "data": {
      "text/plain": [
       "'Videos/Video3/pyavi/audio.wav'"
      ]
     },
     "execution_count": 17,
     "metadata": {},
     "output_type": "execute_result"
    }
   ],
   "source": [
    "args.audioPath"
   ]
  },
  {
   "cell_type": "code",
   "execution_count": 18,
   "id": "4a5eb011",
   "metadata": {},
   "outputs": [],
   "source": [
    "diarization = pretrained_pipeline(args.audioPath)"
   ]
  },
  {
   "cell_type": "code",
   "execution_count": 19,
   "id": "ee7a1f65",
   "metadata": {},
   "outputs": [
    {
     "data": {
      "text/plain": [
       "{'SPEAKER_00': [(0.008488964346349746, 1.2478777589134127),\n",
       "  (8.497453310696097, 9.906621392190154),\n",
       "  (10.619694397283531, 22.53820033955858),\n",
       "  (28.803056027164686, 28.98981324278438),\n",
       "  (29.006791171477083, 29.56706281833616),\n",
       "  (30.61969439728353, 30.908319185059426),\n",
       "  (33.43803056027165, 35.135823429541595)],\n",
       " 'SPEAKER_01': [(0.008488964346349746, 5.254668930390492),\n",
       "  (5.577249575551782, 8.310696095076402),\n",
       "  (20.874363327674025, 21.24787775891341),\n",
       "  (21.6044142614601, 21.859083191850594),\n",
       "  (22.53820033955858, 28.803056027164686),\n",
       "  (28.98981324278438, 34.37181663837012)]}"
      ]
     },
     "execution_count": 19,
     "metadata": {},
     "output_type": "execute_result"
    }
   ],
   "source": [
    "audio_output = {}\n",
    "for duration,_, speaker_key in diarization.itertracks(yield_label=True):\n",
    "    if speaker_key in audio_output.keys():\n",
    "        audio_output[speaker_key].append((duration.start,duration.end))\n",
    "    else:\n",
    "        audio_output[speaker_key] = [(duration.start,duration.end)]\n",
    "audio_output"
   ]
  },
  {
   "cell_type": "code",
   "execution_count": 20,
   "id": "63e6ab73",
   "metadata": {},
   "outputs": [
    {
     "data": {
      "image/png": "[encoded data removed]",
      "text/plain": [
       "<Figure size 1000x200 with 1 Axes>"
      ]
     },
     "metadata": {},
     "output_type": "display_data"
    }
   ],
   "source": [
    "create_annotation_plot(video_output)"
   ]
  },
  {
   "cell_type": "code",
   "execution_count": 21,
   "id": "881ed13c",
   "metadata": {},
   "outputs": [
    {
     "data": {
      "image/png": "[encoded data removed]",
      "text/plain": [
       "<Figure size 1000x200 with 1 Axes>"
      ]
     },
     "metadata": {},
     "output_type": "display_data"
    }
   ],
   "source": [
    "create_annotation_plot(audio_output)"
   ]
  },
  {
   "cell_type": "code",
   "execution_count": 22,
   "id": "5822883d",
   "metadata": {},
   "outputs": [
    {
     "data": {
      "text/plain": [
       "{'SPEAKER_00': 'SPEAKER_00', 'SPEAKER_01': 'SPEAKER_01'}"
      ]
     },
     "execution_count": 22,
     "metadata": {},
     "output_type": "execute_result"
    }
   ],
   "source": [
    "video_audio_mapping = get_video_to_audio_mapping(video_output, audio_output)\n",
    "video_audio_mapping"
   ]
  },
  {
   "cell_type": "code",
   "execution_count": 23,
   "id": "cfac2241",
   "metadata": {},
   "outputs": [
    {
     "name": "stderr",
     "output_type": "stream",
     "text": [
      "Transcribe: 100%|██████████████████████████████████████████████████████████████████████████████████████████████████| 38.13/38.13 [00:03<00:00, 11.46sec/s]\n"
     ]
    }
   ],
   "source": [
    "df = generate_openai_transcription(args.videoPath, model)"
   ]
  },
  {
   "cell_type": "code",
   "execution_count": 24,
   "id": "d7bbe673",
   "metadata": {},
   "outputs": [],
   "source": [
    "df[\"segment_end\"] = df.apply(\n",
    "    lambda row: (row[\"segment_end\"] + 0.1) if row[\"segment_start\"] == row[\"segment_end\"] else row[\"segment_end\"], axis=1\n",
    ")\n",
    "df[\"word_end\"] = df.apply(\n",
    "    lambda row: (row[\"word_end\"] + 0.1) if row[\"word_start\"] == row[\"word_end\"] else row[\"word_end\"], axis=1\n",
    ")\n",
    "segment_df = df[[\"segment_id\", \"segment_text\", \"segment_start\", \"segment_end\"]].drop_duplicates().reset_index(drop=True)\n",
    "word_df = df[[\"segment_id\", \"word\", \"word_start\", \"word_end\"]]\n",
    "segment_df[\"speaker_output\"] = segment_df.apply(\n",
    "    lambda row: get_segment_to_speaker_mapping(\n",
    "        row[\"segment_start\"], row[\"segment_end\"], video_audio_mapping, audio_output\n",
    "    ),\n",
    "    axis=1,\n",
    ")\n",
    "segment_df[\"speaker_key\"] = segment_df[\"speaker_output\"].apply(lambda x: x[0])\n",
    "segment_df[\"speaker_confidence\"] = segment_df[\"speaker_output\"].apply(lambda x: x[1])"
   ]
  },
  {
   "cell_type": "code",
   "execution_count": 25,
   "id": "e80eeba4",
   "metadata": {},
   "outputs": [],
   "source": [
    "segment_df[\"Subtitles\"] = segment_df.apply(\n",
    "    lambda row: srt.Subtitle(\n",
    "        index=row[\"segment_id\"] + 1,\n",
    "        start=timedelta(seconds=row[\"segment_start\"] - 0.1 if row[\"segment_start\"] > 0.1 else row[\"segment_start\"]),\n",
    "        end=timedelta(seconds=row[\"segment_end\"] + 0.1),\n",
    "        content=f\"{row['speaker_key']}: {row['segment_text']}\"\n",
    "    ),\n",
    "    axis=1\n",
    ")"
   ]
  },
  {
   "cell_type": "code",
   "execution_count": 26,
   "id": "3d42873c",
   "metadata": {},
   "outputs": [],
   "source": [
    "# If name mapping known\n",
    "name_mapping = {\"SPEAKER_00\": \"Trump\", \"SPEAKER_01\": \"Piers\"}\n",
    "segment_df[\"Subtitles\"] = segment_df.apply(\n",
    "    lambda row: srt.Subtitle(\n",
    "        index=row[\"segment_id\"] + 1,\n",
    "        start=timedelta(seconds=row[\"segment_start\"] - 0.1 if row[\"segment_start\"] > 0.1 else row[\"segment_start\"]),\n",
    "        end=timedelta(seconds=row[\"segment_end\"] + 0.1),\n",
    "        content=f\"{name_mapping[row['speaker_key']]}: {row['segment_text']}\"\n",
    "    ),\n",
    "    axis=1\n",
    ")"
   ]
  },
  {
   "cell_type": "code",
   "execution_count": 27,
   "id": "8e994173",
   "metadata": {},
   "outputs": [],
   "source": [
    "srt_string = srt.compose(segment_df[\"Subtitles\"].to_list())\n",
    "with open(os.path.join(args.savePath, args.videoName + datetime.now().strftime(\"_%Y%m%d_%H%M%S\") + \".srt\"),\n",
    "          \"w\",\n",
    "         ) as f:\n",
    "    f.write(srt_string)"
   ]
  }
 ],
 "metadata": {
  "kernelspec": {
   "display_name": "Python 3 (ipykernel)",
   "language": "python",
   "name": "python3"
  },
  "language_info": {
   "codemirror_mode": {
    "name": "ipython",
    "version": 3
   },
   "file_extension": ".py",
   "mimetype": "text/x-python",
   "name": "python",
   "nbconvert_exporter": "python",
   "pygments_lexer": "ipython3",
   "version": "3.8.0"
  }
 },
 "nbformat": 4,
 "nbformat_minor": 5
}
